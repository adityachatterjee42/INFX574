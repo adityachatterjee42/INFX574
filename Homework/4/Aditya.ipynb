{
 "cells": [
  {
   "cell_type": "code",
   "execution_count": 3,
   "metadata": {},
   "outputs": [],
   "source": [
    "import sklearn\n",
    "import pandas as pd\n",
    "import numpy as np\n",
    "from sklearn import neighbors, linear_model\n",
    "from matplotlib.colors import ListedColormap\n",
    "import scipy\n",
    "%matplotlib inline\n",
    "import matplotlib.pyplot as plt"
   ]
  },
  {
   "cell_type": "markdown",
   "metadata": {},
   "source": [
    "Creating list of independent variables"
   ]
  },
  {
   "cell_type": "code",
   "execution_count": 4,
   "metadata": {},
   "outputs": [
    {
     "data": {
      "text/plain": [
       "['radius.mean',\n",
       " 'texture.mean',\n",
       " 'perimeter.mean',\n",
       " 'area.mean',\n",
       " 'smoothness.mean',\n",
       " 'compactness.mean',\n",
       " 'concavity.mean',\n",
       " 'concpoints.mean',\n",
       " 'symmetry.mean',\n",
       " 'fracdim.mean',\n",
       " 'radius.se',\n",
       " 'texture.se',\n",
       " 'perimeter.se',\n",
       " 'area.se',\n",
       " 'smoothness.se',\n",
       " 'compactness.se',\n",
       " 'concavity.se',\n",
       " 'concpoints.se',\n",
       " 'symmetry.se',\n",
       " 'fracdim.se',\n",
       " 'radius.worst',\n",
       " 'texture.worst',\n",
       " 'perimeter.worst',\n",
       " 'area.worst',\n",
       " 'smoothness.worst',\n",
       " 'compactness.worst',\n",
       " 'concavity.worst',\n",
       " 'concpoints.worst',\n",
       " 'symmetry.worst',\n",
       " 'fracdim.worst']"
      ]
     },
     "execution_count": 4,
     "metadata": {},
     "output_type": "execute_result"
    }
   ],
   "source": [
    "data = pd.read_csv(\"wdbc.csv.bz2\")\n",
    "data.head()\n",
    "feature_list = list(data)\n",
    "feature_list.remove('id')\n",
    "feature_list.remove('diagnosis')\n",
    "feature_list"
   ]
  },
  {
   "cell_type": "markdown",
   "metadata": {},
   "source": [
    "Describing variables"
   ]
  },
  {
   "cell_type": "code",
   "execution_count": 5,
   "metadata": {},
   "outputs": [
    {
     "data": {
      "text/html": [
       "<div>\n",
       "<style scoped>\n",
       "    .dataframe tbody tr th:only-of-type {\n",
       "        vertical-align: middle;\n",
       "    }\n",
       "\n",
       "    .dataframe tbody tr th {\n",
       "        vertical-align: top;\n",
       "    }\n",
       "\n",
       "    .dataframe thead th {\n",
       "        text-align: right;\n",
       "    }\n",
       "</style>\n",
       "<table border=\"1\" class=\"dataframe\">\n",
       "  <thead>\n",
       "    <tr style=\"text-align: right;\">\n",
       "      <th></th>\n",
       "      <th>id</th>\n",
       "      <th>radius.mean</th>\n",
       "      <th>texture.mean</th>\n",
       "      <th>perimeter.mean</th>\n",
       "      <th>area.mean</th>\n",
       "      <th>smoothness.mean</th>\n",
       "      <th>compactness.mean</th>\n",
       "      <th>concavity.mean</th>\n",
       "      <th>concpoints.mean</th>\n",
       "      <th>symmetry.mean</th>\n",
       "      <th>...</th>\n",
       "      <th>radius.worst</th>\n",
       "      <th>texture.worst</th>\n",
       "      <th>perimeter.worst</th>\n",
       "      <th>area.worst</th>\n",
       "      <th>smoothness.worst</th>\n",
       "      <th>compactness.worst</th>\n",
       "      <th>concavity.worst</th>\n",
       "      <th>concpoints.worst</th>\n",
       "      <th>symmetry.worst</th>\n",
       "      <th>fracdim.worst</th>\n",
       "    </tr>\n",
       "  </thead>\n",
       "  <tbody>\n",
       "    <tr>\n",
       "      <th>count</th>\n",
       "      <td>5.690000e+02</td>\n",
       "      <td>569.000000</td>\n",
       "      <td>569.000000</td>\n",
       "      <td>569.000000</td>\n",
       "      <td>569.000000</td>\n",
       "      <td>569.000000</td>\n",
       "      <td>569.000000</td>\n",
       "      <td>569.000000</td>\n",
       "      <td>569.000000</td>\n",
       "      <td>569.000000</td>\n",
       "      <td>...</td>\n",
       "      <td>569.000000</td>\n",
       "      <td>569.000000</td>\n",
       "      <td>569.000000</td>\n",
       "      <td>569.000000</td>\n",
       "      <td>569.000000</td>\n",
       "      <td>569.000000</td>\n",
       "      <td>569.000000</td>\n",
       "      <td>569.000000</td>\n",
       "      <td>569.000000</td>\n",
       "      <td>569.000000</td>\n",
       "    </tr>\n",
       "    <tr>\n",
       "      <th>mean</th>\n",
       "      <td>3.037183e+07</td>\n",
       "      <td>14.127292</td>\n",
       "      <td>19.289649</td>\n",
       "      <td>91.969033</td>\n",
       "      <td>654.889104</td>\n",
       "      <td>0.096360</td>\n",
       "      <td>0.104341</td>\n",
       "      <td>0.088799</td>\n",
       "      <td>0.048919</td>\n",
       "      <td>0.181162</td>\n",
       "      <td>...</td>\n",
       "      <td>16.269190</td>\n",
       "      <td>25.677223</td>\n",
       "      <td>107.261213</td>\n",
       "      <td>880.583128</td>\n",
       "      <td>0.132369</td>\n",
       "      <td>0.254265</td>\n",
       "      <td>0.272188</td>\n",
       "      <td>0.114606</td>\n",
       "      <td>0.290076</td>\n",
       "      <td>0.083946</td>\n",
       "    </tr>\n",
       "    <tr>\n",
       "      <th>std</th>\n",
       "      <td>1.250206e+08</td>\n",
       "      <td>3.524049</td>\n",
       "      <td>4.301036</td>\n",
       "      <td>24.298981</td>\n",
       "      <td>351.914129</td>\n",
       "      <td>0.014064</td>\n",
       "      <td>0.052813</td>\n",
       "      <td>0.079720</td>\n",
       "      <td>0.038803</td>\n",
       "      <td>0.027414</td>\n",
       "      <td>...</td>\n",
       "      <td>4.833242</td>\n",
       "      <td>6.146258</td>\n",
       "      <td>33.602542</td>\n",
       "      <td>569.356993</td>\n",
       "      <td>0.022832</td>\n",
       "      <td>0.157336</td>\n",
       "      <td>0.208624</td>\n",
       "      <td>0.065732</td>\n",
       "      <td>0.061867</td>\n",
       "      <td>0.018061</td>\n",
       "    </tr>\n",
       "    <tr>\n",
       "      <th>min</th>\n",
       "      <td>8.670000e+03</td>\n",
       "      <td>6.981000</td>\n",
       "      <td>9.710000</td>\n",
       "      <td>43.790000</td>\n",
       "      <td>143.500000</td>\n",
       "      <td>0.052630</td>\n",
       "      <td>0.019380</td>\n",
       "      <td>0.000000</td>\n",
       "      <td>0.000000</td>\n",
       "      <td>0.106000</td>\n",
       "      <td>...</td>\n",
       "      <td>7.930000</td>\n",
       "      <td>12.020000</td>\n",
       "      <td>50.410000</td>\n",
       "      <td>185.200000</td>\n",
       "      <td>0.071170</td>\n",
       "      <td>0.027290</td>\n",
       "      <td>0.000000</td>\n",
       "      <td>0.000000</td>\n",
       "      <td>0.156500</td>\n",
       "      <td>0.055040</td>\n",
       "    </tr>\n",
       "    <tr>\n",
       "      <th>25%</th>\n",
       "      <td>8.692180e+05</td>\n",
       "      <td>11.700000</td>\n",
       "      <td>16.170000</td>\n",
       "      <td>75.170000</td>\n",
       "      <td>420.300000</td>\n",
       "      <td>0.086370</td>\n",
       "      <td>0.064920</td>\n",
       "      <td>0.029560</td>\n",
       "      <td>0.020310</td>\n",
       "      <td>0.161900</td>\n",
       "      <td>...</td>\n",
       "      <td>13.010000</td>\n",
       "      <td>21.080000</td>\n",
       "      <td>84.110000</td>\n",
       "      <td>515.300000</td>\n",
       "      <td>0.116600</td>\n",
       "      <td>0.147200</td>\n",
       "      <td>0.114500</td>\n",
       "      <td>0.064930</td>\n",
       "      <td>0.250400</td>\n",
       "      <td>0.071460</td>\n",
       "    </tr>\n",
       "    <tr>\n",
       "      <th>50%</th>\n",
       "      <td>9.060240e+05</td>\n",
       "      <td>13.370000</td>\n",
       "      <td>18.840000</td>\n",
       "      <td>86.240000</td>\n",
       "      <td>551.100000</td>\n",
       "      <td>0.095870</td>\n",
       "      <td>0.092630</td>\n",
       "      <td>0.061540</td>\n",
       "      <td>0.033500</td>\n",
       "      <td>0.179200</td>\n",
       "      <td>...</td>\n",
       "      <td>14.970000</td>\n",
       "      <td>25.410000</td>\n",
       "      <td>97.660000</td>\n",
       "      <td>686.500000</td>\n",
       "      <td>0.131300</td>\n",
       "      <td>0.211900</td>\n",
       "      <td>0.226700</td>\n",
       "      <td>0.099930</td>\n",
       "      <td>0.282200</td>\n",
       "      <td>0.080040</td>\n",
       "    </tr>\n",
       "    <tr>\n",
       "      <th>75%</th>\n",
       "      <td>8.813129e+06</td>\n",
       "      <td>15.780000</td>\n",
       "      <td>21.800000</td>\n",
       "      <td>104.100000</td>\n",
       "      <td>782.700000</td>\n",
       "      <td>0.105300</td>\n",
       "      <td>0.130400</td>\n",
       "      <td>0.130700</td>\n",
       "      <td>0.074000</td>\n",
       "      <td>0.195700</td>\n",
       "      <td>...</td>\n",
       "      <td>18.790000</td>\n",
       "      <td>29.720000</td>\n",
       "      <td>125.400000</td>\n",
       "      <td>1084.000000</td>\n",
       "      <td>0.146000</td>\n",
       "      <td>0.339100</td>\n",
       "      <td>0.382900</td>\n",
       "      <td>0.161400</td>\n",
       "      <td>0.317900</td>\n",
       "      <td>0.092080</td>\n",
       "    </tr>\n",
       "    <tr>\n",
       "      <th>max</th>\n",
       "      <td>9.113205e+08</td>\n",
       "      <td>28.110000</td>\n",
       "      <td>39.280000</td>\n",
       "      <td>188.500000</td>\n",
       "      <td>2501.000000</td>\n",
       "      <td>0.163400</td>\n",
       "      <td>0.345400</td>\n",
       "      <td>0.426800</td>\n",
       "      <td>0.201200</td>\n",
       "      <td>0.304000</td>\n",
       "      <td>...</td>\n",
       "      <td>36.040000</td>\n",
       "      <td>49.540000</td>\n",
       "      <td>251.200000</td>\n",
       "      <td>4254.000000</td>\n",
       "      <td>0.222600</td>\n",
       "      <td>1.058000</td>\n",
       "      <td>1.252000</td>\n",
       "      <td>0.291000</td>\n",
       "      <td>0.663800</td>\n",
       "      <td>0.207500</td>\n",
       "    </tr>\n",
       "  </tbody>\n",
       "</table>\n",
       "<p>8 rows × 31 columns</p>\n",
       "</div>"
      ],
      "text/plain": [
       "                 id  radius.mean  texture.mean  perimeter.mean    area.mean  \\\n",
       "count  5.690000e+02   569.000000    569.000000      569.000000   569.000000   \n",
       "mean   3.037183e+07    14.127292     19.289649       91.969033   654.889104   \n",
       "std    1.250206e+08     3.524049      4.301036       24.298981   351.914129   \n",
       "min    8.670000e+03     6.981000      9.710000       43.790000   143.500000   \n",
       "25%    8.692180e+05    11.700000     16.170000       75.170000   420.300000   \n",
       "50%    9.060240e+05    13.370000     18.840000       86.240000   551.100000   \n",
       "75%    8.813129e+06    15.780000     21.800000      104.100000   782.700000   \n",
       "max    9.113205e+08    28.110000     39.280000      188.500000  2501.000000   \n",
       "\n",
       "       smoothness.mean  compactness.mean  concavity.mean  concpoints.mean  \\\n",
       "count       569.000000        569.000000      569.000000       569.000000   \n",
       "mean          0.096360          0.104341        0.088799         0.048919   \n",
       "std           0.014064          0.052813        0.079720         0.038803   \n",
       "min           0.052630          0.019380        0.000000         0.000000   \n",
       "25%           0.086370          0.064920        0.029560         0.020310   \n",
       "50%           0.095870          0.092630        0.061540         0.033500   \n",
       "75%           0.105300          0.130400        0.130700         0.074000   \n",
       "max           0.163400          0.345400        0.426800         0.201200   \n",
       "\n",
       "       symmetry.mean      ...        radius.worst  texture.worst  \\\n",
       "count     569.000000      ...          569.000000     569.000000   \n",
       "mean        0.181162      ...           16.269190      25.677223   \n",
       "std         0.027414      ...            4.833242       6.146258   \n",
       "min         0.106000      ...            7.930000      12.020000   \n",
       "25%         0.161900      ...           13.010000      21.080000   \n",
       "50%         0.179200      ...           14.970000      25.410000   \n",
       "75%         0.195700      ...           18.790000      29.720000   \n",
       "max         0.304000      ...           36.040000      49.540000   \n",
       "\n",
       "       perimeter.worst   area.worst  smoothness.worst  compactness.worst  \\\n",
       "count       569.000000   569.000000        569.000000         569.000000   \n",
       "mean        107.261213   880.583128          0.132369           0.254265   \n",
       "std          33.602542   569.356993          0.022832           0.157336   \n",
       "min          50.410000   185.200000          0.071170           0.027290   \n",
       "25%          84.110000   515.300000          0.116600           0.147200   \n",
       "50%          97.660000   686.500000          0.131300           0.211900   \n",
       "75%         125.400000  1084.000000          0.146000           0.339100   \n",
       "max         251.200000  4254.000000          0.222600           1.058000   \n",
       "\n",
       "       concavity.worst  concpoints.worst  symmetry.worst  fracdim.worst  \n",
       "count       569.000000        569.000000      569.000000     569.000000  \n",
       "mean          0.272188          0.114606        0.290076       0.083946  \n",
       "std           0.208624          0.065732        0.061867       0.018061  \n",
       "min           0.000000          0.000000        0.156500       0.055040  \n",
       "25%           0.114500          0.064930        0.250400       0.071460  \n",
       "50%           0.226700          0.099930        0.282200       0.080040  \n",
       "75%           0.382900          0.161400        0.317900       0.092080  \n",
       "max           1.252000          0.291000        0.663800       0.207500  \n",
       "\n",
       "[8 rows x 31 columns]"
      ]
     },
     "execution_count": 5,
     "metadata": {},
     "output_type": "execute_result"
    }
   ],
   "source": [
    "data.describe()"
   ]
  },
  {
   "cell_type": "markdown",
   "metadata": {},
   "source": [
    "Converting diagnosis to 0/1 binary variable, dropping id and original diagnosis to aid model-building."
   ]
  },
  {
   "cell_type": "code",
   "execution_count": 6,
   "metadata": {},
   "outputs": [
    {
     "data": {
      "text/html": [
       "<div>\n",
       "<style scoped>\n",
       "    .dataframe tbody tr th:only-of-type {\n",
       "        vertical-align: middle;\n",
       "    }\n",
       "\n",
       "    .dataframe tbody tr th {\n",
       "        vertical-align: top;\n",
       "    }\n",
       "\n",
       "    .dataframe thead th {\n",
       "        text-align: right;\n",
       "    }\n",
       "</style>\n",
       "<table border=\"1\" class=\"dataframe\">\n",
       "  <thead>\n",
       "    <tr style=\"text-align: right;\">\n",
       "      <th></th>\n",
       "      <th>radius.mean</th>\n",
       "      <th>texture.mean</th>\n",
       "      <th>perimeter.mean</th>\n",
       "      <th>area.mean</th>\n",
       "      <th>smoothness.mean</th>\n",
       "      <th>compactness.mean</th>\n",
       "      <th>concavity.mean</th>\n",
       "      <th>concpoints.mean</th>\n",
       "      <th>symmetry.mean</th>\n",
       "      <th>fracdim.mean</th>\n",
       "      <th>...</th>\n",
       "      <th>texture.worst</th>\n",
       "      <th>perimeter.worst</th>\n",
       "      <th>area.worst</th>\n",
       "      <th>smoothness.worst</th>\n",
       "      <th>compactness.worst</th>\n",
       "      <th>concavity.worst</th>\n",
       "      <th>concpoints.worst</th>\n",
       "      <th>symmetry.worst</th>\n",
       "      <th>fracdim.worst</th>\n",
       "      <th>diagnosis_bin</th>\n",
       "    </tr>\n",
       "  </thead>\n",
       "  <tbody>\n",
       "    <tr>\n",
       "      <th>0</th>\n",
       "      <td>17.99</td>\n",
       "      <td>10.38</td>\n",
       "      <td>122.80</td>\n",
       "      <td>1001.0</td>\n",
       "      <td>0.11840</td>\n",
       "      <td>0.27760</td>\n",
       "      <td>0.3001</td>\n",
       "      <td>0.14710</td>\n",
       "      <td>0.2419</td>\n",
       "      <td>0.07871</td>\n",
       "      <td>...</td>\n",
       "      <td>17.33</td>\n",
       "      <td>184.60</td>\n",
       "      <td>2019.0</td>\n",
       "      <td>0.1622</td>\n",
       "      <td>0.6656</td>\n",
       "      <td>0.7119</td>\n",
       "      <td>0.2654</td>\n",
       "      <td>0.4601</td>\n",
       "      <td>0.11890</td>\n",
       "      <td>1</td>\n",
       "    </tr>\n",
       "    <tr>\n",
       "      <th>1</th>\n",
       "      <td>20.57</td>\n",
       "      <td>17.77</td>\n",
       "      <td>132.90</td>\n",
       "      <td>1326.0</td>\n",
       "      <td>0.08474</td>\n",
       "      <td>0.07864</td>\n",
       "      <td>0.0869</td>\n",
       "      <td>0.07017</td>\n",
       "      <td>0.1812</td>\n",
       "      <td>0.05667</td>\n",
       "      <td>...</td>\n",
       "      <td>23.41</td>\n",
       "      <td>158.80</td>\n",
       "      <td>1956.0</td>\n",
       "      <td>0.1238</td>\n",
       "      <td>0.1866</td>\n",
       "      <td>0.2416</td>\n",
       "      <td>0.1860</td>\n",
       "      <td>0.2750</td>\n",
       "      <td>0.08902</td>\n",
       "      <td>1</td>\n",
       "    </tr>\n",
       "    <tr>\n",
       "      <th>2</th>\n",
       "      <td>19.69</td>\n",
       "      <td>21.25</td>\n",
       "      <td>130.00</td>\n",
       "      <td>1203.0</td>\n",
       "      <td>0.10960</td>\n",
       "      <td>0.15990</td>\n",
       "      <td>0.1974</td>\n",
       "      <td>0.12790</td>\n",
       "      <td>0.2069</td>\n",
       "      <td>0.05999</td>\n",
       "      <td>...</td>\n",
       "      <td>25.53</td>\n",
       "      <td>152.50</td>\n",
       "      <td>1709.0</td>\n",
       "      <td>0.1444</td>\n",
       "      <td>0.4245</td>\n",
       "      <td>0.4504</td>\n",
       "      <td>0.2430</td>\n",
       "      <td>0.3613</td>\n",
       "      <td>0.08758</td>\n",
       "      <td>1</td>\n",
       "    </tr>\n",
       "    <tr>\n",
       "      <th>3</th>\n",
       "      <td>11.42</td>\n",
       "      <td>20.38</td>\n",
       "      <td>77.58</td>\n",
       "      <td>386.1</td>\n",
       "      <td>0.14250</td>\n",
       "      <td>0.28390</td>\n",
       "      <td>0.2414</td>\n",
       "      <td>0.10520</td>\n",
       "      <td>0.2597</td>\n",
       "      <td>0.09744</td>\n",
       "      <td>...</td>\n",
       "      <td>26.50</td>\n",
       "      <td>98.87</td>\n",
       "      <td>567.7</td>\n",
       "      <td>0.2098</td>\n",
       "      <td>0.8663</td>\n",
       "      <td>0.6869</td>\n",
       "      <td>0.2575</td>\n",
       "      <td>0.6638</td>\n",
       "      <td>0.17300</td>\n",
       "      <td>1</td>\n",
       "    </tr>\n",
       "    <tr>\n",
       "      <th>4</th>\n",
       "      <td>20.29</td>\n",
       "      <td>14.34</td>\n",
       "      <td>135.10</td>\n",
       "      <td>1297.0</td>\n",
       "      <td>0.10030</td>\n",
       "      <td>0.13280</td>\n",
       "      <td>0.1980</td>\n",
       "      <td>0.10430</td>\n",
       "      <td>0.1809</td>\n",
       "      <td>0.05883</td>\n",
       "      <td>...</td>\n",
       "      <td>16.67</td>\n",
       "      <td>152.20</td>\n",
       "      <td>1575.0</td>\n",
       "      <td>0.1374</td>\n",
       "      <td>0.2050</td>\n",
       "      <td>0.4000</td>\n",
       "      <td>0.1625</td>\n",
       "      <td>0.2364</td>\n",
       "      <td>0.07678</td>\n",
       "      <td>1</td>\n",
       "    </tr>\n",
       "  </tbody>\n",
       "</table>\n",
       "<p>5 rows × 31 columns</p>\n",
       "</div>"
      ],
      "text/plain": [
       "   radius.mean  texture.mean  perimeter.mean  area.mean  smoothness.mean  \\\n",
       "0        17.99         10.38          122.80     1001.0          0.11840   \n",
       "1        20.57         17.77          132.90     1326.0          0.08474   \n",
       "2        19.69         21.25          130.00     1203.0          0.10960   \n",
       "3        11.42         20.38           77.58      386.1          0.14250   \n",
       "4        20.29         14.34          135.10     1297.0          0.10030   \n",
       "\n",
       "   compactness.mean  concavity.mean  concpoints.mean  symmetry.mean  \\\n",
       "0           0.27760          0.3001          0.14710         0.2419   \n",
       "1           0.07864          0.0869          0.07017         0.1812   \n",
       "2           0.15990          0.1974          0.12790         0.2069   \n",
       "3           0.28390          0.2414          0.10520         0.2597   \n",
       "4           0.13280          0.1980          0.10430         0.1809   \n",
       "\n",
       "   fracdim.mean      ...        texture.worst  perimeter.worst  area.worst  \\\n",
       "0       0.07871      ...                17.33           184.60      2019.0   \n",
       "1       0.05667      ...                23.41           158.80      1956.0   \n",
       "2       0.05999      ...                25.53           152.50      1709.0   \n",
       "3       0.09744      ...                26.50            98.87       567.7   \n",
       "4       0.05883      ...                16.67           152.20      1575.0   \n",
       "\n",
       "   smoothness.worst  compactness.worst  concavity.worst  concpoints.worst  \\\n",
       "0            0.1622             0.6656           0.7119            0.2654   \n",
       "1            0.1238             0.1866           0.2416            0.1860   \n",
       "2            0.1444             0.4245           0.4504            0.2430   \n",
       "3            0.2098             0.8663           0.6869            0.2575   \n",
       "4            0.1374             0.2050           0.4000            0.1625   \n",
       "\n",
       "   symmetry.worst  fracdim.worst  diagnosis_bin  \n",
       "0          0.4601        0.11890              1  \n",
       "1          0.2750        0.08902              1  \n",
       "2          0.3613        0.08758              1  \n",
       "3          0.6638        0.17300              1  \n",
       "4          0.2364        0.07678              1  \n",
       "\n",
       "[5 rows x 31 columns]"
      ]
     },
     "execution_count": 6,
     "metadata": {},
     "output_type": "execute_result"
    }
   ],
   "source": [
    "data['diagnosis_bin'] = np.where(data['diagnosis']=='M', 1, 0)\n",
    "data = data.drop(columns=['id','diagnosis'])\n",
    "data.head()"
   ]
  },
  {
   "cell_type": "markdown",
   "metadata": {},
   "source": [
    "Finding correlation between each independent variable and the binary classification (malignant/benign)"
   ]
  },
  {
   "cell_type": "code",
   "execution_count": 7,
   "metadata": {},
   "outputs": [
    {
     "name": "stdout",
     "output_type": "stream",
     "text": [
      "['radius.mean', 0.7300285113754558]\n",
      "['texture.mean', 0.41518529984520364]\n",
      "['perimeter.mean', 0.742635529725832]\n",
      "['area.mean', 0.7089838365853891]\n",
      "['smoothness.mean', 0.3585599650859317]\n",
      "['compactness.mean', 0.5965336775082525]\n",
      "['concavity.mean', 0.6963597071719048]\n",
      "['concpoints.mean', 0.7766138400204347]\n",
      "['symmetry.mean', 0.33049855426254654]\n",
      "['fracdim.mean', -0.012837602698432347]\n",
      "['radius.se', 0.5671338208247166]\n",
      "['texture.se', -0.008303332973877411]\n",
      "['perimeter.se', 0.5561407034314825]\n",
      "['area.se', 0.5482359402780237]\n",
      "['smoothness.se', -0.06701601057948724]\n",
      "['compactness.se', 0.29299924424885815]\n",
      "['concavity.se', 0.25372976598083014]\n",
      "['concpoints.se', 0.40804233271650414]\n",
      "['symmetry.se', -0.006521755870647973]\n",
      "['fracdim.se', 0.07797241739025601]\n",
      "['radius.worst', 0.7764537785950386]\n",
      "['texture.worst', 0.45690282139679755]\n",
      "['perimeter.worst', 0.7829141371737584]\n",
      "['area.worst', 0.7338250349210504]\n",
      "['smoothness.worst', 0.421464861066402]\n",
      "['compactness.worst', 0.5909982378417913]\n",
      "['concavity.worst', 0.6596102103692325]\n",
      "['concpoints.worst', 0.7935660171412688]\n",
      "['symmetry.worst', 0.41629431104861886]\n",
      "['fracdim.worst', 0.3238721887208234]\n"
     ]
    }
   ],
   "source": [
    "for feature in feature_list:\n",
    "    print([feature, data['diagnosis_bin'].corr(data[feature])])"
   ]
  },
  {
   "cell_type": "markdown",
   "metadata": {},
   "source": [
    "Plotting relationship between variable and outcome for two strongly correlated features (radius.mean, perimeter.worst) and one weak-negatively corrlelated feature (fracdim.mean)"
   ]
  },
  {
   "cell_type": "code",
   "execution_count": 8,
   "metadata": {},
   "outputs": [
    {
     "data": {
      "text/plain": [
       "[<matplotlib.lines.Line2D at 0x7ff3ba8ad390>]"
      ]
     },
     "execution_count": 8,
     "metadata": {},
     "output_type": "execute_result"
    },
    {
     "data": {
      "image/png": "[encoded data removed]",
      "text/plain": [
       "<Figure size 432x288 with 1 Axes>"
      ]
     },
     "metadata": {},
     "output_type": "display_data"
    }
   ],
   "source": [
    "plt.plot(data['radius.mean'], data['diagnosis_bin'], 'o')"
   ]
  },
  {
   "cell_type": "code",
   "execution_count": 9,
   "metadata": {},
   "outputs": [
    {
     "data": {
      "text/plain": [
       "[<matplotlib.lines.Line2D at 0x7ff3bc9346d0>]"
      ]
     },
     "execution_count": 9,
     "metadata": {},
     "output_type": "execute_result"
    },
    {
     "data": {
      "image/png": "[encoded data removed]",
      "text/plain": [
       "<Figure size 432x288 with 1 Axes>"
      ]
     },
     "metadata": {},
     "output_type": "display_data"
    }
   ],
   "source": [
    "plt.plot(data['fracdim.mean'], data['diagnosis_bin'], 'o')"
   ]
  },
  {
   "cell_type": "code",
   "execution_count": 10,
   "metadata": {},
   "outputs": [
    {
     "data": {
      "text/plain": [
       "[<matplotlib.lines.Line2D at 0x7ff3f41aded0>]"
      ]
     },
     "execution_count": 10,
     "metadata": {},
     "output_type": "execute_result"
    },
    {
     "data": {
      "image/png": "[encoded data removed]",
      "text/plain": [
       "<Figure size 432x288 with 1 Axes>"
      ]
     },
     "metadata": {},
     "output_type": "display_data"
    }
   ],
   "source": [
    "plt.plot(data['perimeter.worst'], data['diagnosis_bin'], 'o')"
   ]
  },
  {
   "cell_type": "markdown",
   "metadata": {},
   "source": [
    "Building and plotting KNN and Logistic Regression models using the radius.mean and perimeter.worst features, which were previously found to be strongly, positively correlated with malignant outcome.\n",
    "\n",
    "It can be seen that KNN does a better job than the logistic regression in picking up the actual shape... that being said, we're using a simple linear model for our logistic regression, so our baseline model is not great. "
   ]
  },
  {
   "cell_type": "code",
   "execution_count": 11,
   "metadata": {},
   "outputs": [
    {
     "data": {
      "image/png": "[encoded data removed]",
      "text/plain": [
       "<Figure size 432x288 with 1 Axes>"
      ]
     },
     "metadata": {},
     "output_type": "display_data"
    }
   ],
   "source": [
    "n_neighbors = 5\n",
    "X = data[['radius.mean', 'perimeter.worst']].as_matrix()\n",
    "y = data['diagnosis_bin']\n",
    "\n",
    "h = .02 \n",
    "\n",
    "cmap_light = ListedColormap(['#FFAAAA', '#AAFFAA'])\n",
    "cmap_bold = ListedColormap(['#FF0000', '#00FF00'])\n",
    "\n",
    "clf = neighbors.KNeighborsClassifier(n_neighbors, weights='distance')\n",
    "clf.fit(X, y)\n",
    "\n",
    "x_min, x_max = X[:, 0].min() - 1, X[:, 0].max() + 1\n",
    "y_min, y_max = X[:, 1].min() - 1, X[:, 1].max() + 1\n",
    "xx, yy = np.meshgrid(np.arange(x_min, x_max, h), np.arange(y_min, y_max, h))\n",
    "Z = clf.predict(np.c_[xx.ravel(), yy.ravel()])\n",
    "\n",
    "Z = Z.reshape(xx.shape)\n",
    "plt.figure()\n",
    "plt.pcolormesh(xx, yy, Z, cmap=cmap_light)\n",
    "\n",
    "plt.scatter(X[:, 0], X[:, 1], c=y, cmap=cmap_bold, edgecolor='k', s=20)\n",
    "plt.xlim(xx.min(), xx.max())\n",
    "plt.ylim(yy.min(), yy.max())\n",
    "\n",
    "plt.show()\n"
   ]
  },
  {
   "cell_type": "code",
   "execution_count": 12,
   "metadata": {},
   "outputs": [
    {
     "data": {
      "image/png": "[encoded data removed]",
      "text/plain": [
       "<Figure size 432x288 with 1 Axes>"
      ]
     },
     "metadata": {},
     "output_type": "display_data"
    }
   ],
   "source": [
    "clf = linear_model.LogisticRegression()\n",
    "clf.fit(X, y)\n",
    "x_min, x_max = X[:, 0].min() - 1, X[:, 0].max() + 1\n",
    "y_min, y_max = X[:, 1].min() - 1, X[:, 1].max() + 1\n",
    "xx, yy = np.meshgrid(np.arange(x_min, x_max, h), np.arange(y_min, y_max, h))\n",
    "Z = clf.predict(np.c_[xx.ravel(), yy.ravel()])\n",
    "\n",
    "Z = Z.reshape(xx.shape)\n",
    "plt.figure()\n",
    "plt.pcolormesh(xx, yy, Z, cmap=cmap_light)\n",
    "\n",
    "plt.scatter(X[:, 0], X[:, 1], c=y, cmap=cmap_bold, edgecolor='k', s=20)\n",
    "plt.xlim(xx.min(), xx.max())\n",
    "plt.ylim(yy.min(), yy.max())\n",
    "\n",
    "plt.show()\n"
   ]
  },
  {
   "cell_type": "code",
   "execution_count": 13,
   "metadata": {},
   "outputs": [
    {
     "data": {
      "text/plain": [
       "(569, 2)"
      ]
     },
     "execution_count": 13,
     "metadata": {},
     "output_type": "execute_result"
    }
   ],
   "source": [
    "X.shape"
   ]
  },
  {
   "cell_type": "code",
   "execution_count": 14,
   "metadata": {},
   "outputs": [
    {
     "name": "stderr",
     "output_type": "stream",
     "text": [
      "/home/aditya/.local/lib/python2.7/site-packages/ipykernel_launcher.py:2: SettingWithCopyWarning: \n",
      "A value is trying to be set on a copy of a slice from a DataFrame.\n",
      "Try using .loc[row_indexer,col_indexer] = value instead\n",
      "\n",
      "See the caveats in the documentation: http://pandas.pydata.org/pandas-docs/stable/indexing.html#indexing-view-versus-copy\n",
      "  \n",
      "/home/aditya/.local/lib/python2.7/site-packages/ipykernel_launcher.py:3: SettingWithCopyWarning: \n",
      "A value is trying to be set on a copy of a slice from a DataFrame.\n",
      "Try using .loc[row_indexer,col_indexer] = value instead\n",
      "\n",
      "See the caveats in the documentation: http://pandas.pydata.org/pandas-docs/stable/indexing.html#indexing-view-versus-copy\n",
      "  This is separate from the ipykernel package so we can avoid doing imports until\n",
      "/home/aditya/.local/lib/python2.7/site-packages/ipykernel_launcher.py:4: SettingWithCopyWarning: \n",
      "A value is trying to be set on a copy of a slice from a DataFrame.\n",
      "Try using .loc[row_indexer,col_indexer] = value instead\n",
      "\n",
      "See the caveats in the documentation: http://pandas.pydata.org/pandas-docs/stable/indexing.html#indexing-view-versus-copy\n",
      "  after removing the cwd from sys.path.\n"
     ]
    }
   ],
   "source": [
    "X = data[['radius.mean', 'perimeter.worst']]\n",
    "X['x*y'] = X['radius.mean']*X['perimeter.worst']\n",
    "X['x**2'] = X['radius.mean'] * X['radius.mean']\n",
    "X['y**2'] = X['perimeter.worst'] * X['perimeter.worst']"
   ]
  },
  {
   "cell_type": "code",
   "execution_count": 15,
   "metadata": {},
   "outputs": [
    {
     "data": {
      "text/plain": [
       "(569, 2)"
      ]
     },
     "execution_count": 15,
     "metadata": {},
     "output_type": "execute_result"
    }
   ],
   "source": [
    "X1=X[['x*y','x**2']].as_matrix()\n",
    "X1.shape"
   ]
  },
  {
   "cell_type": "code",
   "execution_count": 16,
   "metadata": {},
   "outputs": [
    {
     "ename": "MemoryError",
     "evalue": "",
     "output_type": "error",
     "traceback": [
      "\u001b[0;31m---------------------------------------------------------------------------\u001b[0m",
      "\u001b[0;31mMemoryError\u001b[0m                               Traceback (most recent call last)",
      "\u001b[0;32m<ipython-input-16-48961e491d2c>\u001b[0m in \u001b[0;36m<module>\u001b[0;34m()\u001b[0m\n\u001b[1;32m      3\u001b[0m \u001b[0mx_min\u001b[0m\u001b[0;34m,\u001b[0m \u001b[0mx_max\u001b[0m \u001b[0;34m=\u001b[0m \u001b[0mX1\u001b[0m\u001b[0;34m[\u001b[0m\u001b[0;34m:\u001b[0m\u001b[0;34m,\u001b[0m \u001b[0;36m0\u001b[0m\u001b[0;34m]\u001b[0m\u001b[0;34m.\u001b[0m\u001b[0mmin\u001b[0m\u001b[0;34m(\u001b[0m\u001b[0;34m)\u001b[0m \u001b[0;34m-\u001b[0m \u001b[0;36m1\u001b[0m\u001b[0;34m,\u001b[0m \u001b[0mX1\u001b[0m\u001b[0;34m[\u001b[0m\u001b[0;34m:\u001b[0m\u001b[0;34m,\u001b[0m \u001b[0;36m0\u001b[0m\u001b[0;34m]\u001b[0m\u001b[0;34m.\u001b[0m\u001b[0mmax\u001b[0m\u001b[0;34m(\u001b[0m\u001b[0;34m)\u001b[0m \u001b[0;34m+\u001b[0m \u001b[0;36m1\u001b[0m\u001b[0;34m\u001b[0m\u001b[0m\n\u001b[1;32m      4\u001b[0m \u001b[0my_min\u001b[0m\u001b[0;34m,\u001b[0m \u001b[0my_max\u001b[0m \u001b[0;34m=\u001b[0m \u001b[0mX1\u001b[0m\u001b[0;34m[\u001b[0m\u001b[0;34m:\u001b[0m\u001b[0;34m,\u001b[0m \u001b[0;36m1\u001b[0m\u001b[0;34m]\u001b[0m\u001b[0;34m.\u001b[0m\u001b[0mmin\u001b[0m\u001b[0;34m(\u001b[0m\u001b[0;34m)\u001b[0m \u001b[0;34m-\u001b[0m \u001b[0;36m1\u001b[0m\u001b[0;34m,\u001b[0m \u001b[0mX1\u001b[0m\u001b[0;34m[\u001b[0m\u001b[0;34m:\u001b[0m\u001b[0;34m,\u001b[0m \u001b[0;36m1\u001b[0m\u001b[0;34m]\u001b[0m\u001b[0;34m.\u001b[0m\u001b[0mmax\u001b[0m\u001b[0;34m(\u001b[0m\u001b[0;34m)\u001b[0m \u001b[0;34m+\u001b[0m \u001b[0;36m1\u001b[0m\u001b[0;34m\u001b[0m\u001b[0m\n\u001b[0;32m----> 5\u001b[0;31m \u001b[0mxx\u001b[0m\u001b[0;34m,\u001b[0m \u001b[0myy\u001b[0m \u001b[0;34m=\u001b[0m \u001b[0mnp\u001b[0m\u001b[0;34m.\u001b[0m\u001b[0mmeshgrid\u001b[0m\u001b[0;34m(\u001b[0m\u001b[0mnp\u001b[0m\u001b[0;34m.\u001b[0m\u001b[0marange\u001b[0m\u001b[0;34m(\u001b[0m\u001b[0mx_min\u001b[0m\u001b[0;34m,\u001b[0m \u001b[0mx_max\u001b[0m\u001b[0;34m,\u001b[0m \u001b[0mh\u001b[0m\u001b[0;34m)\u001b[0m\u001b[0;34m,\u001b[0m \u001b[0mnp\u001b[0m\u001b[0;34m.\u001b[0m\u001b[0marange\u001b[0m\u001b[0;34m(\u001b[0m\u001b[0my_min\u001b[0m\u001b[0;34m,\u001b[0m \u001b[0my_max\u001b[0m\u001b[0;34m,\u001b[0m \u001b[0mh\u001b[0m\u001b[0;34m)\u001b[0m\u001b[0;34m)\u001b[0m\u001b[0;34m\u001b[0m\u001b[0m\n\u001b[0m\u001b[1;32m      6\u001b[0m \u001b[0mZ\u001b[0m \u001b[0;34m=\u001b[0m \u001b[0mclf\u001b[0m\u001b[0;34m.\u001b[0m\u001b[0mpredict\u001b[0m\u001b[0;34m(\u001b[0m\u001b[0mnp\u001b[0m\u001b[0;34m.\u001b[0m\u001b[0mc_\u001b[0m\u001b[0;34m[\u001b[0m\u001b[0mxx\u001b[0m\u001b[0;34m.\u001b[0m\u001b[0mravel\u001b[0m\u001b[0;34m(\u001b[0m\u001b[0;34m)\u001b[0m\u001b[0;34m,\u001b[0m \u001b[0myy\u001b[0m\u001b[0;34m.\u001b[0m\u001b[0mravel\u001b[0m\u001b[0;34m(\u001b[0m\u001b[0;34m)\u001b[0m\u001b[0;34m]\u001b[0m\u001b[0;34m)\u001b[0m\u001b[0;34m\u001b[0m\u001b[0m\n\u001b[1;32m      7\u001b[0m \u001b[0mZ\u001b[0m \u001b[0;34m=\u001b[0m \u001b[0mclf\u001b[0m\u001b[0;34m.\u001b[0m\u001b[0mpredict\u001b[0m\u001b[0;34m(\u001b[0m\u001b[0mX1\u001b[0m\u001b[0;34m)\u001b[0m\u001b[0;34m\u001b[0m\u001b[0m\n",
      "\u001b[0;32m/home/aditya/.local/lib/python2.7/site-packages/numpy/lib/function_base.pyc\u001b[0m in \u001b[0;36mmeshgrid\u001b[0;34m(*xi, **kwargs)\u001b[0m\n\u001b[1;32m   4696\u001b[0m \u001b[0;34m\u001b[0m\u001b[0m\n\u001b[1;32m   4697\u001b[0m     \u001b[0;32mif\u001b[0m \u001b[0mcopy_\u001b[0m\u001b[0;34m:\u001b[0m\u001b[0;34m\u001b[0m\u001b[0m\n\u001b[0;32m-> 4698\u001b[0;31m         \u001b[0moutput\u001b[0m \u001b[0;34m=\u001b[0m \u001b[0;34m[\u001b[0m\u001b[0mx\u001b[0m\u001b[0;34m.\u001b[0m\u001b[0mcopy\u001b[0m\u001b[0;34m(\u001b[0m\u001b[0;34m)\u001b[0m \u001b[0;32mfor\u001b[0m \u001b[0mx\u001b[0m \u001b[0;32min\u001b[0m \u001b[0moutput\u001b[0m\u001b[0;34m]\u001b[0m\u001b[0;34m\u001b[0m\u001b[0m\n\u001b[0m\u001b[1;32m   4699\u001b[0m \u001b[0;34m\u001b[0m\u001b[0m\n\u001b[1;32m   4700\u001b[0m     \u001b[0;32mreturn\u001b[0m \u001b[0moutput\u001b[0m\u001b[0;34m\u001b[0m\u001b[0m\n",
      "\u001b[0;31mMemoryError\u001b[0m: "
     ]
    }
   ],
   "source": [
    "clf = linear_model.LogisticRegression()\n",
    "clf.fit(X1, y)\n",
    "x_min, x_max = X1[:, 0].min() - 1, X1[:, 0].max() + 1\n",
    "y_min, y_max = X1[:, 1].min() - 1, X1[:, 1].max() + 1\n",
    "xx, yy = np.meshgrid(np.arange(x_min, x_max, h), np.arange(y_min, y_max, h))\n",
    "Z = clf.predict(np.c_[xx.ravel(), yy.ravel()])\n",
    "Z = clf.predict(X1)\n",
    "\n",
    "Z = Z.reshape(xx.shape)\n",
    "plt.figure()\n",
    "plt.pcolormesh(xx, yy, Z, cmap=cmap_light)\n",
    "\n",
    "plt.scatter(X1[:, 0], X1[:, 1], c=y, cmap=cmap_bold, edgecolor='k', s=20)\n",
    "plt.xlim(xx.min(), xx.max())\n",
    "plt.ylim(yy.min(), yy.max())\n",
    "\n",
    "plt.show()\n"
   ]
  },
  {
   "cell_type": "markdown",
   "metadata": {},
   "source": [
    "Implemented a custom cross-validation function called crossValidation - it takes the a 2d numpy array and a K value (number of partitions) as input and executes the operation specified in the performOperation function. Separation of concerns increases reusability. "
   ]
  },
  {
   "cell_type": "code",
   "execution_count": 17,
   "metadata": {},
   "outputs": [
    {
     "name": "stdout",
     "output_type": "stream",
     "text": [
      "Iteration:  0\n",
      "Accuracy:  0.8214285714285714\n",
      "Precision:  1.0\n",
      "Recall:  0.5652173913043478\n",
      "Iteration:  1\n",
      "Accuracy:  0.8928571428571429\n",
      "Precision:  0.8095238095238095\n",
      "Recall:  0.8947368421052632\n",
      "Iteration:  2\n",
      "Accuracy:  0.8571428571428571\n",
      "Precision:  0.9285714285714286\n",
      "Recall:  0.65\n",
      "Iteration:  3\n",
      "Accuracy:  0.9285714285714286\n",
      "Precision:  0.9583333333333334\n",
      "Recall:  0.8846153846153846\n",
      "Iteration:  4\n",
      "Accuracy:  0.9464285714285714\n",
      "Precision:  0.8636363636363636\n",
      "Recall:  1.0\n",
      "Iteration:  5\n",
      "Accuracy:  0.9642857142857143\n",
      "Precision:  0.9545454545454546\n",
      "Recall:  0.9545454545454546\n",
      "Iteration:  6\n",
      "Accuracy:  0.9642857142857143\n",
      "Precision:  0.9473684210526315\n",
      "Recall:  0.9473684210526315\n",
      "Iteration:  7\n",
      "Accuracy:  0.9464285714285714\n",
      "Precision:  0.9473684210526315\n",
      "Recall:  0.9\n",
      "Iteration:  8\n",
      "Accuracy:  0.8392857142857143\n",
      "Precision:  0.7916666666666666\n",
      "Recall:  0.8260869565217391\n",
      "Iteration:  9\n",
      "Accuracy:  0.875\n",
      "Precision:  0.7391304347826086\n",
      "Recall:  0.9444444444444444\n",
      "Average Accuracy:  0.9035714285714285\n",
      "Average Precision:  0.8940144333164929\n",
      "Average Recall:  0.8567014894589265\n"
     ]
    }
   ],
   "source": [
    "import math \n",
    "from sklearn import metrics as mt\n",
    "#cross-validation\n",
    "\n",
    "\n",
    "def performOperation(iteration, data_test, data_train):\n",
    "    clf = linear_model.LogisticRegression()\n",
    "    clf.fit(data_train[:,:-1], data_train[:,-1])\n",
    "    predictions = clf.predict(data_test[:,:-1])\n",
    "    score = clf.score(data_test[:,:-1], data_test[:,-1])\n",
    "    print \"Iteration: \", iteration\n",
    "    print \"Accuracy: \", score\n",
    "    print \"Precision: \", mt.precision_score(data_test[:,-1],predictions)\n",
    "    print \"Recall: \", mt.recall_score(data_test[:,-1],predictions)\n",
    "    return (score, mt.precision_score(data_test[:,-1],predictions), mt.recall_score(data_test[:,-1],predictions))\n",
    "    \n",
    "def crossValidation(data, k):\n",
    "    rows = data.shape[0]\n",
    "    size = int(math.floor(rows/k))\n",
    "    indexes = np.array(list(range(data.shape[0])))\n",
    "    np.random.shuffle(indexes)\n",
    "    tot_acc = 0\n",
    "    tot_pre = 0\n",
    "    tot_rec = 0\n",
    "    for i in range(k):\n",
    "        test_start = i*size\n",
    "        test_end = test_start+size\n",
    "        test_indexes = indexes[test_start:test_end]\n",
    "        data_test = data[test_indexes,:]\n",
    "        data_train = data[~test_indexes,:]\n",
    "        tup = performOperation(i, data_test, data_train)\n",
    "        tot_acc = tot_acc + tup[0]\n",
    "        tot_pre = tot_pre + tup[1]\n",
    "        tot_rec = tot_rec + tup[2]\n",
    "    avg_acc = tot_acc/k\n",
    "    avg_pre = tot_pre/k\n",
    "    avg_rec = tot_rec/k\n",
    "    print \"Average Accuracy: \", avg_acc\n",
    "    print \"Average Precision: \", avg_pre\n",
    "    print \"Average Recall: \", avg_rec\n",
    "\n",
    "crossValidation(data.as_matrix(),10)\n",
    "        "
   ]
  },
  {
   "cell_type": "markdown",
   "metadata": {},
   "source": [
    "Repeating for a regularized model using the Lasso method."
   ]
  },
  {
   "cell_type": "code",
   "execution_count": 18,
   "metadata": {},
   "outputs": [
    {
     "name": "stdout",
     "output_type": "stream",
     "text": [
      "Iteration:  0\n",
      "Accuracy:  0.6076825068827427\n",
      "Iteration:  1\n",
      "Accuracy:  0.5633235617913002\n",
      "Iteration:  2\n",
      "Accuracy:  0.5356749088292501\n",
      "Iteration:  3\n",
      "Accuracy:  0.6782803638747208\n",
      "Iteration:  4\n",
      "Accuracy:  0.5304439431708139\n",
      "Iteration:  5\n",
      "Accuracy:  0.19555126539821677\n",
      "Iteration:  6\n",
      "Accuracy:  0.35344858597497575\n",
      "Iteration:  7\n",
      "Accuracy:  0.5375359417891334\n",
      "Iteration:  8\n",
      "Accuracy:  0.5929199838303155\n",
      "Iteration:  9\n",
      "Accuracy:  0.4538694017193555\n",
      "Average Accuracy:  0\n",
      "Average Precision:  0\n",
      "Average Recall:  0\n"
     ]
    }
   ],
   "source": [
    "def performOperation(iteration, data_test, data_train):\n",
    "    clf = linear_model.Lasso()\n",
    "    clf.fit(data_train[:,:-1], data_train[:,-1])\n",
    "    predictions = clf.predict(data_test[:,:-1])\n",
    "    score = clf.score(data_test[:,:-1], data_test[:,-1])\n",
    "    print \"Iteration: \", iteration\n",
    "    print \"Accuracy: \", score\n",
    "    #print \"Precision: \", mt.precision_score(data_test[:,-1],predictions)\n",
    "    #print \"Recall: \", mt.recall_score(data_test[:,-1],predictions)\n",
    "    #return (score, mt.precision_score(data_test[:,-1],predictions), mt.recall_score(data_test[:,-1],predictions))\n",
    "    \n",
    "def crossValidation(data, k):\n",
    "    rows = data.shape[0]\n",
    "    size = int(math.floor(rows/k))\n",
    "    indexes = np.array(list(range(data.shape[0])))\n",
    "    np.random.shuffle(indexes)\n",
    "    tot_acc = 0\n",
    "    tot_pre = 0\n",
    "    tot_rec = 0\n",
    "    for i in range(k):\n",
    "        test_start = i*size\n",
    "        test_end = test_start+size\n",
    "        test_indexes = indexes[test_start:test_end]\n",
    "        data_test = data[test_indexes,:]\n",
    "        data_train = data[~test_indexes,:]\n",
    "        tup = performOperation(i, data_test, data_train)\n",
    "        #tot_acc = tot_acc + tup[0]\n",
    "        #tot_pre = tot_pre + tup[1]\n",
    "        #tot_rec = tot_rec + tup[2]\n",
    "    avg_acc = tot_acc/k\n",
    "    avg_pre = tot_pre/k\n",
    "    avg_rec = tot_rec/k\n",
    "    print \"Average Accuracy: \", avg_acc\n",
    "    print \"Average Precision: \", avg_pre\n",
    "    print \"Average Recall: \", avg_rec\n",
    "\n",
    "crossValidation(data.as_matrix(),10)"
   ]
  },
  {
   "cell_type": "markdown",
   "metadata": {},
   "source": [
    "Plotting ROC curve and precision vs recall for several classification models, using all features in the dataset."
   ]
  },
  {
   "cell_type": "code",
   "execution_count": 19,
   "metadata": {},
   "outputs": [],
   "source": [
    "from sklearn.neighbors import KNeighborsClassifier\n",
    "from sklearn.linear_model import LogisticRegression\n",
    "from sklearn.naive_bayes import GaussianNB\n",
    "from sklearn.model_selection import train_test_split\n",
    "X_train, X_test, y_train, y_test = train_test_split(data.as_matrix()[:,:-1], data.as_matrix()[:,-1], test_size=0.33, random_state=42)\n",
    "\n"
   ]
  },
  {
   "cell_type": "code",
   "execution_count": 22,
   "metadata": {},
   "outputs": [
    {
     "name": "stdout",
     "output_type": "stream",
     "text": [
      "[0.30842087 1.         1.         0.         0.         1.\n",
      " 1.         0.81730177 0.         0.         0.         1.\n",
      " 0.14508286 0.38657458 0.         1.         0.37156815 0.\n",
      " 0.         1.         0.40739654 0.         1.         0.\n",
      " 0.         0.         0.         0.         0.         1.\n",
      " 0.         0.         0.         0.49224925 0.         0.\n",
      " 1.         0.         1.         0.20456907 0.         1.\n",
      " 0.         0.         0.         0.         0.         0.\n",
      " 0.         0.         1.         1.         0.         0.\n",
      " 0.         0.         0.         1.         0.49850033 0.\n",
      " 0.         1.         1.         0.38115036 0.         0.\n",
      " 1.         1.         0.         0.         0.43982312 1.\n",
      " 0.         0.35708211 0.         0.         0.         0.37779257\n",
      " 0.         0.         1.         0.         0.64819735 1.\n",
      " 1.         0.81463772 0.81258893 1.         0.         0.\n",
      " 0.         0.         0.16957958 0.         0.         0.\n",
      " 1.         1.         0.         1.         1.         0.\n",
      " 1.         1.         0.45999953 0.10645109 0.         1.\n",
      " 0.36060098 0.19696443 1.         0.         0.49269356 1.\n",
      " 0.         1.         0.         0.         0.         1.\n",
      " 0.4019036  0.         0.         1.         0.         1.\n",
      " 1.         0.         0.         1.         1.         0.66710211\n",
      " 0.63416513 0.         0.59090216 1.         0.         0.\n",
      " 0.63176308 1.         0.         1.         0.         0.\n",
      " 0.57032703 0.         1.         1.         1.         0.\n",
      " 1.         0.         0.         0.         0.         1.\n",
      " 1.         0.         0.33446851 0.         0.         0.\n",
      " 0.         0.         0.66902556 0.         0.         0.14293001\n",
      " 0.         0.82600221 0.         0.10903548 0.         0.59353104\n",
      " 0.         0.17498582 0.89778149 0.         0.         0.22387513\n",
      " 0.         0.         0.         1.         1.         0.89701617\n",
      " 0.60587607 0.        ]\n"
     ]
    },
    {
     "data": {
      "image/png": "[encoded data removed]",
      "text/plain": [
       "<Figure size 432x288 with 1 Axes>"
      ]
     },
     "metadata": {},
     "output_type": "display_data"
    }
   ],
   "source": [
    "KNNmod5 = KNeighborsClassifier(5, weights='distance')\n",
    "KNNmod5.fit(X_train, y_train)\n",
    "from sklearn.metrics import roc_curve, auc\n",
    "import matplotlib.pyplot as plt\n",
    "plt.style.use('ggplot')\n",
    "%matplotlib inline\n",
    "\n",
    "y_predict_probabilities = KNNmod5.predict_proba(X_test)[:,1]\n",
    "\n",
    "print(y_predict_probabilities)\n",
    "\n",
    "fpr, tpr, _ = roc_curve(y_test, y_predict_probabilities>0.8)\n",
    "roc_auc = auc(fpr, tpr)\n",
    "\n",
    "plt.figure()\n",
    "plt.plot(fpr, tpr, color='darkorange',\n",
    "         lw=2, label='ROC curve (area = %0.2f)' % roc_auc)\n",
    "plt.plot([0, 1], [0, 1], color='navy', lw=2, linestyle='--')\n",
    "plt.xlim([0.0, 1.0])\n",
    "plt.ylim([0.0, 1.05])\n",
    "plt.xlabel('False Positive Rate')\n",
    "plt.ylabel('True Positive Rate')\n",
    "plt.title('ROC Curve')\n",
    "plt.legend(loc=\"lower right\")\n",
    "plt.show()"
   ]
  },
  {
   "cell_type": "code",
   "execution_count": 23,
   "metadata": {},
   "outputs": [
    {
     "data": {
      "image/png": "[encoded data removed]",
      "text/plain": [
       "<Figure size 432x288 with 1 Axes>"
      ]
     },
     "metadata": {},
     "output_type": "display_data"
    }
   ],
   "source": [
    "precision, recall, thresholds = sklearn.metrics.precision_recall_curve(y_test, y_predict_probabilities)\n",
    "plt.plot(recall, precision)\n",
    "plt.title('Precision vs Recall')\n",
    "plt.show()"
   ]
  },
  {
   "cell_type": "code",
   "execution_count": 27,
   "metadata": {},
   "outputs": [
    {
     "name": "stdout",
     "output_type": "stream",
     "text": [
      "[0.30842087 1.         1.         0.         0.         1.\n",
      " 1.         0.81730177 0.         0.         0.         1.\n",
      " 0.14508286 0.38657458 0.         1.         0.37156815 0.\n",
      " 0.         1.         0.40739654 0.         1.         0.\n",
      " 0.         0.         0.         0.         0.         1.\n",
      " 0.         0.         0.         0.49224925 0.         0.\n",
      " 1.         0.         1.         0.20456907 0.         1.\n",
      " 0.         0.         0.         0.         0.         0.\n",
      " 0.         0.         1.         1.         0.         0.\n",
      " 0.         0.         0.         1.         0.49850033 0.\n",
      " 0.         1.         1.         0.38115036 0.         0.\n",
      " 1.         1.         0.         0.         0.43982312 1.\n",
      " 0.         0.35708211 0.         0.         0.         0.37779257\n",
      " 0.         0.         1.         0.         0.64819735 1.\n",
      " 1.         0.81463772 0.81258893 1.         0.         0.\n",
      " 0.         0.         0.16957958 0.         0.         0.\n",
      " 1.         1.         0.         1.         1.         0.\n",
      " 1.         1.         0.45999953 0.10645109 0.         1.\n",
      " 0.36060098 0.19696443 1.         0.         0.49269356 1.\n",
      " 0.         1.         0.         0.         0.         1.\n",
      " 0.4019036  0.         0.         1.         0.         1.\n",
      " 1.         0.         0.         1.         1.         0.66710211\n",
      " 0.63416513 0.         0.59090216 1.         0.         0.\n",
      " 0.63176308 1.         0.         1.         0.         0.\n",
      " 0.57032703 0.         1.         1.         1.         0.\n",
      " 1.         0.         0.         0.         0.         1.\n",
      " 1.         0.         0.33446851 0.         0.         0.\n",
      " 0.         0.         0.66902556 0.         0.         0.14293001\n",
      " 0.         0.82600221 0.         0.10903548 0.         0.59353104\n",
      " 0.         0.17498582 0.89778149 0.         0.         0.22387513\n",
      " 0.         0.         0.         1.         1.         0.89701617\n",
      " 0.60587607 0.        ]\n"
     ]
    },
    {
     "data": {
      "image/png": "[encoded data removed]",
      "text/plain": [
       "<Figure size 432x288 with 1 Axes>"
      ]
     },
     "metadata": {},
     "output_type": "display_data"
    }
   ],
   "source": [
    "KNNmod5 = KNeighborsClassifier(5, weights='distance')\n",
    "KNNmod5.fit(X_train, y_train)\n",
    "from sklearn.metrics import roc_curve, auc\n",
    "import matplotlib.pyplot as plt\n",
    "plt.style.use('ggplot')\n",
    "%matplotlib inline\n",
    "\n",
    "y_predict_probabilities = KNNmod5.predict_proba(X_test)[:,1]\n",
    "\n",
    "print(y_predict_probabilities)\n",
    "\n",
    "fpr, tpr, _ = roc_curve(y_test, y_predict_probabilities>0.6)\n",
    "roc_auc = auc(fpr, tpr)\n",
    "\n",
    "plt.figure()\n",
    "plt.plot(fpr, tpr, color='darkorange',\n",
    "         lw=2, label='ROC curve (area = %0.2f)' % roc_auc)\n",
    "plt.plot([0, 1], [0, 1], color='navy', lw=2, linestyle='--')\n",
    "plt.xlim([0.0, 1.0])\n",
    "plt.ylim([0.0, 1.05])\n",
    "plt.xlabel('False Positive Rate')\n",
    "plt.ylabel('True Positive Rate')\n",
    "plt.title('ROC Curve')\n",
    "plt.legend(loc=\"lower right\")\n",
    "plt.show()"
   ]
  },
  {
   "cell_type": "code",
   "execution_count": 29,
   "metadata": {},
   "outputs": [
    {
     "name": "stdout",
     "output_type": "stream",
     "text": [
      "[0.30842087 1.         1.         0.         0.         1.\n",
      " 1.         0.81730177 0.         0.         0.         1.\n",
      " 0.14508286 0.38657458 0.         1.         0.37156815 0.\n",
      " 0.         1.         0.40739654 0.         1.         0.\n",
      " 0.         0.         0.         0.         0.         1.\n",
      " 0.         0.         0.         0.49224925 0.         0.\n",
      " 1.         0.         1.         0.20456907 0.         1.\n",
      " 0.         0.         0.         0.         0.         0.\n",
      " 0.         0.         1.         1.         0.         0.\n",
      " 0.         0.         0.         1.         0.49850033 0.\n",
      " 0.         1.         1.         0.38115036 0.         0.\n",
      " 1.         1.         0.         0.         0.43982312 1.\n",
      " 0.         0.35708211 0.         0.         0.         0.37779257\n",
      " 0.         0.         1.         0.         0.64819735 1.\n",
      " 1.         0.81463772 0.81258893 1.         0.         0.\n",
      " 0.         0.         0.16957958 0.         0.         0.\n",
      " 1.         1.         0.         1.         1.         0.\n",
      " 1.         1.         0.45999953 0.10645109 0.         1.\n",
      " 0.36060098 0.19696443 1.         0.         0.49269356 1.\n",
      " 0.         1.         0.         0.         0.         1.\n",
      " 0.4019036  0.         0.         1.         0.         1.\n",
      " 1.         0.         0.         1.         1.         0.66710211\n",
      " 0.63416513 0.         0.59090216 1.         0.         0.\n",
      " 0.63176308 1.         0.         1.         0.         0.\n",
      " 0.57032703 0.         1.         1.         1.         0.\n",
      " 1.         0.         0.         0.         0.         1.\n",
      " 1.         0.         0.33446851 0.         0.         0.\n",
      " 0.         0.         0.66902556 0.         0.         0.14293001\n",
      " 0.         0.82600221 0.         0.10903548 0.         0.59353104\n",
      " 0.         0.17498582 0.89778149 0.         0.         0.22387513\n",
      " 0.         0.         0.         1.         1.         0.89701617\n",
      " 0.60587607 0.        ]\n"
     ]
    },
    {
     "data": {
      "image/png": "[encoded data removed]",
      "text/plain": [
       "<Figure size 432x288 with 1 Axes>"
      ]
     },
     "metadata": {},
     "output_type": "display_data"
    }
   ],
   "source": [
    "KNNmod5 = KNeighborsClassifier(5, weights='distance')\n",
    "KNNmod5.fit(X_train, y_train)\n",
    "from sklearn.metrics import roc_curve, auc\n",
    "import matplotlib.pyplot as plt\n",
    "plt.style.use('ggplot')\n",
    "%matplotlib inline\n",
    "\n",
    "y_predict_probabilities = KNNmod5.predict_proba(X_test)[:,1]\n",
    "\n",
    "print(y_predict_probabilities)\n",
    "\n",
    "fpr, tpr, _ = roc_curve(y_test, y_predict_probabilities>0.5)\n",
    "roc_auc = auc(fpr, tpr)\n",
    "\n",
    "plt.figure()\n",
    "plt.plot(fpr, tpr, color='darkorange',\n",
    "         lw=2, label='ROC curve (area = %0.2f)' % roc_auc)\n",
    "plt.plot([0, 1], [0, 1], color='navy', lw=2, linestyle='--')\n",
    "plt.xlim([0.0, 1.0])\n",
    "plt.ylim([0.0, 1.05])\n",
    "plt.xlabel('False Positive Rate')\n",
    "plt.ylabel('True Positive Rate')\n",
    "plt.title('ROC Curve')\n",
    "plt.legend(loc=\"lower right\")\n",
    "plt.show()"
   ]
  },
  {
   "cell_type": "code",
   "execution_count": 33,
   "metadata": {},
   "outputs": [
    {
     "data": {
      "image/png": "[encoded data removed]",
      "text/plain": [
       "<Figure size 432x288 with 1 Axes>"
      ]
     },
     "metadata": {},
     "output_type": "display_data"
    }
   ],
   "source": [
    "KNNmod7 = KNeighborsClassifier(7, weights='distance')\n",
    "KNNmod7.fit(X_train, y_train)\n",
    "from sklearn.metrics import roc_curve, auc\n",
    "import matplotlib.pyplot as plt\n",
    "plt.style.use('ggplot')\n",
    "%matplotlib inline\n",
    "\n",
    "y_predict_probabilities = KNNmod7.predict_proba(X_test)[:,1]\n",
    "\n",
    "fpr, tpr, _ = roc_curve(y_test, y_predict_probabilities>0.7)\n",
    "roc_auc = auc(fpr, tpr)\n",
    "\n",
    "plt.figure()\n",
    "plt.plot(fpr, tpr, color='darkorange',\n",
    "         lw=2, label='ROC curve (area = %0.2f)' % roc_auc)\n",
    "plt.plot([0, 1], [0, 1], color='navy', lw=2, linestyle='--')\n",
    "plt.xlim([0.0, 1.0])\n",
    "plt.ylim([0.0, 1.05])\n",
    "plt.xlabel('False Positive Rate')\n",
    "plt.ylabel('True Positive Rate')\n",
    "plt.title('ROC Curve')\n",
    "plt.legend(loc=\"lower right\")\n",
    "plt.show()"
   ]
  },
  {
   "cell_type": "code",
   "execution_count": 31,
   "metadata": {},
   "outputs": [
    {
     "data": {
      "image/png": "[encoded data removed]",
      "text/plain": [
       "<Figure size 432x288 with 1 Axes>"
      ]
     },
     "metadata": {},
     "output_type": "display_data"
    }
   ],
   "source": [
    "precision, recall, thresholds = sklearn.metrics.precision_recall_curve(y_test, y_predict_probabilities)\n",
    "plt.plot(recall, precision)\n",
    "plt.title('Precision vs Recall')\n",
    "plt.show()"
   ]
  },
  {
   "cell_type": "code",
   "execution_count": 32,
   "metadata": {},
   "outputs": [
    {
     "name": "stdout",
     "output_type": "stream",
     "text": [
      "[0.30842087 1.         1.         0.         0.         1.\n",
      " 1.         0.81730177 0.         0.         0.         1.\n",
      " 0.14508286 0.38657458 0.         1.         0.37156815 0.\n",
      " 0.         1.         0.40739654 0.         1.         0.\n",
      " 0.         0.         0.         0.         0.         1.\n",
      " 0.         0.         0.         0.49224925 0.         0.\n",
      " 1.         0.         1.         0.20456907 0.         1.\n",
      " 0.         0.         0.         0.         0.         0.\n",
      " 0.         0.         1.         1.         0.         0.\n",
      " 0.         0.         0.         1.         0.49850033 0.\n",
      " 0.         1.         1.         0.38115036 0.         0.\n",
      " 1.         1.         0.         0.         0.43982312 1.\n",
      " 0.         0.35708211 0.         0.         0.         0.37779257\n",
      " 0.         0.         1.         0.         0.64819735 1.\n",
      " 1.         0.81463772 0.81258893 1.         0.         0.\n",
      " 0.         0.         0.16957958 0.         0.         0.\n",
      " 1.         1.         0.         1.         1.         0.\n",
      " 1.         1.         0.45999953 0.10645109 0.         1.\n",
      " 0.36060098 0.19696443 1.         0.         0.49269356 1.\n",
      " 0.         1.         0.         0.         0.         1.\n",
      " 0.4019036  0.         0.         1.         0.         1.\n",
      " 1.         0.         0.         1.         1.         0.66710211\n",
      " 0.63416513 0.         0.59090216 1.         0.         0.\n",
      " 0.63176308 1.         0.         1.         0.         0.\n",
      " 0.57032703 0.         1.         1.         1.         0.\n",
      " 1.         0.         0.         0.         0.         1.\n",
      " 1.         0.         0.33446851 0.         0.         0.\n",
      " 0.         0.         0.66902556 0.         0.         0.14293001\n",
      " 0.         0.82600221 0.         0.10903548 0.         0.59353104\n",
      " 0.         0.17498582 0.89778149 0.         0.         0.22387513\n",
      " 0.         0.         0.         1.         1.         0.89701617\n",
      " 0.60587607 0.        ]\n"
     ]
    },
    {
     "data": {
      "image/png": "[encoded data removed]",
      "text/plain": [
       "<Figure size 432x288 with 1 Axes>"
      ]
     },
     "metadata": {},
     "output_type": "display_data"
    }
   ],
   "source": [
    "KNNmod5 = KNeighborsClassifier(5, weights='distance')\n",
    "KNNmod5.fit(X_train, y_train)\n",
    "from sklearn.metrics import roc_curve, auc\n",
    "import matplotlib.pyplot as plt\n",
    "plt.style.use('ggplot')\n",
    "%matplotlib inline\n",
    "\n",
    "y_predict_probabilities = KNNmod5.predict_proba(X_test)[:,1]\n",
    "\n",
    "print(y_predict_probabilities)\n",
    "\n",
    "fpr, tpr, _ = roc_curve(y_test, y_predict_probabilities>0.5)\n",
    "roc_auc = auc(fpr, tpr)\n",
    "\n",
    "plt.figure()\n",
    "plt.plot(fpr, tpr, color='darkorange',\n",
    "         lw=2, label='ROC curve (area = %0.2f)' % roc_auc)\n",
    "plt.plot([0, 1], [0, 1], color='navy', lw=2, linestyle='--')\n",
    "plt.xlim([0.0, 1.0])\n",
    "plt.ylim([0.0, 1.05])\n",
    "plt.xlabel('False Positive Rate')\n",
    "plt.ylabel('True Positive Rate')\n",
    "plt.title('ROC Curve')\n",
    "plt.legend(loc=\"lower right\")\n",
    "plt.show()"
   ]
  },
  {
   "cell_type": "code",
   "execution_count": null,
   "metadata": {},
   "outputs": [],
   "source": [
    "GNBmod = GaussianNB()\n",
    "GNBmod.fit(X_train, y_train)\n",
    "from sklearn.metrics import roc_curve, auc\n",
    "import matplotlib.pyplot as plt\n",
    "plt.style.use('ggplot')\n",
    "%matplotlib inline\n",
    "\n",
    "y_predict_probabilities = GNBmod.predict_proba(X_test)[:,1]\n",
    "\n",
    "fpr, tpr, _ = roc_curve(y_test, y_predict_probabilities)\n",
    "roc_auc = auc(fpr, tpr)\n",
    "\n",
    "plt.figure()\n",
    "plt.plot(fpr, tpr, color='darkorange',\n",
    "         lw=2, label='ROC curve (area = %0.2f)' % roc_auc)\n",
    "plt.plot([0, 1], [0, 1], color='navy', lw=2, linestyle='--')\n",
    "plt.xlim([0.0, 1.0])\n",
    "plt.ylim([0.0, 1.05])\n",
    "plt.xlabel('False Positive Rate')\n",
    "plt.ylabel('True Positive Rate')\n",
    "plt.title('ROC Curve')\n",
    "plt.legend(loc=\"lower right\")\n",
    "plt.show()"
   ]
  },
  {
   "cell_type": "code",
   "execution_count": 34,
   "metadata": {},
   "outputs": [
    {
     "data": {
      "image/png": "[encoded data removed]",
      "text/plain": [
       "<Figure size 432x288 with 1 Axes>"
      ]
     },
     "metadata": {},
     "output_type": "display_data"
    }
   ],
   "source": [
    "precision, recall, thresholds = sklearn.metrics.precision_recall_curve(y_test, y_predict_probabilities)\n",
    "plt.plot(recall, precision)\n",
    "plt.title('Precision vs Recall')\n",
    "plt.show()"
   ]
  },
  {
   "cell_type": "code",
   "execution_count": 35,
   "metadata": {},
   "outputs": [
    {
     "data": {
      "image/png": "[encoded data removed]",
      "text/plain": [
       "<Figure size 432x288 with 1 Axes>"
      ]
     },
     "metadata": {},
     "output_type": "display_data"
    }
   ],
   "source": [
    "LRmod = LogisticRegression()\n",
    "LRmod.fit(X_train, y_train)\n",
    "from sklearn.metrics import roc_curve, auc\n",
    "import matplotlib.pyplot as plt\n",
    "plt.style.use('ggplot')\n",
    "%matplotlib inline\n",
    "\n",
    "y_predict_probabilities = LRmod.predict_proba(X_test)[:,1]\n",
    "\n",
    "fpr, tpr, _ = roc_curve(y_test, y_predict_probabilities>0.7)\n",
    "roc_auc = auc(fpr, tpr)\n",
    "\n",
    "plt.figure()\n",
    "plt.plot(fpr, tpr, color='darkorange',\n",
    "         lw=2, label='ROC curve (area = %0.2f)' % roc_auc)\n",
    "plt.plot([0, 1], [0, 1], color='navy', lw=2, linestyle='--')\n",
    "plt.xlim([0.0, 1.0])\n",
    "plt.ylim([0.0, 1.05])\n",
    "plt.xlabel('False Positive Rate')\n",
    "plt.ylabel('True Positive Rate')\n",
    "plt.title('ROC Curve')\n",
    "plt.legend(loc=\"lower right\")\n",
    "plt.show()"
   ]
  },
  {
   "cell_type": "code",
   "execution_count": 36,
   "metadata": {},
   "outputs": [
    {
     "data": {
      "image/png": "[encoded data removed]",
      "text/plain": [
       "<Figure size 432x288 with 1 Axes>"
      ]
     },
     "metadata": {},
     "output_type": "display_data"
    }
   ],
   "source": [
    "precision, recall, thresholds = sklearn.metrics.precision_recall_curve(y_test, y_predict_probabilities)\n",
    "plt.plot(recall, precision)\n",
    "plt.title('Precision vs Recall')\n",
    "plt.show()"
   ]
  },
  {
   "cell_type": "code",
   "execution_count": 37,
   "metadata": {},
   "outputs": [
    {
     "data": {
      "image/png": "[encoded data removed]",
      "text/plain": [
       "<Figure size 432x288 with 1 Axes>"
      ]
     },
     "metadata": {},
     "output_type": "display_data"
    }
   ],
   "source": [
    "LRmod = LogisticRegression()\n",
    "LRmod.fit(X_train, y_train)\n",
    "from sklearn.metrics import roc_curve, auc\n",
    "import matplotlib.pyplot as plt\n",
    "plt.style.use('ggplot')\n",
    "%matplotlib inline\n",
    "\n",
    "y_predict_probabilities = LRmod.predict_proba(X_test)[:,1]\n",
    "\n",
    "fpr, tpr, _ = roc_curve(y_test, y_predict_probabilities>0.5)\n",
    "roc_auc = auc(fpr, tpr)\n",
    "\n",
    "plt.figure()\n",
    "plt.plot(fpr, tpr, color='darkorange',\n",
    "         lw=2, label='ROC curve (area = %0.2f)' % roc_auc)\n",
    "plt.plot([0, 1], [0, 1], color='navy', lw=2, linestyle='--')\n",
    "plt.xlim([0.0, 1.0])\n",
    "plt.ylim([0.0, 1.05])\n",
    "plt.xlabel('False Positive Rate')\n",
    "plt.ylabel('True Positive Rate')\n",
    "plt.title('ROC Curve')\n",
    "plt.legend(loc=\"lower right\")\n",
    "plt.show()"
   ]
  },
  {
   "cell_type": "markdown",
   "metadata": {},
   "source": []
  }
 ],
 "metadata": {
  "kernelspec": {
   "display_name": "Python 2",
   "language": "python",
   "name": "python2"
  },
  "language_info": {
   "codemirror_mode": {
    "name": "ipython",
    "version": 2
   },
   "file_extension": ".py",
   "mimetype": "text/x-python",
   "name": "python",
   "nbconvert_exporter": "python",
   "pygments_lexer": "ipython2",
   "version": "2.7.12"
  }
 },
 "nbformat": 4,
 "nbformat_minor": 2
}
