{
 "cells": [
  {
   "cell_type": "markdown",
   "metadata": {
    "ein.tags": "worksheet-0",
    "slideshow": {
     "slide_type": "-"
    }
   },
   "source": [
    "# Problem Set 1\n",
    "Due April 11th at 5:30pm -- at the start of the class so we can\n",
    "discuss the solutions in class.\n",
    "\n",
    "### Before You Start\n",
    "\n",
    "Make sure to at least take a basic tutorial in the IPython notebook,\n",
    "otherwise you'll be totally lost.  For this problem set, you should\n",
    "download flights.csv.bz2 and weather.csv.bz2 datasets from\n",
    "Canvas (files-data).   Rename the notebook to\n",
    "LASTNAME_FIRSTNAME-PS1.ipynb.\n",
    "\n",
    "When done, please submit\n",
    "1. the notebook itself\n",
    "2. the rendered html or pdf of it.\n",
    "\n"
   ]
  },
  {
   "cell_type": "markdown",
   "metadata": {
    "ein.tags": "worksheet-0",
    "slideshow": {
     "slide_type": "-"
    }
   },
   "source": [
    "## About the Problem Set: \n",
    "\n",
    "This problem set is rather similar to ones used for R, dplyr, and\n",
    "flights data.  Just we use python and pandas.\n",
    "\n",
    "In this problem set you will perform a basic exploratory analysis on\n",
    "an example dataset, bringing to bear all of your new skills in data\n",
    "manipulation and visualization. You will be required to submit well\n",
    "commented python code, documenting all code used in this problem set,\n",
    "along with a write up answering all questions below. Use figures as\n",
    "appropriate to support your answers, and when required by the problem.\n"
   ]
  },
  {
   "cell_type": "markdown",
   "metadata": {
    "ein.tags": "worksheet-0",
    "slideshow": {
     "slide_type": "-"
    }
   },
   "source": [
    "## Preliminaries\n",
    "\n",
    "You should also make sure the following libraries load correctly (click on the box below and hit Ctrl-Enter)"
   ]
  },
  {
   "cell_type": "code",
   "execution_count": 2,
   "metadata": {
    "autoscroll": false,
    "ein.tags": "worksheet-0",
    "slideshow": {
     "slide_type": "-"
    }
   },
   "outputs": [
    {
     "name": "stdout",
     "output_type": "stream",
     "text": [
      "IPython version:       6.2.1 (need at least 1.0)\n",
      "Numpy version:        1.13.1 (need at least 1.7.1)\n",
      "SciPy version:         1.0.1 (need at least 0.12.0)\n",
      "Pandas version:       0.22.0 (need at least 0.11.0)\n",
      "Mapltolib version:     2.1.2 (need at least 1.2.1)\n",
      "Scikit-Learn version: 0.19.1 (need at least 0.13.1)\n"
     ]
    }
   ],
   "source": [
    "#IPython is what you are using now to run the notebook\n",
    "import IPython\n",
    "print( \"IPython version:      %6.6s (need at least 1.0)\" % IPython.__version__)\n",
    "\n",
    "# Numpy is a library for working with Arrays\n",
    "import numpy as np\n",
    "print( \"Numpy version:        %6.6s (need at least 1.7.1)\" % np.__version__)\n",
    "\n",
    "# SciPy implements many different numerical algorithms\n",
    "import scipy as sp\n",
    "print( \"SciPy version:        %6.6s (need at least 0.12.0)\" % sp.__version__)\n",
    "\n",
    "# Pandas makes working with data tables easier\n",
    "import pandas as pd\n",
    "print( \"Pandas version:       %6.6s (need at least 0.11.0)\" % pd.__version__)\n",
    "\n",
    "# Module for plotting\n",
    "import matplotlib\n",
    "print( \"Mapltolib version:    %6.6s (need at least 1.2.1)\" %\n",
    "       matplotlib.__version__)\n",
    "%matplotlib inline\n",
    "# necessary for in-line graphics\n",
    "\n",
    "# SciKit Learn implements several Machine Learning algorithms\n",
    "import sklearn\n",
    "print( \"Scikit-Learn version: %6.6s (need at least 0.13.1)\" % sklearn.__version__)"
   ]
  },
  {
   "cell_type": "code",
   "execution_count": 22,
   "metadata": {
    "autoscroll": false,
    "ein.tags": "worksheet-0",
    "slideshow": {
     "slide_type": "-"
    }
   },
   "outputs": [],
   "source": [
    "## Let's read the data and print some summary information\n",
    "## adjust the path for your file system!\n",
    "flights_df= pd.read_csv('flights.csv.bz2')"
   ]
  },
  {
   "cell_type": "code",
   "execution_count": 4,
   "metadata": {
    "autoscroll": false,
    "ein.tags": "worksheet-0",
    "slideshow": {
     "slide_type": "-"
    }
   },
   "outputs": [
    {
     "name": "stdout",
     "output_type": "stream",
     "text": [
      "(336776, 17)\n",
      "Index(['Unnamed: 0', 'year', 'month', 'day', 'dep_time', 'dep_delay',\n",
      "       'arr_time', 'arr_delay', 'carrier', 'tailnum', 'flight', 'origin',\n",
      "       'dest', 'air_time', 'distance', 'hour', 'minute'],\n",
      "      dtype='object')\n",
      "Unnamed: 0      int64\n",
      "year            int64\n",
      "month           int64\n",
      "day             int64\n",
      "dep_time      float64\n",
      "dep_delay     float64\n",
      "arr_time      float64\n",
      "arr_delay     float64\n",
      "carrier        object\n",
      "tailnum        object\n",
      "flight          int64\n",
      "origin         object\n",
      "dest           object\n",
      "air_time      float64\n",
      "distance        int64\n",
      "hour          float64\n",
      "minute        float64\n",
      "dtype: object\n"
     ]
    }
   ],
   "source": [
    "print (flights_df.shape)\n",
    "print (flights_df.columns)\n",
    "print (flights_df.dtypes)"
   ]
  },
  {
   "cell_type": "code",
   "execution_count": 5,
   "metadata": {
    "autoscroll": false,
    "ein.tags": "worksheet-0",
    "slideshow": {
     "slide_type": "-"
    }
   },
   "outputs": [
    {
     "data": {
      "text/html": [
       "<div>\n",
       "<style scoped>\n",
       "    .dataframe tbody tr th:only-of-type {\n",
       "        vertical-align: middle;\n",
       "    }\n",
       "\n",
       "    .dataframe tbody tr th {\n",
       "        vertical-align: top;\n",
       "    }\n",
       "\n",
       "    .dataframe thead th {\n",
       "        text-align: right;\n",
       "    }\n",
       "</style>\n",
       "<table border=\"1\" class=\"dataframe\">\n",
       "  <thead>\n",
       "    <tr style=\"text-align: right;\">\n",
       "      <th></th>\n",
       "      <th>Unnamed: 0</th>\n",
       "      <th>year</th>\n",
       "      <th>month</th>\n",
       "      <th>day</th>\n",
       "      <th>dep_time</th>\n",
       "      <th>dep_delay</th>\n",
       "      <th>arr_time</th>\n",
       "      <th>arr_delay</th>\n",
       "      <th>carrier</th>\n",
       "      <th>tailnum</th>\n",
       "      <th>flight</th>\n",
       "      <th>origin</th>\n",
       "      <th>dest</th>\n",
       "      <th>air_time</th>\n",
       "      <th>distance</th>\n",
       "      <th>hour</th>\n",
       "      <th>minute</th>\n",
       "    </tr>\n",
       "  </thead>\n",
       "  <tbody>\n",
       "    <tr>\n",
       "      <th>0</th>\n",
       "      <td>1</td>\n",
       "      <td>2013</td>\n",
       "      <td>1</td>\n",
       "      <td>1</td>\n",
       "      <td>517.0</td>\n",
       "      <td>2.0</td>\n",
       "      <td>830.0</td>\n",
       "      <td>11.0</td>\n",
       "      <td>UA</td>\n",
       "      <td>N14228</td>\n",
       "      <td>1545</td>\n",
       "      <td>EWR</td>\n",
       "      <td>IAH</td>\n",
       "      <td>227.0</td>\n",
       "      <td>1400</td>\n",
       "      <td>5.0</td>\n",
       "      <td>17.0</td>\n",
       "    </tr>\n",
       "    <tr>\n",
       "      <th>1</th>\n",
       "      <td>2</td>\n",
       "      <td>2013</td>\n",
       "      <td>1</td>\n",
       "      <td>1</td>\n",
       "      <td>533.0</td>\n",
       "      <td>4.0</td>\n",
       "      <td>850.0</td>\n",
       "      <td>20.0</td>\n",
       "      <td>UA</td>\n",
       "      <td>N24211</td>\n",
       "      <td>1714</td>\n",
       "      <td>LGA</td>\n",
       "      <td>IAH</td>\n",
       "      <td>227.0</td>\n",
       "      <td>1416</td>\n",
       "      <td>5.0</td>\n",
       "      <td>33.0</td>\n",
       "    </tr>\n",
       "    <tr>\n",
       "      <th>2</th>\n",
       "      <td>3</td>\n",
       "      <td>2013</td>\n",
       "      <td>1</td>\n",
       "      <td>1</td>\n",
       "      <td>542.0</td>\n",
       "      <td>2.0</td>\n",
       "      <td>923.0</td>\n",
       "      <td>33.0</td>\n",
       "      <td>AA</td>\n",
       "      <td>N619AA</td>\n",
       "      <td>1141</td>\n",
       "      <td>JFK</td>\n",
       "      <td>MIA</td>\n",
       "      <td>160.0</td>\n",
       "      <td>1089</td>\n",
       "      <td>5.0</td>\n",
       "      <td>42.0</td>\n",
       "    </tr>\n",
       "    <tr>\n",
       "      <th>3</th>\n",
       "      <td>4</td>\n",
       "      <td>2013</td>\n",
       "      <td>1</td>\n",
       "      <td>1</td>\n",
       "      <td>544.0</td>\n",
       "      <td>-1.0</td>\n",
       "      <td>1004.0</td>\n",
       "      <td>-18.0</td>\n",
       "      <td>B6</td>\n",
       "      <td>N804JB</td>\n",
       "      <td>725</td>\n",
       "      <td>JFK</td>\n",
       "      <td>BQN</td>\n",
       "      <td>183.0</td>\n",
       "      <td>1576</td>\n",
       "      <td>5.0</td>\n",
       "      <td>44.0</td>\n",
       "    </tr>\n",
       "    <tr>\n",
       "      <th>4</th>\n",
       "      <td>5</td>\n",
       "      <td>2013</td>\n",
       "      <td>1</td>\n",
       "      <td>1</td>\n",
       "      <td>554.0</td>\n",
       "      <td>-6.0</td>\n",
       "      <td>812.0</td>\n",
       "      <td>-25.0</td>\n",
       "      <td>DL</td>\n",
       "      <td>N668DN</td>\n",
       "      <td>461</td>\n",
       "      <td>LGA</td>\n",
       "      <td>ATL</td>\n",
       "      <td>116.0</td>\n",
       "      <td>762</td>\n",
       "      <td>5.0</td>\n",
       "      <td>54.0</td>\n",
       "    </tr>\n",
       "    <tr>\n",
       "      <th>5</th>\n",
       "      <td>6</td>\n",
       "      <td>2013</td>\n",
       "      <td>1</td>\n",
       "      <td>1</td>\n",
       "      <td>554.0</td>\n",
       "      <td>-4.0</td>\n",
       "      <td>740.0</td>\n",
       "      <td>12.0</td>\n",
       "      <td>UA</td>\n",
       "      <td>N39463</td>\n",
       "      <td>1696</td>\n",
       "      <td>EWR</td>\n",
       "      <td>ORD</td>\n",
       "      <td>150.0</td>\n",
       "      <td>719</td>\n",
       "      <td>5.0</td>\n",
       "      <td>54.0</td>\n",
       "    </tr>\n",
       "    <tr>\n",
       "      <th>6</th>\n",
       "      <td>7</td>\n",
       "      <td>2013</td>\n",
       "      <td>1</td>\n",
       "      <td>1</td>\n",
       "      <td>555.0</td>\n",
       "      <td>-5.0</td>\n",
       "      <td>913.0</td>\n",
       "      <td>19.0</td>\n",
       "      <td>B6</td>\n",
       "      <td>N516JB</td>\n",
       "      <td>507</td>\n",
       "      <td>EWR</td>\n",
       "      <td>FLL</td>\n",
       "      <td>158.0</td>\n",
       "      <td>1065</td>\n",
       "      <td>5.0</td>\n",
       "      <td>55.0</td>\n",
       "    </tr>\n",
       "    <tr>\n",
       "      <th>7</th>\n",
       "      <td>8</td>\n",
       "      <td>2013</td>\n",
       "      <td>1</td>\n",
       "      <td>1</td>\n",
       "      <td>557.0</td>\n",
       "      <td>-3.0</td>\n",
       "      <td>709.0</td>\n",
       "      <td>-14.0</td>\n",
       "      <td>EV</td>\n",
       "      <td>N829AS</td>\n",
       "      <td>5708</td>\n",
       "      <td>LGA</td>\n",
       "      <td>IAD</td>\n",
       "      <td>53.0</td>\n",
       "      <td>229</td>\n",
       "      <td>5.0</td>\n",
       "      <td>57.0</td>\n",
       "    </tr>\n",
       "    <tr>\n",
       "      <th>8</th>\n",
       "      <td>9</td>\n",
       "      <td>2013</td>\n",
       "      <td>1</td>\n",
       "      <td>1</td>\n",
       "      <td>557.0</td>\n",
       "      <td>-3.0</td>\n",
       "      <td>838.0</td>\n",
       "      <td>-8.0</td>\n",
       "      <td>B6</td>\n",
       "      <td>N593JB</td>\n",
       "      <td>79</td>\n",
       "      <td>JFK</td>\n",
       "      <td>MCO</td>\n",
       "      <td>140.0</td>\n",
       "      <td>944</td>\n",
       "      <td>5.0</td>\n",
       "      <td>57.0</td>\n",
       "    </tr>\n",
       "    <tr>\n",
       "      <th>9</th>\n",
       "      <td>10</td>\n",
       "      <td>2013</td>\n",
       "      <td>1</td>\n",
       "      <td>1</td>\n",
       "      <td>558.0</td>\n",
       "      <td>-2.0</td>\n",
       "      <td>753.0</td>\n",
       "      <td>8.0</td>\n",
       "      <td>AA</td>\n",
       "      <td>N3ALAA</td>\n",
       "      <td>301</td>\n",
       "      <td>LGA</td>\n",
       "      <td>ORD</td>\n",
       "      <td>138.0</td>\n",
       "      <td>733</td>\n",
       "      <td>5.0</td>\n",
       "      <td>58.0</td>\n",
       "    </tr>\n",
       "    <tr>\n",
       "      <th>10</th>\n",
       "      <td>11</td>\n",
       "      <td>2013</td>\n",
       "      <td>1</td>\n",
       "      <td>1</td>\n",
       "      <td>558.0</td>\n",
       "      <td>-2.0</td>\n",
       "      <td>849.0</td>\n",
       "      <td>-2.0</td>\n",
       "      <td>B6</td>\n",
       "      <td>N793JB</td>\n",
       "      <td>49</td>\n",
       "      <td>JFK</td>\n",
       "      <td>PBI</td>\n",
       "      <td>149.0</td>\n",
       "      <td>1028</td>\n",
       "      <td>5.0</td>\n",
       "      <td>58.0</td>\n",
       "    </tr>\n",
       "    <tr>\n",
       "      <th>11</th>\n",
       "      <td>12</td>\n",
       "      <td>2013</td>\n",
       "      <td>1</td>\n",
       "      <td>1</td>\n",
       "      <td>558.0</td>\n",
       "      <td>-2.0</td>\n",
       "      <td>853.0</td>\n",
       "      <td>-3.0</td>\n",
       "      <td>B6</td>\n",
       "      <td>N657JB</td>\n",
       "      <td>71</td>\n",
       "      <td>JFK</td>\n",
       "      <td>TPA</td>\n",
       "      <td>158.0</td>\n",
       "      <td>1005</td>\n",
       "      <td>5.0</td>\n",
       "      <td>58.0</td>\n",
       "    </tr>\n",
       "    <tr>\n",
       "      <th>12</th>\n",
       "      <td>13</td>\n",
       "      <td>2013</td>\n",
       "      <td>1</td>\n",
       "      <td>1</td>\n",
       "      <td>558.0</td>\n",
       "      <td>-2.0</td>\n",
       "      <td>924.0</td>\n",
       "      <td>7.0</td>\n",
       "      <td>UA</td>\n",
       "      <td>N29129</td>\n",
       "      <td>194</td>\n",
       "      <td>JFK</td>\n",
       "      <td>LAX</td>\n",
       "      <td>345.0</td>\n",
       "      <td>2475</td>\n",
       "      <td>5.0</td>\n",
       "      <td>58.0</td>\n",
       "    </tr>\n",
       "    <tr>\n",
       "      <th>13</th>\n",
       "      <td>14</td>\n",
       "      <td>2013</td>\n",
       "      <td>1</td>\n",
       "      <td>1</td>\n",
       "      <td>558.0</td>\n",
       "      <td>-2.0</td>\n",
       "      <td>923.0</td>\n",
       "      <td>-14.0</td>\n",
       "      <td>UA</td>\n",
       "      <td>N53441</td>\n",
       "      <td>1124</td>\n",
       "      <td>EWR</td>\n",
       "      <td>SFO</td>\n",
       "      <td>361.0</td>\n",
       "      <td>2565</td>\n",
       "      <td>5.0</td>\n",
       "      <td>58.0</td>\n",
       "    </tr>\n",
       "    <tr>\n",
       "      <th>14</th>\n",
       "      <td>15</td>\n",
       "      <td>2013</td>\n",
       "      <td>1</td>\n",
       "      <td>1</td>\n",
       "      <td>559.0</td>\n",
       "      <td>-1.0</td>\n",
       "      <td>941.0</td>\n",
       "      <td>31.0</td>\n",
       "      <td>AA</td>\n",
       "      <td>N3DUAA</td>\n",
       "      <td>707</td>\n",
       "      <td>LGA</td>\n",
       "      <td>DFW</td>\n",
       "      <td>257.0</td>\n",
       "      <td>1389</td>\n",
       "      <td>5.0</td>\n",
       "      <td>59.0</td>\n",
       "    </tr>\n",
       "    <tr>\n",
       "      <th>15</th>\n",
       "      <td>16</td>\n",
       "      <td>2013</td>\n",
       "      <td>1</td>\n",
       "      <td>1</td>\n",
       "      <td>559.0</td>\n",
       "      <td>0.0</td>\n",
       "      <td>702.0</td>\n",
       "      <td>-4.0</td>\n",
       "      <td>B6</td>\n",
       "      <td>N708JB</td>\n",
       "      <td>1806</td>\n",
       "      <td>JFK</td>\n",
       "      <td>BOS</td>\n",
       "      <td>44.0</td>\n",
       "      <td>187</td>\n",
       "      <td>5.0</td>\n",
       "      <td>59.0</td>\n",
       "    </tr>\n",
       "    <tr>\n",
       "      <th>16</th>\n",
       "      <td>17</td>\n",
       "      <td>2013</td>\n",
       "      <td>1</td>\n",
       "      <td>1</td>\n",
       "      <td>559.0</td>\n",
       "      <td>-1.0</td>\n",
       "      <td>854.0</td>\n",
       "      <td>-8.0</td>\n",
       "      <td>UA</td>\n",
       "      <td>N76515</td>\n",
       "      <td>1187</td>\n",
       "      <td>EWR</td>\n",
       "      <td>LAS</td>\n",
       "      <td>337.0</td>\n",
       "      <td>2227</td>\n",
       "      <td>5.0</td>\n",
       "      <td>59.0</td>\n",
       "    </tr>\n",
       "    <tr>\n",
       "      <th>17</th>\n",
       "      <td>18</td>\n",
       "      <td>2013</td>\n",
       "      <td>1</td>\n",
       "      <td>1</td>\n",
       "      <td>600.0</td>\n",
       "      <td>0.0</td>\n",
       "      <td>851.0</td>\n",
       "      <td>-7.0</td>\n",
       "      <td>B6</td>\n",
       "      <td>N595JB</td>\n",
       "      <td>371</td>\n",
       "      <td>LGA</td>\n",
       "      <td>FLL</td>\n",
       "      <td>152.0</td>\n",
       "      <td>1076</td>\n",
       "      <td>6.0</td>\n",
       "      <td>0.0</td>\n",
       "    </tr>\n",
       "    <tr>\n",
       "      <th>18</th>\n",
       "      <td>19</td>\n",
       "      <td>2013</td>\n",
       "      <td>1</td>\n",
       "      <td>1</td>\n",
       "      <td>600.0</td>\n",
       "      <td>0.0</td>\n",
       "      <td>837.0</td>\n",
       "      <td>12.0</td>\n",
       "      <td>MQ</td>\n",
       "      <td>N542MQ</td>\n",
       "      <td>4650</td>\n",
       "      <td>LGA</td>\n",
       "      <td>ATL</td>\n",
       "      <td>134.0</td>\n",
       "      <td>762</td>\n",
       "      <td>6.0</td>\n",
       "      <td>0.0</td>\n",
       "    </tr>\n",
       "    <tr>\n",
       "      <th>19</th>\n",
       "      <td>20</td>\n",
       "      <td>2013</td>\n",
       "      <td>1</td>\n",
       "      <td>1</td>\n",
       "      <td>601.0</td>\n",
       "      <td>1.0</td>\n",
       "      <td>844.0</td>\n",
       "      <td>-6.0</td>\n",
       "      <td>B6</td>\n",
       "      <td>N644JB</td>\n",
       "      <td>343</td>\n",
       "      <td>EWR</td>\n",
       "      <td>PBI</td>\n",
       "      <td>147.0</td>\n",
       "      <td>1023</td>\n",
       "      <td>6.0</td>\n",
       "      <td>1.0</td>\n",
       "    </tr>\n",
       "    <tr>\n",
       "      <th>20</th>\n",
       "      <td>21</td>\n",
       "      <td>2013</td>\n",
       "      <td>1</td>\n",
       "      <td>1</td>\n",
       "      <td>602.0</td>\n",
       "      <td>-8.0</td>\n",
       "      <td>812.0</td>\n",
       "      <td>-8.0</td>\n",
       "      <td>DL</td>\n",
       "      <td>N971DL</td>\n",
       "      <td>1919</td>\n",
       "      <td>LGA</td>\n",
       "      <td>MSP</td>\n",
       "      <td>170.0</td>\n",
       "      <td>1020</td>\n",
       "      <td>6.0</td>\n",
       "      <td>2.0</td>\n",
       "    </tr>\n",
       "    <tr>\n",
       "      <th>21</th>\n",
       "      <td>22</td>\n",
       "      <td>2013</td>\n",
       "      <td>1</td>\n",
       "      <td>1</td>\n",
       "      <td>602.0</td>\n",
       "      <td>-3.0</td>\n",
       "      <td>821.0</td>\n",
       "      <td>16.0</td>\n",
       "      <td>MQ</td>\n",
       "      <td>N730MQ</td>\n",
       "      <td>4401</td>\n",
       "      <td>LGA</td>\n",
       "      <td>DTW</td>\n",
       "      <td>105.0</td>\n",
       "      <td>502</td>\n",
       "      <td>6.0</td>\n",
       "      <td>2.0</td>\n",
       "    </tr>\n",
       "    <tr>\n",
       "      <th>22</th>\n",
       "      <td>23</td>\n",
       "      <td>2013</td>\n",
       "      <td>1</td>\n",
       "      <td>1</td>\n",
       "      <td>606.0</td>\n",
       "      <td>-4.0</td>\n",
       "      <td>858.0</td>\n",
       "      <td>-12.0</td>\n",
       "      <td>AA</td>\n",
       "      <td>N633AA</td>\n",
       "      <td>1895</td>\n",
       "      <td>EWR</td>\n",
       "      <td>MIA</td>\n",
       "      <td>152.0</td>\n",
       "      <td>1085</td>\n",
       "      <td>6.0</td>\n",
       "      <td>6.0</td>\n",
       "    </tr>\n",
       "    <tr>\n",
       "      <th>23</th>\n",
       "      <td>24</td>\n",
       "      <td>2013</td>\n",
       "      <td>1</td>\n",
       "      <td>1</td>\n",
       "      <td>606.0</td>\n",
       "      <td>-4.0</td>\n",
       "      <td>837.0</td>\n",
       "      <td>-8.0</td>\n",
       "      <td>DL</td>\n",
       "      <td>N3739P</td>\n",
       "      <td>1743</td>\n",
       "      <td>JFK</td>\n",
       "      <td>ATL</td>\n",
       "      <td>128.0</td>\n",
       "      <td>760</td>\n",
       "      <td>6.0</td>\n",
       "      <td>6.0</td>\n",
       "    </tr>\n",
       "    <tr>\n",
       "      <th>24</th>\n",
       "      <td>25</td>\n",
       "      <td>2013</td>\n",
       "      <td>1</td>\n",
       "      <td>1</td>\n",
       "      <td>607.0</td>\n",
       "      <td>0.0</td>\n",
       "      <td>858.0</td>\n",
       "      <td>-17.0</td>\n",
       "      <td>UA</td>\n",
       "      <td>N53442</td>\n",
       "      <td>1077</td>\n",
       "      <td>EWR</td>\n",
       "      <td>MIA</td>\n",
       "      <td>157.0</td>\n",
       "      <td>1085</td>\n",
       "      <td>6.0</td>\n",
       "      <td>7.0</td>\n",
       "    </tr>\n",
       "  </tbody>\n",
       "</table>\n",
       "</div>"
      ],
      "text/plain": [
       "    Unnamed: 0  year  month  day  dep_time  dep_delay  arr_time  arr_delay  \\\n",
       "0            1  2013      1    1     517.0        2.0     830.0       11.0   \n",
       "1            2  2013      1    1     533.0        4.0     850.0       20.0   \n",
       "2            3  2013      1    1     542.0        2.0     923.0       33.0   \n",
       "3            4  2013      1    1     544.0       -1.0    1004.0      -18.0   \n",
       "4            5  2013      1    1     554.0       -6.0     812.0      -25.0   \n",
       "5            6  2013      1    1     554.0       -4.0     740.0       12.0   \n",
       "6            7  2013      1    1     555.0       -5.0     913.0       19.0   \n",
       "7            8  2013      1    1     557.0       -3.0     709.0      -14.0   \n",
       "8            9  2013      1    1     557.0       -3.0     838.0       -8.0   \n",
       "9           10  2013      1    1     558.0       -2.0     753.0        8.0   \n",
       "10          11  2013      1    1     558.0       -2.0     849.0       -2.0   \n",
       "11          12  2013      1    1     558.0       -2.0     853.0       -3.0   \n",
       "12          13  2013      1    1     558.0       -2.0     924.0        7.0   \n",
       "13          14  2013      1    1     558.0       -2.0     923.0      -14.0   \n",
       "14          15  2013      1    1     559.0       -1.0     941.0       31.0   \n",
       "15          16  2013      1    1     559.0        0.0     702.0       -4.0   \n",
       "16          17  2013      1    1     559.0       -1.0     854.0       -8.0   \n",
       "17          18  2013      1    1     600.0        0.0     851.0       -7.0   \n",
       "18          19  2013      1    1     600.0        0.0     837.0       12.0   \n",
       "19          20  2013      1    1     601.0        1.0     844.0       -6.0   \n",
       "20          21  2013      1    1     602.0       -8.0     812.0       -8.0   \n",
       "21          22  2013      1    1     602.0       -3.0     821.0       16.0   \n",
       "22          23  2013      1    1     606.0       -4.0     858.0      -12.0   \n",
       "23          24  2013      1    1     606.0       -4.0     837.0       -8.0   \n",
       "24          25  2013      1    1     607.0        0.0     858.0      -17.0   \n",
       "\n",
       "   carrier tailnum  flight origin dest  air_time  distance  hour  minute  \n",
       "0       UA  N14228    1545    EWR  IAH     227.0      1400   5.0    17.0  \n",
       "1       UA  N24211    1714    LGA  IAH     227.0      1416   5.0    33.0  \n",
       "2       AA  N619AA    1141    JFK  MIA     160.0      1089   5.0    42.0  \n",
       "3       B6  N804JB     725    JFK  BQN     183.0      1576   5.0    44.0  \n",
       "4       DL  N668DN     461    LGA  ATL     116.0       762   5.0    54.0  \n",
       "5       UA  N39463    1696    EWR  ORD     150.0       719   5.0    54.0  \n",
       "6       B6  N516JB     507    EWR  FLL     158.0      1065   5.0    55.0  \n",
       "7       EV  N829AS    5708    LGA  IAD      53.0       229   5.0    57.0  \n",
       "8       B6  N593JB      79    JFK  MCO     140.0       944   5.0    57.0  \n",
       "9       AA  N3ALAA     301    LGA  ORD     138.0       733   5.0    58.0  \n",
       "10      B6  N793JB      49    JFK  PBI     149.0      1028   5.0    58.0  \n",
       "11      B6  N657JB      71    JFK  TPA     158.0      1005   5.0    58.0  \n",
       "12      UA  N29129     194    JFK  LAX     345.0      2475   5.0    58.0  \n",
       "13      UA  N53441    1124    EWR  SFO     361.0      2565   5.0    58.0  \n",
       "14      AA  N3DUAA     707    LGA  DFW     257.0      1389   5.0    59.0  \n",
       "15      B6  N708JB    1806    JFK  BOS      44.0       187   5.0    59.0  \n",
       "16      UA  N76515    1187    EWR  LAS     337.0      2227   5.0    59.0  \n",
       "17      B6  N595JB     371    LGA  FLL     152.0      1076   6.0     0.0  \n",
       "18      MQ  N542MQ    4650    LGA  ATL     134.0       762   6.0     0.0  \n",
       "19      B6  N644JB     343    EWR  PBI     147.0      1023   6.0     1.0  \n",
       "20      DL  N971DL    1919    LGA  MSP     170.0      1020   6.0     2.0  \n",
       "21      MQ  N730MQ    4401    LGA  DTW     105.0       502   6.0     2.0  \n",
       "22      AA  N633AA    1895    EWR  MIA     152.0      1085   6.0     6.0  \n",
       "23      DL  N3739P    1743    JFK  ATL     128.0       760   6.0     6.0  \n",
       "24      UA  N53442    1077    EWR  MIA     157.0      1085   6.0     7.0  "
      ]
     },
     "execution_count": 5,
     "metadata": {},
     "output_type": "execute_result"
    }
   ],
   "source": [
    "flights_df.dest.unique()\n",
    "flights_df.head(25)"
   ]
  },
  {
   "cell_type": "markdown",
   "metadata": {
    "ein.tags": "worksheet-0",
    "slideshow": {
     "slide_type": "-"
    }
   },
   "source": [
    "## Some Tips\n",
    "\n",
    "* This assignment involves extensive Data frame splitting and aggregation. You should look into the details of the methods groupby, transform, sum, count, mean etc\n",
    "* Many of the tasks in the assignment can be done either through the Pandas Data Frame or by converting the data frames to Series. Many of the methods in the numpy are applicable to Series only. When stuck, try to explore the type of object (Pandas Data Frame or Numpy Series) you are dealing with."
   ]
  },
  {
   "cell_type": "markdown",
   "metadata": {
    "ein.tags": "worksheet-0",
    "slideshow": {
     "slide_type": "-"
    }
   },
   "source": [
    "## Question 1\n",
    "Let’s explore flights from NYC to Seattle. Use the flights dataset to answer the following questions.\n",
    "\n",
    "(a) How many flights were there from NYC airports to Seattle in 2013?"
   ]
  },
  {
   "cell_type": "code",
   "execution_count": 6,
   "metadata": {
    "autoscroll": false,
    "ein.tags": "worksheet-0",
    "slideshow": {
     "slide_type": "-"
    }
   },
   "outputs": [
    {
     "name": "stdout",
     "output_type": "stream",
     "text": [
      "Unnamed: 0    3923\n",
      "year          3923\n",
      "month         3923\n",
      "day           3923\n",
      "dep_time      3904\n",
      "dep_delay     3904\n",
      "arr_time      3903\n",
      "arr_delay     3885\n",
      "carrier       3923\n",
      "tailnum       3917\n",
      "flight        3923\n",
      "origin        3923\n",
      "dest          3923\n",
      "air_time      3885\n",
      "distance      3923\n",
      "hour          3904\n",
      "minute        3904\n",
      "dtype: int64\n"
     ]
    }
   ],
   "source": [
    "print(flights_df[flights_df['dest']=='SEA'].count())"
   ]
  },
  {
   "cell_type": "markdown",
   "metadata": {
    "ein.tags": "worksheet-0",
    "slideshow": {
     "slide_type": "-"
    }
   },
   "source": [
    "There were 3923 flights from NYC airports to Seattle in 2013. Some columns have a smaller count value due to missing data."
   ]
  },
  {
   "cell_type": "markdown",
   "metadata": {
    "ein.tags": "worksheet-0",
    "slideshow": {
     "slide_type": "-"
    }
   },
   "source": [
    "(b) How many airlines fly from NYC to Seattle?"
   ]
  },
  {
   "cell_type": "code",
   "execution_count": 7,
   "metadata": {
    "autoscroll": false,
    "ein.tags": "worksheet-0",
    "slideshow": {
     "slide_type": "-"
    }
   },
   "outputs": [
    {
     "name": "stdout",
     "output_type": "stream",
     "text": [
      "['AS' 'DL' 'UA' 'B6' 'AA']\n"
     ]
    }
   ],
   "source": [
    "print(flights_df[flights_df['dest']=='SEA'].carrier.unique())"
   ]
  },
  {
   "cell_type": "markdown",
   "metadata": {
    "ein.tags": "worksheet-0",
    "slideshow": {
     "slide_type": "-"
    }
   },
   "source": [
    "5 airlines fly from NYC to Seattle."
   ]
  },
  {
   "cell_type": "markdown",
   "metadata": {
    "ein.tags": "worksheet-0",
    "slideshow": {
     "slide_type": "-"
    }
   },
   "source": [
    "(c) How many unique air planes fly from NYC to Seattle?"
   ]
  },
  {
   "cell_type": "code",
   "execution_count": 8,
   "metadata": {
    "autoscroll": false,
    "ein.tags": "worksheet-0",
    "slideshow": {
     "slide_type": "-"
    }
   },
   "outputs": [
    {
     "name": "stdout",
     "output_type": "stream",
     "text": [
      "936\n"
     ]
    }
   ],
   "source": [
    "print(len(flights_df[flights_df['dest']=='SEA'].tailnum.unique()))"
   ]
  },
  {
   "cell_type": "markdown",
   "metadata": {
    "ein.tags": "worksheet-0",
    "slideshow": {
     "slide_type": "-"
    }
   },
   "source": [
    "936 airplanes fly from NYC to Seattle."
   ]
  },
  {
   "cell_type": "markdown",
   "metadata": {
    "ein.tags": "worksheet-0",
    "slideshow": {
     "slide_type": "-"
    }
   },
   "source": [
    "(d) What is the average arrival delay for flights from NC to Seattle?"
   ]
  },
  {
   "cell_type": "code",
   "execution_count": 9,
   "metadata": {
    "autoscroll": false,
    "ein.tags": "worksheet-0",
    "slideshow": {
     "slide_type": "-"
    }
   },
   "outputs": [
    {
     "name": "stdout",
     "output_type": "stream",
     "text": [
      "-1.0990990991\n"
     ]
    }
   ],
   "source": [
    "print(flights_df[flights_df['dest'] == 'SEA'].arr_delay.mean())"
   ]
  },
  {
   "cell_type": "markdown",
   "metadata": {
    "ein.tags": "worksheet-0",
    "slideshow": {
     "slide_type": "-"
    }
   },
   "source": [
    "On average, flights arrive in Seattle ~1 minute early."
   ]
  },
  {
   "cell_type": "markdown",
   "metadata": {
    "ein.tags": "worksheet-0",
    "slideshow": {
     "slide_type": "-"
    }
   },
   "source": [
    "(e) What proportion of flights to Seattle come from each NYC airport?"
   ]
  },
  {
   "cell_type": "code",
   "execution_count": 10,
   "metadata": {
    "autoscroll": false,
    "ein.tags": "worksheet-0",
    "slideshow": {
     "slide_type": "-"
    }
   },
   "outputs": [
    {
     "name": "stdout",
     "output_type": "stream",
     "text": [
      "EWR:\n",
      "0.466734641856\n",
      "JFK:\n",
      "0.533265358144\n"
     ]
    }
   ],
   "source": [
    "tot=origin_airports=(flights_df[flights_df['dest'] == 'SEA'].origin.count())\n",
    "origin_airports=(flights_df[flights_df['dest'] == 'SEA'].origin.unique())\n",
    "for airport in origin_airports:\n",
    "    print(airport+\":\")\n",
    "    print(flights_df[(flights_df['origin'] == airport) & (flights_df['dest'] == 'SEA')].flight.count()/tot)"
   ]
  },
  {
   "cell_type": "markdown",
   "metadata": {
    "ein.tags": "worksheet-0",
    "slideshow": {
     "slide_type": "-"
    }
   },
   "source": [
    "No flights originate from LGA\n",
    "~46.7% of flights originate from EWR\n",
    "~53.3% of flights originate from JFK"
   ]
  },
  {
   "cell_type": "markdown",
   "metadata": {
    "ein.tags": "worksheet-0",
    "slideshow": {
     "slide_type": "-"
    }
   },
   "source": [
    "## Question 2\n",
    "Flights are often delayed. Consider the following questions exploring delay patterns.\n",
    "\n",
    "(a) Which date has the largest average departure delay? Which date has the largest average arrival delay?"
   ]
  },
  {
   "cell_type": "code",
   "execution_count": 11,
   "metadata": {
    "autoscroll": false,
    "ein.tags": "worksheet-0",
    "slideshow": {
     "slide_type": "-"
    }
   },
   "outputs": [
    {
     "name": "stdout",
     "output_type": "stream",
     "text": [
      "year  month  day\n",
      "2013  3      8      102.903522\n",
      "      9      2      101.682609\n",
      "             12     100.859903\n",
      "      5      23      92.242009\n",
      "      7      10      92.024857\n",
      "Name: dep_delay, dtype: float64\n",
      "year  month  day\n",
      "2013  7      10     110.093439\n",
      "      9      2      102.811364\n",
      "      7      22     102.343470\n",
      "      9      12     100.024540\n",
      "      3      8       97.485315\n",
      "Name: arr_delay, dtype: float64\n"
     ]
    }
   ],
   "source": [
    "print(flights_df[flights_df['dep_delay']>0].groupby(['year', 'month', 'day'])['dep_delay'].mean().sort_values(ascending=False).head())\n",
    "print(flights_df[flights_df['arr_delay']>0].groupby(['year', 'month', 'day'])['arr_delay'].mean().sort_values(ascending=False).head())\n"
   ]
  },
  {
   "cell_type": "markdown",
   "metadata": {
    "ein.tags": "worksheet-0",
    "slideshow": {
     "slide_type": "-"
    }
   },
   "source": [
    "Note: I have only considered flights with non-negative delay \n",
    "2013-3-8 had the longest average departure delay\n",
    "2013-7-10 had the longest average arival delay"
   ]
  },
  {
   "cell_type": "markdown",
   "metadata": {
    "ein.tags": "worksheet-0",
    "slideshow": {
     "slide_type": "-"
    }
   },
   "source": [
    "(b) What was the worst day to fly out of NYC in 2013 if you dislike delayed flights?\n"
   ]
  },
  {
   "cell_type": "code",
   "execution_count": 12,
   "metadata": {
    "autoscroll": false,
    "ein.tags": "worksheet-0",
    "slideshow": {
     "slide_type": "-"
    }
   },
   "outputs": [
    {
     "name": "stdout",
     "output_type": "stream",
     "text": [
      "year  month  day\n",
      "2013  12     23     674\n",
      "      3      8      653\n",
      "      7      1      652\n",
      "      6      25     649\n",
      "      7      23     645\n",
      "Name: dep_delay, dtype: int64\n"
     ]
    }
   ],
   "source": [
    "print(flights_df[flights_df['dep_delay']>0].groupby(['year', 'month', 'day'])['dep_delay'].count().sort_values(ascending=False).head())"
   ]
  },
  {
   "cell_type": "markdown",
   "metadata": {
    "ein.tags": "worksheet-0",
    "slideshow": {
     "slide_type": "-"
    }
   },
   "source": [
    "Assuming that 'disliking delayed flights' corresponds to flying on days with the largest total number of delayed flights, 2013-12-23 would be the worst day, with 674 delayed flights"
   ]
  },
  {
   "cell_type": "markdown",
   "metadata": {
    "ein.tags": "worksheet-0",
    "slideshow": {
     "slide_type": "-"
    }
   },
   "source": [
    "(c) Are there any seasonal patterns in departure delays for flights from NYC?"
   ]
  },
  {
   "cell_type": "code",
   "execution_count": 13,
   "metadata": {
    "autoscroll": false,
    "ein.tags": "worksheet-0",
    "slideshow": {
     "slide_type": "-"
    }
   },
   "outputs": [
    {
     "name": "stdout",
     "output_type": "stream",
     "text": [
      "month\n",
      "1     35.335334\n",
      "2     35.299540\n",
      "3     39.616380\n",
      "4     44.185241\n",
      "5     39.245151\n",
      "6     49.790913\n",
      "7     48.807822\n",
      "8     37.274311\n",
      "9     35.676775\n",
      "10    31.560651\n",
      "11    28.707246\n",
      "12    37.203469\n",
      "Name: dep_delay, dtype: float64\n"
     ]
    }
   ],
   "source": [
    "print(flights_df[flights_df['dep_delay']>0].groupby(['month']).dep_delay.mean())"
   ]
  },
  {
   "cell_type": "markdown",
   "metadata": {
    "ein.tags": "worksheet-0",
    "slideshow": {
     "slide_type": "-"
    }
   },
   "source": [
    "Yes, there are seasonal patterns in departure delays for flights. June and July appear to have the most delayed flights."
   ]
  },
  {
   "cell_type": "markdown",
   "metadata": {
    "ein.tags": "worksheet-0",
    "slideshow": {
     "slide_type": "-"
    }
   },
   "source": [
    "(d) On average, how do departure delays vary over the course of a day?"
   ]
  },
  {
   "cell_type": "code",
   "execution_count": 14,
   "metadata": {
    "autoscroll": false,
    "ein.tags": "worksheet-0",
    "slideshow": {
     "slide_type": "-"
    }
   },
   "outputs": [
    {
     "name": "stdout",
     "output_type": "stream",
     "text": [
      "dep_hour\n",
      "0.0     128.642452\n",
      "1.0     207.049327\n",
      "2.0     239.921875\n",
      "3.0     304.727273\n",
      "5.0       6.592391\n",
      "6.0      11.272904\n",
      "7.0      17.932435\n",
      "8.0      19.484653\n",
      "9.0      26.300290\n",
      "10.0     27.960072\n",
      "11.0     31.883025\n",
      "12.0     29.784933\n",
      "13.0     28.628948\n",
      "14.0     29.296095\n",
      "15.0     27.906983\n",
      "16.0     33.224913\n",
      "17.0     35.912961\n",
      "18.0     43.505234\n",
      "19.0     44.520623\n",
      "20.0     54.294921\n",
      "21.0     64.210371\n",
      "22.0     92.465274\n",
      "23.0    125.344743\n",
      "24.0     64.862069\n",
      "Name: dep_delay, dtype: float64\n"
     ]
    }
   ],
   "source": [
    "import math\n",
    "flights_df['dep_hour']=(flights_df['dep_time']/100).apply(np.floor)\n",
    "print(flights_df[flights_df['dep_delay']>0].groupby(['dep_hour']).dep_delay.mean())"
   ]
  },
  {
   "cell_type": "markdown",
   "metadata": {
    "ein.tags": "worksheet-0",
    "slideshow": {
     "slide_type": "-"
    }
   },
   "source": [
    "It would appear that departure delays are higher during the early hours of the morning, and late at night. "
   ]
  },
  {
   "cell_type": "markdown",
   "metadata": {
    "ein.tags": "worksheet-0",
    "slideshow": {
     "slide_type": "-"
    }
   },
   "source": [
    "## Question 3\n",
    "   Which flight departing NYC in 2013 flew the fastest?"
   ]
  },
  {
   "cell_type": "code",
   "execution_count": 15,
   "metadata": {
    "autoscroll": false,
    "ein.tags": "worksheet-0",
    "slideshow": {
     "slide_type": "-"
    }
   },
   "outputs": [
    {
     "data": {
      "text/html": [
       "<div>\n",
       "<style scoped>\n",
       "    .dataframe tbody tr th:only-of-type {\n",
       "        vertical-align: middle;\n",
       "    }\n",
       "\n",
       "    .dataframe tbody tr th {\n",
       "        vertical-align: top;\n",
       "    }\n",
       "\n",
       "    .dataframe thead th {\n",
       "        text-align: right;\n",
       "    }\n",
       "</style>\n",
       "<table border=\"1\" class=\"dataframe\">\n",
       "  <thead>\n",
       "    <tr style=\"text-align: right;\">\n",
       "      <th></th>\n",
       "      <th>Unnamed: 0</th>\n",
       "      <th>year</th>\n",
       "      <th>month</th>\n",
       "      <th>day</th>\n",
       "      <th>dep_time</th>\n",
       "      <th>dep_delay</th>\n",
       "      <th>arr_time</th>\n",
       "      <th>arr_delay</th>\n",
       "      <th>carrier</th>\n",
       "      <th>tailnum</th>\n",
       "      <th>flight</th>\n",
       "      <th>origin</th>\n",
       "      <th>dest</th>\n",
       "      <th>air_time</th>\n",
       "      <th>distance</th>\n",
       "      <th>hour</th>\n",
       "      <th>minute</th>\n",
       "      <th>dep_hour</th>\n",
       "      <th>avg_speed</th>\n",
       "    </tr>\n",
       "  </thead>\n",
       "  <tbody>\n",
       "    <tr>\n",
       "      <th>216447</th>\n",
       "      <td>216448</td>\n",
       "      <td>2013</td>\n",
       "      <td>5</td>\n",
       "      <td>25</td>\n",
       "      <td>1709.0</td>\n",
       "      <td>9.0</td>\n",
       "      <td>1923.0</td>\n",
       "      <td>-14.0</td>\n",
       "      <td>DL</td>\n",
       "      <td>N666DN</td>\n",
       "      <td>1499</td>\n",
       "      <td>LGA</td>\n",
       "      <td>ATL</td>\n",
       "      <td>65.0</td>\n",
       "      <td>762</td>\n",
       "      <td>17.0</td>\n",
       "      <td>9.0</td>\n",
       "      <td>17.0</td>\n",
       "      <td>11.723077</td>\n",
       "    </tr>\n",
       "    <tr>\n",
       "      <th>251999</th>\n",
       "      <td>252000</td>\n",
       "      <td>2013</td>\n",
       "      <td>7</td>\n",
       "      <td>2</td>\n",
       "      <td>1558.0</td>\n",
       "      <td>45.0</td>\n",
       "      <td>1745.0</td>\n",
       "      <td>26.0</td>\n",
       "      <td>EV</td>\n",
       "      <td>N17196</td>\n",
       "      <td>4667</td>\n",
       "      <td>EWR</td>\n",
       "      <td>MSP</td>\n",
       "      <td>93.0</td>\n",
       "      <td>1008</td>\n",
       "      <td>15.0</td>\n",
       "      <td>58.0</td>\n",
       "      <td>15.0</td>\n",
       "      <td>10.838710</td>\n",
       "    </tr>\n",
       "    <tr>\n",
       "      <th>205388</th>\n",
       "      <td>205389</td>\n",
       "      <td>2013</td>\n",
       "      <td>5</td>\n",
       "      <td>13</td>\n",
       "      <td>2040.0</td>\n",
       "      <td>15.0</td>\n",
       "      <td>2225.0</td>\n",
       "      <td>-1.0</td>\n",
       "      <td>EV</td>\n",
       "      <td>N14568</td>\n",
       "      <td>4292</td>\n",
       "      <td>EWR</td>\n",
       "      <td>GSP</td>\n",
       "      <td>55.0</td>\n",
       "      <td>594</td>\n",
       "      <td>20.0</td>\n",
       "      <td>40.0</td>\n",
       "      <td>20.0</td>\n",
       "      <td>10.800000</td>\n",
       "    </tr>\n",
       "    <tr>\n",
       "      <th>157516</th>\n",
       "      <td>157517</td>\n",
       "      <td>2013</td>\n",
       "      <td>3</td>\n",
       "      <td>23</td>\n",
       "      <td>1914.0</td>\n",
       "      <td>4.0</td>\n",
       "      <td>2045.0</td>\n",
       "      <td>2.0</td>\n",
       "      <td>EV</td>\n",
       "      <td>N12567</td>\n",
       "      <td>3805</td>\n",
       "      <td>EWR</td>\n",
       "      <td>BNA</td>\n",
       "      <td>70.0</td>\n",
       "      <td>748</td>\n",
       "      <td>19.0</td>\n",
       "      <td>14.0</td>\n",
       "      <td>19.0</td>\n",
       "      <td>10.685714</td>\n",
       "    </tr>\n",
       "    <tr>\n",
       "      <th>10223</th>\n",
       "      <td>10224</td>\n",
       "      <td>2013</td>\n",
       "      <td>1</td>\n",
       "      <td>12</td>\n",
       "      <td>1559.0</td>\n",
       "      <td>-1.0</td>\n",
       "      <td>1849.0</td>\n",
       "      <td>-28.0</td>\n",
       "      <td>DL</td>\n",
       "      <td>N956DL</td>\n",
       "      <td>1902</td>\n",
       "      <td>LGA</td>\n",
       "      <td>PBI</td>\n",
       "      <td>105.0</td>\n",
       "      <td>1035</td>\n",
       "      <td>15.0</td>\n",
       "      <td>59.0</td>\n",
       "      <td>15.0</td>\n",
       "      <td>9.857143</td>\n",
       "    </tr>\n",
       "  </tbody>\n",
       "</table>\n",
       "</div>"
      ],
      "text/plain": [
       "        Unnamed: 0  year  month  day  dep_time  dep_delay  arr_time  \\\n",
       "216447      216448  2013      5   25    1709.0        9.0    1923.0   \n",
       "251999      252000  2013      7    2    1558.0       45.0    1745.0   \n",
       "205388      205389  2013      5   13    2040.0       15.0    2225.0   \n",
       "157516      157517  2013      3   23    1914.0        4.0    2045.0   \n",
       "10223        10224  2013      1   12    1559.0       -1.0    1849.0   \n",
       "\n",
       "        arr_delay carrier tailnum  flight origin dest  air_time  distance  \\\n",
       "216447      -14.0      DL  N666DN    1499    LGA  ATL      65.0       762   \n",
       "251999       26.0      EV  N17196    4667    EWR  MSP      93.0      1008   \n",
       "205388       -1.0      EV  N14568    4292    EWR  GSP      55.0       594   \n",
       "157516        2.0      EV  N12567    3805    EWR  BNA      70.0       748   \n",
       "10223       -28.0      DL  N956DL    1902    LGA  PBI     105.0      1035   \n",
       "\n",
       "        hour  minute  dep_hour  avg_speed  \n",
       "216447  17.0     9.0      17.0  11.723077  \n",
       "251999  15.0    58.0      15.0  10.838710  \n",
       "205388  20.0    40.0      20.0  10.800000  \n",
       "157516  19.0    14.0      19.0  10.685714  \n",
       "10223   15.0    59.0      15.0   9.857143  "
      ]
     },
     "execution_count": 15,
     "metadata": {},
     "output_type": "execute_result"
    }
   ],
   "source": [
    "flights_df['avg_speed'] = (flights_df['distance'] / flights_df['air_time']) \n",
    "flights_df.sort_values(by=['avg_speed'], ascending=False).head()"
   ]
  },
  {
   "cell_type": "markdown",
   "metadata": {
    "ein.tags": "worksheet-0",
    "slideshow": {
     "slide_type": "-"
    }
   },
   "source": [
    "Flight DL-1499 from LGA to ATL on 2013-5-25 was the fastest."
   ]
  },
  {
   "cell_type": "markdown",
   "metadata": {
    "ein.tags": "worksheet-0",
    "slideshow": {
     "slide_type": "-"
    }
   },
   "source": [
    "## Question 4\n",
    "Which flights (i.e. carrier + flight + dest) happen every day? Where do they fly to?"
   ]
  },
  {
   "cell_type": "code",
   "execution_count": 16,
   "metadata": {
    "autoscroll": false,
    "ein.tags": "worksheet-0",
    "slideshow": {
     "slide_type": "-"
    }
   },
   "outputs": [
    {
     "name": "stdout",
     "output_type": "stream",
     "text": [
      "('AA', 59, 'SFO')\n",
      "('AA', 119, 'LAX')\n",
      "('AA', 181, 'LAX')\n",
      "('AA', 1357, 'SJU')\n",
      "('AA', 1611, 'MIA')\n",
      "('B6', 219, 'CLT')\n",
      "('B6', 359, 'BUR')\n",
      "('B6', 371, 'FLL')\n",
      "('B6', 431, 'SRQ')\n",
      "('B6', 703, 'SJU')\n",
      "('B6', 1783, 'MCO')\n",
      "('DL', 2159, 'MCO')\n",
      "('DL', 2391, 'TPA')\n",
      "('EV', 5712, 'IAD')\n",
      "('UA', 15, 'HNL')\n",
      "('VX', 251, 'LAS')\n",
      "('VX', 407, 'LAX')\n",
      "('VX', 413, 'LAX')\n"
     ]
    }
   ],
   "source": [
    "for route, data in flights_df.groupby(['carrier', 'flight', 'dest']):\n",
    "    if len(data)==365:\n",
    "        print(route)"
   ]
  },
  {
   "cell_type": "markdown",
   "metadata": {
    "ein.tags": "worksheet-0",
    "slideshow": {
     "slide_type": "-"
    }
   },
   "source": [
    "the routes above fly daily"
   ]
  },
  {
   "cell_type": "markdown",
   "metadata": {
    "ein.tags": "worksheet-0",
    "slideshow": {
     "slide_type": "-"
    }
   },
   "source": [
    "## Question 5\n",
    "Develop one research question you can address using the nycflights2013 dataset. Provide two visualizations to support your exploration of this question. Discuss what you find.\n"
   ]
  },
  {
   "cell_type": "code",
   "execution_count": 17,
   "metadata": {
    "autoscroll": false,
    "ein.tags": "worksheet-0",
    "scrolled": true,
    "slideshow": {
     "slide_type": "-"
    }
   },
   "outputs": [
    {
     "name": "stdout",
     "output_type": "stream",
     "text": [
      "['EWR' 'LGA' 'JFK']\n"
     ]
    },
    {
     "data": {
      "image/png": "[encoded data removed]",
      "text/plain": [
       "<matplotlib.figure.Figure at 0x90978f0>"
      ]
     },
     "metadata": {},
     "output_type": "display_data"
    }
   ],
   "source": [
    "#Question: Is there seasonality in total number of flights at each aiport - does this pattern differ between airports?\n",
    "\n",
    "origin_airports=(flights_df.origin.unique())\n",
    "print(origin_airports)\n",
    "for airport in origin_airports:\n",
    "    flights_df[flights_df['origin'] == airport].groupby(['month']).origin.count().plot(legend=True)\n",
    "\n",
    "\n",
    "#for airport in origin_airports:\n",
    "    "
   ]
  },
  {
   "cell_type": "code",
   "execution_count": 18,
   "metadata": {},
   "outputs": [
    {
     "data": {
      "text/plain": [
       "<matplotlib.axes._subplots.AxesSubplot at 0xf230510>"
      ]
     },
     "execution_count": 18,
     "metadata": {},
     "output_type": "execute_result"
    },
    {
     "data": {
      "image/png": "[encoded data removed]",
      "text/plain": [
       "<matplotlib.figure.Figure at 0xf830a50>"
      ]
     },
     "metadata": {},
     "output_type": "display_data"
    }
   ],
   "source": [
    "flights_df[flights_df['origin'] == 'JFK'].groupby(['month']).origin.count().plot()"
   ]
  },
  {
   "cell_type": "code",
   "execution_count": 19,
   "metadata": {},
   "outputs": [
    {
     "data": {
      "text/plain": [
       "<matplotlib.axes._subplots.AxesSubplot at 0xf830e30>"
      ]
     },
     "execution_count": 19,
     "metadata": {},
     "output_type": "execute_result"
    },
    {
     "data": {
      "image/png": "[encoded data removed]",
      "text/plain": [
       "<matplotlib.figure.Figure at 0xef46790>"
      ]
     },
     "metadata": {},
     "output_type": "display_data"
    }
   ],
   "source": [
    "flights_df[flights_df['origin'] == 'LGA'].groupby(['month']).origin.count().plot()"
   ]
  },
  {
   "cell_type": "code",
   "execution_count": 20,
   "metadata": {},
   "outputs": [
    {
     "data": {
      "text/plain": [
       "<matplotlib.axes._subplots.AxesSubplot at 0xf2be750>"
      ]
     },
     "execution_count": 20,
     "metadata": {},
     "output_type": "execute_result"
    },
    {
     "data": {
      "image/png": "[encoded data removed]",
      "text/plain": [
       "<matplotlib.figure.Figure at 0xf2c84b0>"
      ]
     },
     "metadata": {},
     "output_type": "display_data"
    }
   ],
   "source": [
    "flights_df[flights_df['origin'] == 'EWR'].groupby(['month']).origin.count().plot()"
   ]
  },
  {
   "cell_type": "markdown",
   "metadata": {
    "ein.tags": "worksheet-0",
    "slideshow": {
     "slide_type": "-"
    }
   },
   "source": [
    "There is a high degree of seasonality in number of flights. Although JFK and LGA carry higher volume of passengers, EWR sees the largest spike towards the end of the year - possibly because of an increase in domestic flights."
   ]
  },
  {
   "cell_type": "markdown",
   "metadata": {
    "ein.tags": "worksheet-0",
    "slideshow": {
     "slide_type": "-"
    }
   },
   "source": [
    "## Question 6\n",
    "What weather conditions are associated with flight delays leaving NYC? Use graphics to explore."
   ]
  },
  {
   "cell_type": "code",
   "execution_count": 30,
   "metadata": {
    "autoscroll": false,
    "ein.tags": "worksheet-0",
    "slideshow": {
     "slide_type": "-"
    }
   },
   "outputs": [
    {
     "name": "stdout",
     "output_type": "stream",
     "text": [
      "   Unnamed: 0 origin  year  month  day  hour   temp   dewp  humid  wind_dir  \\\n",
      "0           1    EWR  2013    1.0  1.0   0.0  37.04  21.92  53.97     230.0   \n",
      "1           2    EWR  2013    1.0  1.0   1.0  37.04  21.92  53.97     230.0   \n",
      "2           3    EWR  2013    1.0  1.0   2.0  37.94  21.92  52.09     230.0   \n",
      "3           4    EWR  2013    1.0  1.0   3.0  37.94  23.00  54.51     230.0   \n",
      "4           5    EWR  2013    1.0  1.0   4.0  37.94  24.08  57.04     240.0   \n",
      "5           6    EWR  2013    1.0  1.0   6.0  39.02  26.06  59.37     270.0   \n",
      "6           7    EWR  2013    1.0  1.0   7.0  39.02  26.96  61.63     250.0   \n",
      "7           8    EWR  2013    1.0  1.0   8.0  39.02  28.04  64.43     240.0   \n",
      "8           9    EWR  2013    1.0  1.0   9.0  39.92  28.04  62.21     250.0   \n",
      "9          10    EWR  2013    1.0  1.0  10.0  39.02  28.04  64.43     260.0   \n",
      "\n",
      "   wind_speed  wind_gust  precip  pressure  visib  \n",
      "0    10.35702  11.918651     0.0    1013.9   10.0  \n",
      "1    13.80936  15.891535     0.0    1013.0   10.0  \n",
      "2    12.65858  14.567241     0.0    1012.6   10.0  \n",
      "3    13.80936  15.891535     0.0    1012.7   10.0  \n",
      "4    14.96014  17.215830     0.0    1012.8   10.0  \n",
      "5    10.35702  11.918651     0.0    1012.0   10.0  \n",
      "6     8.05546   9.270062     0.0    1012.3   10.0  \n",
      "7    11.50780  13.242946     0.0    1012.5   10.0  \n",
      "8    12.65858  14.567241     0.0    1012.2   10.0  \n",
      "9    12.65858  14.567241     0.0    1011.9   10.0  \n"
     ]
    },
    {
     "data": {
      "text/plain": [
       "<matplotlib.axes._subplots.AxesSubplot at 0x1cb820f0>"
      ]
     },
     "execution_count": 30,
     "metadata": {},
     "output_type": "execute_result"
    },
    {
     "data": {
      "image/png": "[encoded data removed]",
      "text/plain": [
       "<matplotlib.figure.Figure at 0x36461b0>"
      ]
     },
     "metadata": {},
     "output_type": "display_data"
    },
    {
     "data": {
      "image/png": "[encoded data removed]",
      "text/plain": [
       "<matplotlib.figure.Figure at 0x376a6d0>"
      ]
     },
     "metadata": {},
     "output_type": "display_data"
    },
    {
     "data": {
      "image/png": "[encoded data removed]",
      "text/plain": [
       "<matplotlib.figure.Figure at 0x10b53990>"
      ]
     },
     "metadata": {},
     "output_type": "display_data"
    },
    {
     "data": {
      "image/png": "[encoded data removed]",
      "text/plain": [
       "<matplotlib.figure.Figure at 0x355b910>"
      ]
     },
     "metadata": {},
     "output_type": "display_data"
    },
    {
     "data": {
      "image/png": "[encoded data removed]",
      "text/plain": [
       "<matplotlib.figure.Figure at 0x1cb82c10>"
      ]
     },
     "metadata": {},
     "output_type": "display_data"
    },
    {
     "data": {
      "image/png": "[encoded data removed]",
      "text/plain": [
       "<matplotlib.figure.Figure at 0x1add58f0>"
      ]
     },
     "metadata": {},
     "output_type": "display_data"
    }
   ],
   "source": [
    "weather_df = pd.read_csv('weather.csv.bz2')\n",
    "print(weather_df.head(10))\n",
    "for col in ['year', 'month', 'day']:\n",
    "    weather_df = weather_df[weather_df[col].notnull()]\n",
    "joined_df = pd.merge(flights_df, weather_df,  how='left', left_on=['origin','year', 'month', 'day', 'hour'], right_on = ['origin','year', 'month', 'day', 'hour'])\n",
    "#print(joined_df.head(25))\n",
    "joined_df.plot(x='dep_delay', y=\"temp\", style=\"o\")\n",
    "joined_df.plot(x='dep_delay', y=\"humid\", style=\"o\")\n",
    "joined_df.plot(x='dep_delay', y=\"wind_speed\", style=\"o\")\n",
    "joined_df.plot(x='dep_delay', y=\"precip\", style=\"o\")\n",
    "joined_df.plot(x='dep_delay', y=\"pressure\", style=\"o\")\n",
    "joined_df.plot(x='dep_delay', y=\"visib\", style=\"o\")\n"
   ]
  },
  {
   "cell_type": "markdown",
   "metadata": {
    "ein.tags": "worksheet-0",
    "slideshow": {
     "slide_type": "-"
    }
   },
   "source": [
    "It is difficult to interpret correlation through only a graphical analysis - partly because of the density of points due to the size of the dataset. However, an increase in atmospheric pressure and humidity seem to have a visible effect on delay times."
   ]
  }
 ],
 "metadata": {
  "kernelspec": {
   "display_name": "Python 3",
   "language": "python",
   "name": "python3"
  },
  "language_info": {
   "codemirror_mode": {
    "name": "ipython",
    "version": 3
   },
   "file_extension": ".py",
   "mimetype": "text/x-python",
   "name": "python",
   "nbconvert_exporter": "python",
   "pygments_lexer": "ipython3",
   "version": "3.6.2"
  },
  "name": "ps1_pandas.ipynb"
 },
 "nbformat": 4,
 "nbformat_minor": 2
}
