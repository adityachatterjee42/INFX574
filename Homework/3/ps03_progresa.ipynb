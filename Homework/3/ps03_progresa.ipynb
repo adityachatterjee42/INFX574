{
 "cells": [
  {
   "cell_type": "markdown",
   "metadata": {
    "ein.tags": "worksheet-0",
    "slideshow": {
     "slide_type": "-"
    }
   },
   "source": [
    "# Problem Set 3, due Wednesday, May 3rd, 5:30pm."
   ]
  },
  {
   "cell_type": "markdown",
   "metadata": {
    "ein.tags": "worksheet-0",
    "slideshow": {
     "slide_type": "-"
    }
   },
   "source": [
    "## Introduction to the assignment\n",
    "\n",
    "For this assignment, you will be using data from the [Progresa\n",
    "program](http://en.wikipedia.org/wiki/Oportunidades), a government\n",
    "social assistance program in Mexico. This program, as well as the\n",
    "details of its impact, are described in the paper \"[School subsidies\n",
    "for the poor: evaluating the Mexican Progresa poverty\n",
    "program](http://www.sciencedirect.com/science/article/pii/S0304387803001858)\",\n",
    "by Paul Shultz (available on Canvas).  The data\n",
    "(progresa_sample.csv.gz) is available on canvas\n",
    "in files/data.\n",
    "\n",
    "Please read the paper to familiarize yourself with\n",
    "the PROGRESA program before beginning this problem set, so you have a\n",
    "rough sense of where the data come from and how they were\n",
    "generated. If you just proceed into the problem set without\n",
    "understanding Progresa or the data, it will be very difficult!\n",
    "\n",
    "The goal of this problem set is to implement some of the basic\n",
    "econometric techniques that you are learning in class to measure the\n",
    "impact of Progresa on secondary school enrollment rates, in particular\n",
    "differences-in-differences.  Your task is to **estimate the impact of\n",
    "_progresa_ subsidies on the school attendance**.  Note: this asks to\n",
    "estimate a causal effect.\n",
    "\n",
    "The timeline of the program was:\n",
    "\n",
    " * Baseline survey conducted in 1997\n",
    " * Intervention begins in 1998, \"Wave 1\" of data collected in 1998\n",
    " * \"Wave 2 of data\" collected in 1999\n",
    " * Evaluation ends in 2000, at which point the control villages were treated. \n",
    " \n",
    "When you are ready, download the progresa_sample.csv data from\n",
    "Canvas. The data are actual data collected to evaluate the impact of\n",
    "the Progresa program.  In this file, each row corresponds to an\n",
    "observation taken for a given child for a given year. There are two\n",
    "years of data (1997 and 1998), and just under 40,000 children who are\n",
    "surveyed in both years.  For each child-year observation, the\n",
    "following variables are collected:\n",
    "\n",
    "| Variable name | Description|\n",
    "|------|------|\n",
    "|year\t  |year in which data is collected\n",
    "|sex\t  |male = 1|\n",
    "|indig\t  |indigenous = 1|\n",
    "|dist_sec |nearest distance to a secondary school|\n",
    "|sc\t      |enrolled in school in year of survey (=1)|\n",
    "|grc      |grade enrolled|\n",
    "|fam_n    |family size|\n",
    "|min_dist |\tmin distance to an urban center|\n",
    "|dist_cap |\tmin distance to the capital|\n",
    "|poor     |\tpoor = \"pobre\", not poor = \"no pobre\"|\n",
    "|progresa |treatment = \"basal\", control = \"0\"|\n",
    "|hohedu\t  |years of schooling of head of household|\n",
    "|hohwag\t  |monthly wages of head of household|\n",
    "|welfare_index|\twelfare index used to classify poor|\n",
    "|hohsex\t|gender of head of household (male=1)|\n",
    "|hohage\t|age of head of household|\n",
    "|age\t|years old|\n",
    "|folnum\t|individual id|\n",
    "|village|\tvillage id|\n",
    "|sc97\t|enrolled in school in 1997 (=1) |"
   ]
  },
  {
   "cell_type": "markdown",
   "metadata": {
    "ein.tags": "worksheet-0",
    "slideshow": {
     "slide_type": "-"
    }
   },
   "source": [
    "## Part 1: Descriptive analysis\n",
    "\n",
    "### 1.1\tSummary Statistics\n",
    "\n",
    "Report summary statistics (mean, standard deviation, and number of missings) for all of\n",
    "the demographic variables in the dataset (i.e., everything except\n",
    "year, folnum, village).  Present the actual levels for 'progresa' and\n",
    "'poor'.  Do these fit with the documentation above?\n",
    "\n",
    "Present these in a single table alphabetized\n",
    "by variable name. Do NOT simply expect the grader to scroll through\n",
    "your output!"
   ]
  },
  {
   "cell_type": "code",
   "execution_count": 144,
   "metadata": {
    "autoscroll": false,
    "ein.tags": "worksheet-0",
    "slideshow": {
     "slide_type": "-"
    }
   },
   "outputs": [
    {
     "data": {
      "text/html": [
       "<div>\n",
       "<style scoped>\n",
       "    .dataframe tbody tr th:only-of-type {\n",
       "        vertical-align: middle;\n",
       "    }\n",
       "\n",
       "    .dataframe tbody tr th {\n",
       "        vertical-align: top;\n",
       "    }\n",
       "\n",
       "    .dataframe thead th {\n",
       "        text-align: right;\n",
       "    }\n",
       "</style>\n",
       "<table border=\"1\" class=\"dataframe\">\n",
       "  <thead>\n",
       "    <tr style=\"text-align: right;\">\n",
       "      <th></th>\n",
       "      <th>age</th>\n",
       "      <th>dist_cap</th>\n",
       "      <th>dist_sec</th>\n",
       "      <th>fam_n</th>\n",
       "      <th>grc</th>\n",
       "      <th>grc97</th>\n",
       "      <th>hohage</th>\n",
       "      <th>hohedu</th>\n",
       "      <th>hohsex</th>\n",
       "      <th>hohwag</th>\n",
       "      <th>indig</th>\n",
       "      <th>min_dist</th>\n",
       "      <th>poor</th>\n",
       "      <th>sc</th>\n",
       "      <th>sc97</th>\n",
       "      <th>sex</th>\n",
       "      <th>welfare_index</th>\n",
       "    </tr>\n",
       "  </thead>\n",
       "  <tbody>\n",
       "    <tr>\n",
       "      <th>count</th>\n",
       "      <td>77250.000000</td>\n",
       "      <td>77250.000000</td>\n",
       "      <td>77250.000000</td>\n",
       "      <td>77250.000000</td>\n",
       "      <td>70701.000000</td>\n",
       "      <td>77250.000000</td>\n",
       "      <td>77240.000000</td>\n",
       "      <td>77250.000000</td>\n",
       "      <td>77230.000000</td>\n",
       "      <td>77250.000000</td>\n",
       "      <td>76950.000000</td>\n",
       "      <td>77250.000000</td>\n",
       "      <td>77250.000000</td>\n",
       "      <td>68797.000000</td>\n",
       "      <td>73378.000000</td>\n",
       "      <td>77226.000000</td>\n",
       "      <td>77040.000000</td>\n",
       "    </tr>\n",
       "    <tr>\n",
       "      <th>mean</th>\n",
       "      <td>11.366460</td>\n",
       "      <td>147.674452</td>\n",
       "      <td>2.418910</td>\n",
       "      <td>7.215715</td>\n",
       "      <td>3.963537</td>\n",
       "      <td>3.705372</td>\n",
       "      <td>44.436717</td>\n",
       "      <td>2.768104</td>\n",
       "      <td>0.925185</td>\n",
       "      <td>586.985312</td>\n",
       "      <td>0.298324</td>\n",
       "      <td>103.447520</td>\n",
       "      <td>0.846498</td>\n",
       "      <td>0.819818</td>\n",
       "      <td>0.813922</td>\n",
       "      <td>0.512211</td>\n",
       "      <td>690.346564</td>\n",
       "    </tr>\n",
       "    <tr>\n",
       "      <th>std</th>\n",
       "      <td>3.167744</td>\n",
       "      <td>76.063134</td>\n",
       "      <td>2.234109</td>\n",
       "      <td>2.352900</td>\n",
       "      <td>2.499063</td>\n",
       "      <td>2.572387</td>\n",
       "      <td>11.620372</td>\n",
       "      <td>2.656106</td>\n",
       "      <td>0.263095</td>\n",
       "      <td>788.133664</td>\n",
       "      <td>0.457525</td>\n",
       "      <td>42.089441</td>\n",
       "      <td>0.360473</td>\n",
       "      <td>0.384342</td>\n",
       "      <td>0.389172</td>\n",
       "      <td>0.499854</td>\n",
       "      <td>139.491130</td>\n",
       "    </tr>\n",
       "    <tr>\n",
       "      <th>min</th>\n",
       "      <td>6.000000</td>\n",
       "      <td>9.465392</td>\n",
       "      <td>0.000000</td>\n",
       "      <td>1.000000</td>\n",
       "      <td>0.000000</td>\n",
       "      <td>0.000000</td>\n",
       "      <td>15.000000</td>\n",
       "      <td>0.000000</td>\n",
       "      <td>0.000000</td>\n",
       "      <td>0.000000</td>\n",
       "      <td>0.000000</td>\n",
       "      <td>9.465392</td>\n",
       "      <td>0.000000</td>\n",
       "      <td>0.000000</td>\n",
       "      <td>0.000000</td>\n",
       "      <td>0.000000</td>\n",
       "      <td>180.000000</td>\n",
       "    </tr>\n",
       "    <tr>\n",
       "      <th>25%</th>\n",
       "      <td>9.000000</td>\n",
       "      <td>92.327050</td>\n",
       "      <td>0.574000</td>\n",
       "      <td>6.000000</td>\n",
       "      <td>2.000000</td>\n",
       "      <td>1.000000</td>\n",
       "      <td>36.000000</td>\n",
       "      <td>0.000000</td>\n",
       "      <td>1.000000</td>\n",
       "      <td>120.000000</td>\n",
       "      <td>0.000000</td>\n",
       "      <td>70.518238</td>\n",
       "      <td>1.000000</td>\n",
       "      <td>1.000000</td>\n",
       "      <td>1.000000</td>\n",
       "      <td>0.000000</td>\n",
       "      <td>597.000000</td>\n",
       "    </tr>\n",
       "    <tr>\n",
       "      <th>50%</th>\n",
       "      <td>11.000000</td>\n",
       "      <td>132.001494</td>\n",
       "      <td>2.279000</td>\n",
       "      <td>7.000000</td>\n",
       "      <td>4.000000</td>\n",
       "      <td>4.000000</td>\n",
       "      <td>43.000000</td>\n",
       "      <td>2.000000</td>\n",
       "      <td>1.000000</td>\n",
       "      <td>500.000000</td>\n",
       "      <td>0.000000</td>\n",
       "      <td>111.228612</td>\n",
       "      <td>1.000000</td>\n",
       "      <td>1.000000</td>\n",
       "      <td>1.000000</td>\n",
       "      <td>1.000000</td>\n",
       "      <td>685.000000</td>\n",
       "    </tr>\n",
       "    <tr>\n",
       "      <th>75%</th>\n",
       "      <td>14.000000</td>\n",
       "      <td>184.445225</td>\n",
       "      <td>3.582000</td>\n",
       "      <td>9.000000</td>\n",
       "      <td>6.000000</td>\n",
       "      <td>6.000000</td>\n",
       "      <td>51.000000</td>\n",
       "      <td>4.000000</td>\n",
       "      <td>1.000000</td>\n",
       "      <td>750.000000</td>\n",
       "      <td>1.000000</td>\n",
       "      <td>138.446009</td>\n",
       "      <td>1.000000</td>\n",
       "      <td>1.000000</td>\n",
       "      <td>1.000000</td>\n",
       "      <td>1.000000</td>\n",
       "      <td>770.000000</td>\n",
       "    </tr>\n",
       "    <tr>\n",
       "      <th>max</th>\n",
       "      <td>17.000000</td>\n",
       "      <td>359.774457</td>\n",
       "      <td>14.879000</td>\n",
       "      <td>24.000000</td>\n",
       "      <td>14.000000</td>\n",
       "      <td>14.000000</td>\n",
       "      <td>98.000000</td>\n",
       "      <td>20.000000</td>\n",
       "      <td>1.000000</td>\n",
       "      <td>14000.000000</td>\n",
       "      <td>1.000000</td>\n",
       "      <td>170.457647</td>\n",
       "      <td>1.000000</td>\n",
       "      <td>1.000000</td>\n",
       "      <td>1.000000</td>\n",
       "      <td>1.000000</td>\n",
       "      <td>1294.000000</td>\n",
       "    </tr>\n",
       "  </tbody>\n",
       "</table>\n",
       "</div>"
      ],
      "text/plain": [
       "                age      dist_cap      dist_sec         fam_n           grc  \\\n",
       "count  77250.000000  77250.000000  77250.000000  77250.000000  70701.000000   \n",
       "mean      11.366460    147.674452      2.418910      7.215715      3.963537   \n",
       "std        3.167744     76.063134      2.234109      2.352900      2.499063   \n",
       "min        6.000000      9.465392      0.000000      1.000000      0.000000   \n",
       "25%        9.000000     92.327050      0.574000      6.000000      2.000000   \n",
       "50%       11.000000    132.001494      2.279000      7.000000      4.000000   \n",
       "75%       14.000000    184.445225      3.582000      9.000000      6.000000   \n",
       "max       17.000000    359.774457     14.879000     24.000000     14.000000   \n",
       "\n",
       "              grc97        hohage        hohedu        hohsex        hohwag  \\\n",
       "count  77250.000000  77240.000000  77250.000000  77230.000000  77250.000000   \n",
       "mean       3.705372     44.436717      2.768104      0.925185    586.985312   \n",
       "std        2.572387     11.620372      2.656106      0.263095    788.133664   \n",
       "min        0.000000     15.000000      0.000000      0.000000      0.000000   \n",
       "25%        1.000000     36.000000      0.000000      1.000000    120.000000   \n",
       "50%        4.000000     43.000000      2.000000      1.000000    500.000000   \n",
       "75%        6.000000     51.000000      4.000000      1.000000    750.000000   \n",
       "max       14.000000     98.000000     20.000000      1.000000  14000.000000   \n",
       "\n",
       "              indig      min_dist          poor            sc          sc97  \\\n",
       "count  76950.000000  77250.000000  77250.000000  68797.000000  73378.000000   \n",
       "mean       0.298324    103.447520      0.846498      0.819818      0.813922   \n",
       "std        0.457525     42.089441      0.360473      0.384342      0.389172   \n",
       "min        0.000000      9.465392      0.000000      0.000000      0.000000   \n",
       "25%        0.000000     70.518238      1.000000      1.000000      1.000000   \n",
       "50%        0.000000    111.228612      1.000000      1.000000      1.000000   \n",
       "75%        1.000000    138.446009      1.000000      1.000000      1.000000   \n",
       "max        1.000000    170.457647      1.000000      1.000000      1.000000   \n",
       "\n",
       "                sex  welfare_index  \n",
       "count  77226.000000   77040.000000  \n",
       "mean       0.512211     690.346564  \n",
       "std        0.499854     139.491130  \n",
       "min        0.000000     180.000000  \n",
       "25%        0.000000     597.000000  \n",
       "50%        1.000000     685.000000  \n",
       "75%        1.000000     770.000000  \n",
       "max        1.000000    1294.000000  "
      ]
     },
     "execution_count": 144,
     "metadata": {},
     "output_type": "execute_result"
    }
   ],
   "source": [
    "import numpy as np\n",
    "import pandas as pd\n",
    "import scipy\n",
    "import matplotlib \n",
    "import statsmodels.api as sm\n",
    "\n",
    "progresa = pd.read_csv('progresa_sample.csv.gz')\n",
    "show = [column for column in progresa.columns if column not in ('village', 'year', 'folnum')]\n",
    "#creating levels for progresa and poor\n",
    "progresa['progesa']=np.where(progresa['progresa']=='basal',1,0)\n",
    "progresa['poor']=np.where(progresa['poor']=='pobre',1,0)\n",
    "#summary statistics alphabetized by variable name\n",
    "progresa[show].sort_index(axis=1).describe()\n",
    "\n"
   ]
  },
  {
   "cell_type": "code",
   "execution_count": 104,
   "metadata": {
    "scrolled": true
   },
   "outputs": [
    {
     "name": "stdout",
     "output_type": "stream",
     "text": [
      "Number of missing values for each attribute:\n",
      "year : 0\n",
      "sex : 24\n",
      "indig : 300\n",
      "dist_sec : 0\n",
      "sc : 8453\n",
      "grc : 6549\n",
      "fam_n : 0\n",
      "min_dist : 0\n",
      "dist_cap : 0\n",
      "poor : 0\n",
      "progresa : 0\n",
      "hohedu : 0\n",
      "hohwag : 0\n",
      "welfare_index : 210\n",
      "hohsex : 20\n",
      "hohage : 10\n",
      "age : 0\n",
      "village : 0\n",
      "folnum : 0\n",
      "grc97 : 0\n",
      "sc97 : 3872\n",
      "progesa : 0\n"
     ]
    }
   ],
   "source": [
    "#finding number of missing vallues per attribute\n",
    "print \"Number of missing values for each attribute:\"\n",
    "for column in progresa:\n",
    "    print \"%s : %s\" % (column, sum(pd.isnull(progresa[column])))"
   ]
  },
  {
   "cell_type": "markdown",
   "metadata": {
    "ein.tags": "worksheet-0",
    "slideshow": {
     "slide_type": "-"
    }
   },
   "source": [
    "### 1.2 Differences at baseline?\n",
    "Now let's investigate the differences in baseline.  Are the baseline (1997) demographic characteristics **for the poor**\n",
    "different in treatment and control villages?\n",
    "\n",
    "I suggest you to use a T-Test to\n",
    "determine whether there is a statistically significant difference in\n",
    "the average values of each of the variables in the dataset. Focus only\n",
    "on the data from 1997 for poor.\n",
    "\n",
    "Present your results in a single table with the following columns and 14 (or so) rows:\n",
    "\n",
    "| Variable name | Average value (Treatment villages) | Average value (Control villages) | Difference (Treat - Control) | p-value |\n",
    "|------|------|------|------|------|\n",
    "|Male|?|?|?|?|\n"
   ]
  },
  {
   "cell_type": "code",
   "execution_count": 146,
   "metadata": {
    "scrolled": true
   },
   "outputs": [],
   "source": [
    "progresa_poor = progresa[(progresa['year'] == 97) & (progresa['poor'] == 1)]\n",
    "treated = progresa_poor[progresa_poor['progresa'] == 1].describe()\n",
    "control = progresa_poor[progresa_poor['progresa'] == 0].describe()\n",
    "stats=list()\n",
    "for column in list(treated):\n",
    "    trt = treated[column]\n",
    "    cnt = control[column]\n",
    "    stat = scipy.stats.ttest_ind_from_stats(trt['mean'],trt['std'],trt['count'],cnt['mean'],cnt['std'],cnt['count'])\n",
    "    stats.append(stat)\n",
    "\n",
    "treated.loc[len(treated)] = stats\n",
    "treated = treated.transpose()\n",
    "control = control.transpose()\n",
    "treated['diff'] = treated['mean']-control['mean']\n",
    "baseline = pd.concat([treated['mean'], control['mean'], treated['diff']])\n",
    "\n",
    "    "
   ]
  },
  {
   "cell_type": "markdown",
   "metadata": {
    "ein.tags": "worksheet-0",
    "slideshow": {
     "slide_type": "-"
    }
   },
   "source": [
    "### 1.3 Interpretation\n",
    "\n",
    "* A: Are there statistically significant differences between treatment and control villages as baseline? \n",
    "* B: Why does it matter if there are differences at baseline?\n",
    "* C: What does this imply about how to measure the impact of the treatment?"
   ]
  },
  {
   "cell_type": "markdown",
   "metadata": {
    "ein.tags": "worksheet-0",
    "slideshow": {
     "slide_type": "-"
    }
   },
   "source": [
    "A: There are statistically significant differences on several variables at the baseline between treatment and control groups.\n",
    "B: For the effect of the treatment to be studied effectively it is important for the baseline measures to be similar, or at least not significantly different.\n",
    "C: Since there is a statistically significant difference in the baseline, we must account foor this in our analyses using diff-in-diff or multivariate regression. "
   ]
  },
  {
   "cell_type": "markdown",
   "metadata": {
    "ein.tags": "worksheet-0",
    "slideshow": {
     "slide_type": "-"
    }
   },
   "source": [
    "### 1.4 Graphical exploration, part 1\n",
    "\n",
    "For each level of household head education, compute the average\n",
    "enrollment rate in 1997. Create a scatterplot that shows this\n",
    "relationship. What do you notice?"
   ]
  },
  {
   "cell_type": "code",
   "execution_count": 54,
   "metadata": {
    "autoscroll": false,
    "ein.tags": "worksheet-0",
    "scrolled": false,
    "slideshow": {
     "slide_type": "-"
    }
   },
   "outputs": [
    {
     "data": {
      "text/plain": [
       "[<matplotlib.lines.Line2D at 0x7fa670069990>]"
      ]
     },
     "execution_count": 54,
     "metadata": {},
     "output_type": "execute_result"
    },
    {
     "data": {
      "image/png": "[encoded data removed]",
      "text/plain": [
       "<Figure size 432x288 with 1 Axes>"
      ]
     },
     "metadata": {},
     "output_type": "display_data"
    }
   ],
   "source": [
    "sc = progresa.groupby('hohedu').mean().sc97\n",
    "hohedu = sc.index\n",
    "matplotlib.pyplot.figure()\n",
    "matplotlib.pyplot.plot(sc,hohedu,'bo')"
   ]
  },
  {
   "cell_type": "markdown",
   "metadata": {
    "ein.tags": "worksheet-0",
    "slideshow": {
     "slide_type": "-"
    }
   },
   "source": [
    "I notice that children are more likely to be enrolled in school if the head of the household is highly educated (perhaps more educated heads value education more - households with more educated heads are also likely to be wealthier)"
   ]
  },
  {
   "cell_type": "markdown",
   "metadata": {
    "ein.tags": "worksheet-0",
    "slideshow": {
     "slide_type": "-"
    }
   },
   "source": [
    "### 1.5 Graphical exploration, part 2\n",
    "\n",
    "Create a histogram of village enrollment rates **among poor households\n",
    "in treated villages**, before and after treatment.  Specifically, for\n",
    "each village, calculate the average rate of enrollment of poor\n",
    "households in treated villages in 1997, then compute the average rate\n",
    "of enrollment of poor households in treated villages in 1998. Create\n",
    "two separate histograms showing the distribution of these average\n",
    "enrollments rates, one histogram for 1997 and one histogram for\n",
    "1998. On each histogram, draw a vertical line that intersects the\n",
    "x-axis at the average value (across all households). Does there appear\n",
    "to be a difference? Is this difference statistically significant?"
   ]
  },
  {
   "cell_type": "code",
   "execution_count": 61,
   "metadata": {
    "autoscroll": false,
    "ein.tags": "worksheet-0",
    "slideshow": {
     "slide_type": "-"
    }
   },
   "outputs": [
    {
     "data": {
      "text/plain": [
       "<matplotlib.lines.Line2D at 0x7fa66fc9d610>"
      ]
     },
     "execution_count": 61,
     "metadata": {},
     "output_type": "execute_result"
    },
    {
     "data": {
      "image/png": "[encoded data removed]",
      "text/plain": [
       "<Figure size 432x288 with 1 Axes>"
      ]
     },
     "metadata": {},
     "output_type": "display_data"
    }
   ],
   "source": [
    "poor_village_treated_97=progresa[(progresa['year']==97)&(progresa['poor']==1)&(progresa['progresa']==1)].groupby('village')['sc'].mean()\n",
    "matplotlib.pyplot.figure()\n",
    "matplotlib.pyplot.hist(poor_village_treated_97.values, bins=50)\n",
    "matplotlib.pyplot.axvline(x=poor_village_treated_97.values.mean(),color=\"green\")"
   ]
  },
  {
   "cell_type": "code",
   "execution_count": 62,
   "metadata": {},
   "outputs": [
    {
     "data": {
      "text/plain": [
       "<matplotlib.lines.Line2D at 0x7fa66f46ee90>"
      ]
     },
     "execution_count": 62,
     "metadata": {},
     "output_type": "execute_result"
    },
    {
     "data": {
      "image/png": "[encoded data removed]",
      "text/plain": [
       "<Figure size 432x288 with 1 Axes>"
      ]
     },
     "metadata": {},
     "output_type": "display_data"
    }
   ],
   "source": [
    "poor_village_treated_98=progresa[(progresa['year']==98)&(progresa['poor']==1)&(progresa['progresa']==1)].groupby('village')['sc'].mean()\n",
    "matplotlib.pyplot.figure()\n",
    "matplotlib.pyplot.hist(poor_village_treated_98.values, bins=50)\n",
    "plt.axvline(x=poor_village_treated_98.values.mean(),color='green')"
   ]
  },
  {
   "cell_type": "markdown",
   "metadata": {
    "ein.tags": "worksheet-0",
    "slideshow": {
     "slide_type": "-"
    }
   },
   "source": [
    "The rate of enrollment seems to be slighly higher after treatment. "
   ]
  },
  {
   "cell_type": "markdown",
   "metadata": {
    "ein.tags": "worksheet-0",
    "slideshow": {
     "slide_type": "-"
    }
   },
   "source": [
    "## Part 2: Measuring Impact\n",
    "\n",
    "Our goal is to estimate the causal impact of the PROGRESA program on\n",
    "the social and economic outcomes of individuals in Mexico. We will\n",
    "focus on the impact of the program on the poor (those with\n",
    "poor=='pobre'), since only the poor were eligible to receive the\n",
    "PROGRESA assistance.\n",
    "\n",
    "### 2.1 Cross-Sectional Estimator: T-test\n",
    "\n",
    "Begin by estimating the impact of Progresa using \"simple differences.\"\n",
    "Restricting yourself to data from 1998 (after treatment), calculate\n",
    "the average enrollment rate among **poor** households in the Treatment\n",
    "villages and the average enrollment rate among **poor** households in\n",
    "the control villages. Use a t-test to determine if this difference is\n",
    "statistically significant. What do you conclude?"
   ]
  },
  {
   "cell_type": "code",
   "execution_count": 74,
   "metadata": {
    "autoscroll": false,
    "ein.tags": "worksheet-0",
    "slideshow": {
     "slide_type": "-"
    }
   },
   "outputs": [
    {
     "name": "stdout",
     "output_type": "stream",
     "text": [
      "Difference in mean enrollement between treatment and control gorups in 1998: 0.0388421646651228\n",
      "Ttest_indResult(statistic=8.358720567418374, pvalue=6.636344447523235e-17)\n"
     ]
    }
   ],
   "source": [
    "poor_1998_treat = progresa[(progresa['year']==98)&(progresa['poor']==1)&(progresa['progresa']==1)]\n",
    "trt=poor_1998_treat.sc.describe()\n",
    "poor_1998_control = progresa[(progresa['year']==98)&(progresa['poor']==1)&(progresa['progresa']==0)]\n",
    "cnt=poor_1998_control.sc.describe()\n",
    "print \"Difference in mean enrollement between treatment and control gorups in 1998:\",(trt['mean']-cnt['mean'])\n",
    "print scipy.stats.ttest_ind_from_stats(trt['mean'],trt['std'],trt['count'],cnt['mean'],cnt['std'],cnt['count'])"
   ]
  },
  {
   "cell_type": "markdown",
   "metadata": {
    "ein.tags": "worksheet-0",
    "slideshow": {
     "slide_type": "-"
    }
   },
   "source": [
    "there is a small, statistically significant difference in rate of enrollment"
   ]
  },
  {
   "cell_type": "markdown",
   "metadata": {
    "ein.tags": "worksheet-0",
    "slideshow": {
     "slide_type": "-"
    }
   },
   "source": [
    "### 2.2 Cross-Sectional Estimator: Regression\n",
    "\n",
    "Estimate the effects of Progresa on enrollment using a regression\n",
    "model, by regressing the 1998 enrollment rates **of the poor** on\n",
    "treatment assignment.  Do not include any additional control\n",
    "variables.\n",
    "Discuss the following:\n",
    "\n",
    "* Based on this model, how much did Progresa increase the likelihood of a child enrolling?\n",
    "* How does your regression estimate compare to your t-test estimate from part 2.1?\n",
    "* Based on this regression model, can we reject the null hypothesis that the treatment effects are zero? \n",
    "* What is the counterfactual assumption underlying this regression?\n",
    "\n",
    "Note: I recommend to use statsmodels.formula.api as this allows to use\n",
    "convenient R-style formulas and provedes nice summaries of the results."
   ]
  },
  {
   "cell_type": "code",
   "execution_count": 78,
   "metadata": {
    "autoscroll": false,
    "ein.tags": "worksheet-0",
    "slideshow": {
     "slide_type": "-"
    }
   },
   "outputs": [
    {
     "data": {
      "text/html": [
       "<table class=\"simpletable\">\n",
       "<caption>OLS Regression Results</caption>\n",
       "<tr>\n",
       "  <th>Dep. Variable:</th>           <td>sc</td>        <th>  R-squared:         </th> <td>   0.003</td> \n",
       "</tr>\n",
       "<tr>\n",
       "  <th>Model:</th>                   <td>OLS</td>       <th>  Adj. R-squared:    </th> <td>   0.003</td> \n",
       "</tr>\n",
       "<tr>\n",
       "  <th>Method:</th>             <td>Least Squares</td>  <th>  F-statistic:       </th> <td>   69.87</td> \n",
       "</tr>\n",
       "<tr>\n",
       "  <th>Date:</th>             <td>Tue, 01 May 2018</td> <th>  Prob (F-statistic):</th> <td>6.64e-17</td> \n",
       "</tr>\n",
       "<tr>\n",
       "  <th>Time:</th>                 <td>15:09:13</td>     <th>  Log-Likelihood:    </th> <td> -11926.</td> \n",
       "</tr>\n",
       "<tr>\n",
       "  <th>No. Observations:</th>      <td> 27450</td>      <th>  AIC:               </th> <td>2.386e+04</td>\n",
       "</tr>\n",
       "<tr>\n",
       "  <th>Df Residuals:</th>          <td> 27448</td>      <th>  BIC:               </th> <td>2.387e+04</td>\n",
       "</tr>\n",
       "<tr>\n",
       "  <th>Df Model:</th>              <td>     1</td>      <th>                     </th>     <td> </td>    \n",
       "</tr>\n",
       "<tr>\n",
       "  <th>Covariance Type:</th>      <td>nonrobust</td>    <th>                     </th>     <td> </td>    \n",
       "</tr>\n",
       "</table>\n",
       "<table class=\"simpletable\">\n",
       "<tr>\n",
       "      <td></td>         <th>coef</th>     <th>std err</th>      <th>t</th>      <th>P>|t|</th>  <th>[0.025</th>    <th>0.975]</th>  \n",
       "</tr>\n",
       "<tr>\n",
       "  <th>Intercept</th> <td>    0.8076</td> <td>    0.004</td> <td>  220.676</td> <td> 0.000</td> <td>    0.800</td> <td>    0.815</td>\n",
       "</tr>\n",
       "<tr>\n",
       "  <th>progresa</th>  <td>    0.0388</td> <td>    0.005</td> <td>    8.359</td> <td> 0.000</td> <td>    0.030</td> <td>    0.048</td>\n",
       "</tr>\n",
       "</table>\n",
       "<table class=\"simpletable\">\n",
       "<tr>\n",
       "  <th>Omnibus:</th>       <td>7638.939</td> <th>  Durbin-Watson:     </th> <td>   1.734</td> \n",
       "</tr>\n",
       "<tr>\n",
       "  <th>Prob(Omnibus):</th>  <td> 0.000</td>  <th>  Jarque-Bera (JB):  </th> <td>15767.534</td>\n",
       "</tr>\n",
       "<tr>\n",
       "  <th>Skew:</th>           <td>-1.767</td>  <th>  Prob(JB):          </th> <td>    0.00</td> \n",
       "</tr>\n",
       "<tr>\n",
       "  <th>Kurtosis:</th>       <td> 4.140</td>  <th>  Cond. No.          </th> <td>    3.01</td> \n",
       "</tr>\n",
       "</table>"
      ],
      "text/plain": [
       "<class 'statsmodels.iolib.summary.Summary'>\n",
       "\"\"\"\n",
       "                            OLS Regression Results                            \n",
       "==============================================================================\n",
       "Dep. Variable:                     sc   R-squared:                       0.003\n",
       "Model:                            OLS   Adj. R-squared:                  0.003\n",
       "Method:                 Least Squares   F-statistic:                     69.87\n",
       "Date:                Tue, 01 May 2018   Prob (F-statistic):           6.64e-17\n",
       "Time:                        15:09:13   Log-Likelihood:                -11926.\n",
       "No. Observations:               27450   AIC:                         2.386e+04\n",
       "Df Residuals:                   27448   BIC:                         2.387e+04\n",
       "Df Model:                           1                                         \n",
       "Covariance Type:            nonrobust                                         \n",
       "==============================================================================\n",
       "                 coef    std err          t      P>|t|      [0.025      0.975]\n",
       "------------------------------------------------------------------------------\n",
       "Intercept      0.8076      0.004    220.676      0.000       0.800       0.815\n",
       "progresa       0.0388      0.005      8.359      0.000       0.030       0.048\n",
       "==============================================================================\n",
       "Omnibus:                     7638.939   Durbin-Watson:                   1.734\n",
       "Prob(Omnibus):                  0.000   Jarque-Bera (JB):            15767.534\n",
       "Skew:                          -1.767   Prob(JB):                         0.00\n",
       "Kurtosis:                       4.140   Cond. No.                         3.01\n",
       "==============================================================================\n",
       "\n",
       "Warnings:\n",
       "[1] Standard Errors assume that the covariance matrix of the errors is correctly specified.\n",
       "\"\"\""
      ]
     },
     "execution_count": 78,
     "metadata": {},
     "output_type": "execute_result"
    }
   ],
   "source": [
    "prog_poor_1998=progresa[(progresa['year']==98)&(progresa['poor']==1)]\n",
    "sm.formula.ols(formula='sc ~ progresa', data=prog_poor_1998).fit().summary()"
   ]
  },
  {
   "cell_type": "markdown",
   "metadata": {
    "ein.tags": "worksheet-0",
    "slideshow": {
     "slide_type": "-"
    }
   },
   "source": [
    "There is a difference in enrollment of ~0.0388% between treated and control groups, and this difference is statistically significant. Therefore, the progresa program had some impact.\n",
    "\n",
    "effect of progresa in this linear model is similar to average enrollment rate in treated groups in the prev test\n",
    "\n",
    "we can reject the null hypothesis (small p value), thus progresa had a significant impact on treated groups\n",
    "\n",
    "counterfactual: without treatment (progresa program) average enrollment rate in schools would be similar in treatment and control groups "
   ]
  },
  {
   "cell_type": "markdown",
   "metadata": {
    "ein.tags": "worksheet-0",
    "slideshow": {
     "slide_type": "-"
    }
   },
   "source": [
    "### 2.3 Multiple Regression\n",
    "\n",
    "Re-run the above regression estimated but this time include a set of\n",
    "relevant control variables. Include, for instance, age, distance to a secondary\n",
    "school, gender, education of household head, welfare index,\n",
    "indigenous, etc.\n",
    "\n",
    "* How do the controls affect the point estimate of treatment effect?\n",
    "* How do the controls affect the standard error on the treatment effect? \n",
    "* How do you interpret the differences (or similarities) between your estimates of 2.2 and 2.3?"
   ]
  },
  {
   "cell_type": "code",
   "execution_count": 79,
   "metadata": {
    "autoscroll": false,
    "ein.tags": "worksheet-0",
    "slideshow": {
     "slide_type": "-"
    }
   },
   "outputs": [
    {
     "data": {
      "text/html": [
       "<table class=\"simpletable\">\n",
       "<caption>OLS Regression Results</caption>\n",
       "<tr>\n",
       "  <th>Dep. Variable:</th>           <td>sc</td>        <th>  R-squared:         </th> <td>   0.327</td> \n",
       "</tr>\n",
       "<tr>\n",
       "  <th>Model:</th>                   <td>OLS</td>       <th>  Adj. R-squared:    </th> <td>   0.327</td> \n",
       "</tr>\n",
       "<tr>\n",
       "  <th>Method:</th>             <td>Least Squares</td>  <th>  F-statistic:       </th> <td>   829.2</td> \n",
       "</tr>\n",
       "<tr>\n",
       "  <th>Date:</th>             <td>Tue, 01 May 2018</td> <th>  Prob (F-statistic):</th>  <td>  0.00</td>  \n",
       "</tr>\n",
       "<tr>\n",
       "  <th>Time:</th>                 <td>15:14:13</td>     <th>  Log-Likelihood:    </th> <td> -6467.6</td> \n",
       "</tr>\n",
       "<tr>\n",
       "  <th>No. Observations:</th>      <td> 27267</td>      <th>  AIC:               </th> <td>1.297e+04</td>\n",
       "</tr>\n",
       "<tr>\n",
       "  <th>Df Residuals:</th>          <td> 27250</td>      <th>  BIC:               </th> <td>1.311e+04</td>\n",
       "</tr>\n",
       "<tr>\n",
       "  <th>Df Model:</th>              <td>    16</td>      <th>                     </th>     <td> </td>    \n",
       "</tr>\n",
       "<tr>\n",
       "  <th>Covariance Type:</th>      <td>nonrobust</td>    <th>                     </th>     <td> </td>    \n",
       "</tr>\n",
       "</table>\n",
       "<table class=\"simpletable\">\n",
       "<tr>\n",
       "        <td></td>           <th>coef</th>     <th>std err</th>      <th>t</th>      <th>P>|t|</th>  <th>[0.025</th>    <th>0.975]</th>  \n",
       "</tr>\n",
       "<tr>\n",
       "  <th>Intercept</th>     <td>    0.9048</td> <td>    0.013</td> <td>   69.500</td> <td> 0.000</td> <td>    0.879</td> <td>    0.930</td>\n",
       "</tr>\n",
       "<tr>\n",
       "  <th>C(age)[T.8]</th>   <td>    0.0015</td> <td>    0.008</td> <td>    0.187</td> <td> 0.852</td> <td>   -0.014</td> <td>    0.017</td>\n",
       "</tr>\n",
       "<tr>\n",
       "  <th>C(age)[T.9]</th>   <td>   -0.0009</td> <td>    0.008</td> <td>   -0.107</td> <td> 0.915</td> <td>   -0.017</td> <td>    0.015</td>\n",
       "</tr>\n",
       "<tr>\n",
       "  <th>C(age)[T.10]</th>  <td>   -0.0050</td> <td>    0.008</td> <td>   -0.615</td> <td> 0.538</td> <td>   -0.021</td> <td>    0.011</td>\n",
       "</tr>\n",
       "<tr>\n",
       "  <th>C(age)[T.11]</th>  <td>   -0.0218</td> <td>    0.008</td> <td>   -2.723</td> <td> 0.006</td> <td>   -0.037</td> <td>   -0.006</td>\n",
       "</tr>\n",
       "<tr>\n",
       "  <th>C(age)[T.12]</th>  <td>   -0.0929</td> <td>    0.008</td> <td>  -11.456</td> <td> 0.000</td> <td>   -0.109</td> <td>   -0.077</td>\n",
       "</tr>\n",
       "<tr>\n",
       "  <th>C(age)[T.13]</th>  <td>   -0.2002</td> <td>    0.008</td> <td>  -24.441</td> <td> 0.000</td> <td>   -0.216</td> <td>   -0.184</td>\n",
       "</tr>\n",
       "<tr>\n",
       "  <th>C(age)[T.14]</th>  <td>   -0.3021</td> <td>    0.008</td> <td>  -36.108</td> <td> 0.000</td> <td>   -0.319</td> <td>   -0.286</td>\n",
       "</tr>\n",
       "<tr>\n",
       "  <th>C(age)[T.15]</th>  <td>   -0.4901</td> <td>    0.009</td> <td>  -57.109</td> <td> 0.000</td> <td>   -0.507</td> <td>   -0.473</td>\n",
       "</tr>\n",
       "<tr>\n",
       "  <th>C(age)[T.16]</th>  <td>   -0.6172</td> <td>    0.009</td> <td>  -69.105</td> <td> 0.000</td> <td>   -0.635</td> <td>   -0.600</td>\n",
       "</tr>\n",
       "<tr>\n",
       "  <th>C(age)[T.17]</th>  <td>   -0.6895</td> <td>    0.018</td> <td>  -37.836</td> <td> 0.000</td> <td>   -0.725</td> <td>   -0.654</td>\n",
       "</tr>\n",
       "<tr>\n",
       "  <th>progresa</th>      <td>    0.0354</td> <td>    0.004</td> <td>    9.234</td> <td> 0.000</td> <td>    0.028</td> <td>    0.043</td>\n",
       "</tr>\n",
       "<tr>\n",
       "  <th>dist_sec</th>      <td>   -0.0117</td> <td>    0.001</td> <td>  -13.906</td> <td> 0.000</td> <td>   -0.013</td> <td>   -0.010</td>\n",
       "</tr>\n",
       "<tr>\n",
       "  <th>sex</th>           <td>    0.0321</td> <td>    0.004</td> <td>    8.633</td> <td> 0.000</td> <td>    0.025</td> <td>    0.039</td>\n",
       "</tr>\n",
       "<tr>\n",
       "  <th>welfare_index</th> <td> 5.052e-05</td> <td> 1.65e-05</td> <td>    3.057</td> <td> 0.002</td> <td> 1.81e-05</td> <td> 8.29e-05</td>\n",
       "</tr>\n",
       "<tr>\n",
       "  <th>indig</th>         <td>    0.0471</td> <td>    0.004</td> <td>   11.842</td> <td> 0.000</td> <td>    0.039</td> <td>    0.055</td>\n",
       "</tr>\n",
       "<tr>\n",
       "  <th>hohedu</th>        <td>    0.0089</td> <td>    0.001</td> <td>   11.909</td> <td> 0.000</td> <td>    0.007</td> <td>    0.010</td>\n",
       "</tr>\n",
       "</table>\n",
       "<table class=\"simpletable\">\n",
       "<tr>\n",
       "  <th>Omnibus:</th>       <td>3491.379</td> <th>  Durbin-Watson:     </th> <td>   1.694</td>\n",
       "</tr>\n",
       "<tr>\n",
       "  <th>Prob(Omnibus):</th>  <td> 0.000</td>  <th>  Jarque-Bera (JB):  </th> <td>5836.461</td>\n",
       "</tr>\n",
       "<tr>\n",
       "  <th>Skew:</th>           <td>-0.877</td>  <th>  Prob(JB):          </th> <td>    0.00</td>\n",
       "</tr>\n",
       "<tr>\n",
       "  <th>Kurtosis:</th>       <td> 4.435</td>  <th>  Cond. No.          </th> <td>7.61e+03</td>\n",
       "</tr>\n",
       "</table>"
      ],
      "text/plain": [
       "<class 'statsmodels.iolib.summary.Summary'>\n",
       "\"\"\"\n",
       "                            OLS Regression Results                            \n",
       "==============================================================================\n",
       "Dep. Variable:                     sc   R-squared:                       0.327\n",
       "Model:                            OLS   Adj. R-squared:                  0.327\n",
       "Method:                 Least Squares   F-statistic:                     829.2\n",
       "Date:                Tue, 01 May 2018   Prob (F-statistic):               0.00\n",
       "Time:                        15:14:13   Log-Likelihood:                -6467.6\n",
       "No. Observations:               27267   AIC:                         1.297e+04\n",
       "Df Residuals:                   27250   BIC:                         1.311e+04\n",
       "Df Model:                          16                                         \n",
       "Covariance Type:            nonrobust                                         \n",
       "=================================================================================\n",
       "                    coef    std err          t      P>|t|      [0.025      0.975]\n",
       "---------------------------------------------------------------------------------\n",
       "Intercept         0.9048      0.013     69.500      0.000       0.879       0.930\n",
       "C(age)[T.8]       0.0015      0.008      0.187      0.852      -0.014       0.017\n",
       "C(age)[T.9]      -0.0009      0.008     -0.107      0.915      -0.017       0.015\n",
       "C(age)[T.10]     -0.0050      0.008     -0.615      0.538      -0.021       0.011\n",
       "C(age)[T.11]     -0.0218      0.008     -2.723      0.006      -0.037      -0.006\n",
       "C(age)[T.12]     -0.0929      0.008    -11.456      0.000      -0.109      -0.077\n",
       "C(age)[T.13]     -0.2002      0.008    -24.441      0.000      -0.216      -0.184\n",
       "C(age)[T.14]     -0.3021      0.008    -36.108      0.000      -0.319      -0.286\n",
       "C(age)[T.15]     -0.4901      0.009    -57.109      0.000      -0.507      -0.473\n",
       "C(age)[T.16]     -0.6172      0.009    -69.105      0.000      -0.635      -0.600\n",
       "C(age)[T.17]     -0.6895      0.018    -37.836      0.000      -0.725      -0.654\n",
       "progresa          0.0354      0.004      9.234      0.000       0.028       0.043\n",
       "dist_sec         -0.0117      0.001    -13.906      0.000      -0.013      -0.010\n",
       "sex               0.0321      0.004      8.633      0.000       0.025       0.039\n",
       "welfare_index  5.052e-05   1.65e-05      3.057      0.002    1.81e-05    8.29e-05\n",
       "indig             0.0471      0.004     11.842      0.000       0.039       0.055\n",
       "hohedu            0.0089      0.001     11.909      0.000       0.007       0.010\n",
       "==============================================================================\n",
       "Omnibus:                     3491.379   Durbin-Watson:                   1.694\n",
       "Prob(Omnibus):                  0.000   Jarque-Bera (JB):             5836.461\n",
       "Skew:                          -0.877   Prob(JB):                         0.00\n",
       "Kurtosis:                       4.435   Cond. No.                     7.61e+03\n",
       "==============================================================================\n",
       "\n",
       "Warnings:\n",
       "[1] Standard Errors assume that the covariance matrix of the errors is correctly specified.\n",
       "[2] The condition number is large, 7.61e+03. This might indicate that there are\n",
       "strong multicollinearity or other numerical problems.\n",
       "\"\"\""
      ]
     },
     "execution_count": 79,
     "metadata": {},
     "output_type": "execute_result"
    }
   ],
   "source": [
    "sm.formula.ols(formula='sc ~ progresa + C(age) + dist_sec + sex + welfare_index + indig + hohedu', data=prog_poor_1998).fit().summary()"
   ]
  },
  {
   "cell_type": "markdown",
   "metadata": {
    "ein.tags": "worksheet-0",
    "slideshow": {
     "slide_type": "-"
    }
   },
   "source": [
    "accounting for control variables decreases the regression coefficient to 0.0354\n",
    "\n",
    "similarly standard error decreased to 0.004\n",
    "\n",
    "differences are small, ie, variables controlled for have only a small impact on rates of enrollment"
   ]
  },
  {
   "cell_type": "markdown",
   "metadata": {
    "ein.tags": "worksheet-0",
    "slideshow": {
     "slide_type": "-"
    }
   },
   "source": [
    "### 2.4 Difference-in-Difference, version 1 (tabular)\n",
    "\n",
    "Thus far, we have computed the effects of Progresa by estimating the\n",
    "difference in 1998 enrollment rates across villages. An alternative\n",
    "approach would be to compute the treatment effect using a\n",
    "difference-in-differences framework.\n",
    "\n",
    "Begin by estimating the average treatment effects of the program for poor households using data from 1997 and 1998. Specifically, calculate:\n",
    "\n",
    "a) the difference (between 1997 and 1998) in enrollment rates among poor households in treated villages\n",
    "\n",
    "b) the difference (between 1997 and 1998) in enrollment rates among poor households in control villages.\n",
    "\n",
    "c) The difference between these two differences is your estimate.\n",
    "\n",
    "* What is your estimate of the impact, and how does it compare to your earlier (simple difference) results?\n",
    "\n",
    "* What is the counterfactual assumption underlying this estimate? \n"
   ]
  },
  {
   "cell_type": "code",
   "execution_count": 88,
   "metadata": {
    "autoscroll": false,
    "ein.tags": "worksheet-0",
    "slideshow": {
     "slide_type": "-"
    }
   },
   "outputs": [
    {
     "name": "stdout",
     "output_type": "stream",
     "text": [
      "Difference in means of households in treated villages between 97 and 98: 0.023782233992046597\n",
      "Difference in means of households in control villages between 97 and 98: -0.007549046327276487\n",
      "Difference-in-Difference: 0.031331280319323085\n"
     ]
    }
   ],
   "source": [
    "poor_1997_treat = progresa[(progresa['year']==97)&(progresa['poor']==1)&(progresa['progresa']==1)]\n",
    "trt97 = poor_1997_treat.sc.describe()\n",
    "poor_1997_control = progresa[(progresa['year']==97)&(progresa['poor']==1)&(progresa['progresa']==0)]\n",
    "cnt97 = poor_1997_control.sc.describe()\n",
    "poor_1998_treat = progresa[(progresa['year']==98)&(progresa['poor']==1)&(progresa['progresa']==1)]\n",
    "trt98 = poor_1998_treat.sc.describe()\n",
    "poor_1998_control = progresa[(progresa['year']==98)&(progresa['poor']==1)&(progresa['progresa']==0)]\n",
    "cnt98 = poor_1998_control.sc.describe()\n",
    "\n",
    "trtdiff = trt98['mean']-trt97['mean']\n",
    "print 'Difference in means of households in treated villages between 97 and 98:', trtdiff \n",
    "\n",
    "cntdiff = cnt98['mean']-cnt97['mean']\n",
    "print 'Difference in means of households in control villages between 97 and 98:', cntdiff \n",
    "\n",
    "print 'Difference-in-Difference:', trtdiff-cntdiff"
   ]
  },
  {
   "cell_type": "markdown",
   "metadata": {
    "ein.tags": "worksheet-0",
    "slideshow": {
     "slide_type": "-"
    }
   },
   "source": [
    "There is a 3.1% increase in likelihood of a child being enrolled in school after administering the progresa program as compared to those in the control group, between the years 1997 and 1998.\n",
    "\n",
    "the impact is less than that obtained from the linear model (baseline metrics were not ideal?)\n",
    "\n",
    "counterfactual: diff-in-diff is 0, (enrollment of treatment group and control group would not have changed without treatment)"
   ]
  },
  {
   "cell_type": "markdown",
   "metadata": {
    "ein.tags": "worksheet-0",
    "slideshow": {
     "slide_type": "-"
    }
   },
   "source": [
    "### 2.5 Difference-in-Difference, version 2 (regression)\n",
    "\n",
    "Now use a regression specification to estimate the average treatment\n",
    "effects of the program in a difference-in-differences\n",
    "framework. Include at least 5 control variables.\n",
    "\n",
    "* What is your estimate of the impact of Progresa? Be very specific in\n",
    "  interpreting your coefficients and standard errors, and make sure to\n",
    "  specify exactly what units you are measuring and estimating.\n",
    "\n",
    "* How do these estimates of the treatment effect compare to the\n",
    "  estimates based on the simple difference?\n",
    "\n",
    "* How do these estimates compare to the difference-in-difference\n",
    "  estimates from 2.4 above? What accounts for these differences?\n",
    "\n",
    "* What is the counterfactual assumption underlying this regression? "
   ]
  },
  {
   "cell_type": "code",
   "execution_count": 92,
   "metadata": {
    "autoscroll": false,
    "ein.tags": "worksheet-0",
    "slideshow": {
     "slide_type": "-"
    }
   },
   "outputs": [
    {
     "data": {
      "text/html": [
       "<table class=\"simpletable\">\n",
       "<caption>OLS Regression Results</caption>\n",
       "<tr>\n",
       "  <th>Dep. Variable:</th>           <td>sc</td>        <th>  R-squared:         </th> <td>   0.346</td> \n",
       "</tr>\n",
       "<tr>\n",
       "  <th>Model:</th>                   <td>OLS</td>       <th>  Adj. R-squared:    </th> <td>   0.346</td> \n",
       "</tr>\n",
       "<tr>\n",
       "  <th>Method:</th>             <td>Least Squares</td>  <th>  F-statistic:       </th> <td>   1619.</td> \n",
       "</tr>\n",
       "<tr>\n",
       "  <th>Date:</th>             <td>Tue, 01 May 2018</td> <th>  Prob (F-statistic):</th>  <td>  0.00</td>  \n",
       "</tr>\n",
       "<tr>\n",
       "  <th>Time:</th>                 <td>15:58:11</td>     <th>  Log-Likelihood:    </th> <td> -13871.</td> \n",
       "</tr>\n",
       "<tr>\n",
       "  <th>No. Observations:</th>      <td> 58165</td>      <th>  AIC:               </th> <td>2.778e+04</td>\n",
       "</tr>\n",
       "<tr>\n",
       "  <th>Df Residuals:</th>          <td> 58145</td>      <th>  BIC:               </th> <td>2.796e+04</td>\n",
       "</tr>\n",
       "<tr>\n",
       "  <th>Df Model:</th>              <td>    19</td>      <th>                     </th>     <td> </td>    \n",
       "</tr>\n",
       "<tr>\n",
       "  <th>Covariance Type:</th>      <td>nonrobust</td>    <th>                     </th>     <td> </td>    \n",
       "</tr>\n",
       "</table>\n",
       "<table class=\"simpletable\">\n",
       "<tr>\n",
       "        <td></td>          <th>coef</th>     <th>std err</th>      <th>t</th>      <th>P>|t|</th>  <th>[0.025</th>    <th>0.975]</th>  \n",
       "</tr>\n",
       "<tr>\n",
       "  <th>Intercept</th>    <td>    0.9138</td> <td>    0.007</td> <td>  127.820</td> <td> 0.000</td> <td>    0.900</td> <td>    0.928</td>\n",
       "</tr>\n",
       "<tr>\n",
       "  <th>C(age)[T.7]</th>  <td>   -0.0156</td> <td>    0.007</td> <td>   -2.196</td> <td> 0.028</td> <td>   -0.030</td> <td>   -0.002</td>\n",
       "</tr>\n",
       "<tr>\n",
       "  <th>C(age)[T.8]</th>  <td>   -0.0164</td> <td>    0.007</td> <td>   -2.313</td> <td> 0.021</td> <td>   -0.030</td> <td>   -0.002</td>\n",
       "</tr>\n",
       "<tr>\n",
       "  <th>C(age)[T.9]</th>  <td>   -0.0206</td> <td>    0.007</td> <td>   -2.885</td> <td> 0.004</td> <td>   -0.035</td> <td>   -0.007</td>\n",
       "</tr>\n",
       "<tr>\n",
       "  <th>C(age)[T.10]</th> <td>   -0.0283</td> <td>    0.007</td> <td>   -3.982</td> <td> 0.000</td> <td>   -0.042</td> <td>   -0.014</td>\n",
       "</tr>\n",
       "<tr>\n",
       "  <th>C(age)[T.11]</th> <td>   -0.0461</td> <td>    0.007</td> <td>   -6.492</td> <td> 0.000</td> <td>   -0.060</td> <td>   -0.032</td>\n",
       "</tr>\n",
       "<tr>\n",
       "  <th>C(age)[T.12]</th> <td>   -0.1330</td> <td>    0.007</td> <td>  -18.595</td> <td> 0.000</td> <td>   -0.147</td> <td>   -0.119</td>\n",
       "</tr>\n",
       "<tr>\n",
       "  <th>C(age)[T.13]</th> <td>   -0.2469</td> <td>    0.007</td> <td>  -34.254</td> <td> 0.000</td> <td>   -0.261</td> <td>   -0.233</td>\n",
       "</tr>\n",
       "<tr>\n",
       "  <th>C(age)[T.14]</th> <td>   -0.3709</td> <td>    0.007</td> <td>  -50.954</td> <td> 0.000</td> <td>   -0.385</td> <td>   -0.357</td>\n",
       "</tr>\n",
       "<tr>\n",
       "  <th>C(age)[T.15]</th> <td>   -0.5482</td> <td>    0.007</td> <td>  -74.607</td> <td> 0.000</td> <td>   -0.563</td> <td>   -0.534</td>\n",
       "</tr>\n",
       "<tr>\n",
       "  <th>C(age)[T.16]</th> <td>   -0.6635</td> <td>    0.008</td> <td>  -87.379</td> <td> 0.000</td> <td>   -0.678</td> <td>   -0.649</td>\n",
       "</tr>\n",
       "<tr>\n",
       "  <th>C(age)[T.17]</th> <td>   -0.7185</td> <td>    0.018</td> <td>  -38.990</td> <td> 0.000</td> <td>   -0.755</td> <td>   -0.682</td>\n",
       "</tr>\n",
       "<tr>\n",
       "  <th>progresa</th>     <td>    0.0057</td> <td>    0.004</td> <td>    1.595</td> <td> 0.111</td> <td>   -0.001</td> <td>    0.013</td>\n",
       "</tr>\n",
       "<tr>\n",
       "  <th>y98</th>          <td>    0.0140</td> <td>    0.004</td> <td>    3.343</td> <td> 0.001</td> <td>    0.006</td> <td>    0.022</td>\n",
       "</tr>\n",
       "<tr>\n",
       "  <th>progresa:y98</th> <td>    0.0304</td> <td>    0.005</td> <td>    5.781</td> <td> 0.000</td> <td>    0.020</td> <td>    0.041</td>\n",
       "</tr>\n",
       "<tr>\n",
       "  <th>sex</th>          <td>    0.0342</td> <td>    0.003</td> <td>   13.399</td> <td> 0.000</td> <td>    0.029</td> <td>    0.039</td>\n",
       "</tr>\n",
       "<tr>\n",
       "  <th>dist_cap</th>     <td>    0.0003</td> <td> 1.87e-05</td> <td>   17.538</td> <td> 0.000</td> <td>    0.000</td> <td>    0.000</td>\n",
       "</tr>\n",
       "<tr>\n",
       "  <th>indig</th>        <td>    0.0233</td> <td>    0.003</td> <td>    7.504</td> <td> 0.000</td> <td>    0.017</td> <td>    0.029</td>\n",
       "</tr>\n",
       "<tr>\n",
       "  <th>dist_sec</th>     <td>   -0.0098</td> <td>    0.001</td> <td>  -16.542</td> <td> 0.000</td> <td>   -0.011</td> <td>   -0.009</td>\n",
       "</tr>\n",
       "<tr>\n",
       "  <th>hohedu</th>       <td>    0.0073</td> <td>    0.001</td> <td>   14.264</td> <td> 0.000</td> <td>    0.006</td> <td>    0.008</td>\n",
       "</tr>\n",
       "</table>\n",
       "<table class=\"simpletable\">\n",
       "<tr>\n",
       "  <th>Omnibus:</th>       <td>6486.393</td> <th>  Durbin-Watson:     </th> <td>   1.504</td> \n",
       "</tr>\n",
       "<tr>\n",
       "  <th>Prob(Omnibus):</th>  <td> 0.000</td>  <th>  Jarque-Bera (JB):  </th> <td>10565.067</td>\n",
       "</tr>\n",
       "<tr>\n",
       "  <th>Skew:</th>           <td>-0.794</td>  <th>  Prob(JB):          </th> <td>    0.00</td> \n",
       "</tr>\n",
       "<tr>\n",
       "  <th>Kurtosis:</th>       <td> 4.357</td>  <th>  Cond. No.          </th> <td>2.99e+03</td> \n",
       "</tr>\n",
       "</table>"
      ],
      "text/plain": [
       "<class 'statsmodels.iolib.summary.Summary'>\n",
       "\"\"\"\n",
       "                            OLS Regression Results                            \n",
       "==============================================================================\n",
       "Dep. Variable:                     sc   R-squared:                       0.346\n",
       "Model:                            OLS   Adj. R-squared:                  0.346\n",
       "Method:                 Least Squares   F-statistic:                     1619.\n",
       "Date:                Tue, 01 May 2018   Prob (F-statistic):               0.00\n",
       "Time:                        15:58:11   Log-Likelihood:                -13871.\n",
       "No. Observations:               58165   AIC:                         2.778e+04\n",
       "Df Residuals:                   58145   BIC:                         2.796e+04\n",
       "Df Model:                          19                                         \n",
       "Covariance Type:            nonrobust                                         \n",
       "================================================================================\n",
       "                   coef    std err          t      P>|t|      [0.025      0.975]\n",
       "--------------------------------------------------------------------------------\n",
       "Intercept        0.9138      0.007    127.820      0.000       0.900       0.928\n",
       "C(age)[T.7]     -0.0156      0.007     -2.196      0.028      -0.030      -0.002\n",
       "C(age)[T.8]     -0.0164      0.007     -2.313      0.021      -0.030      -0.002\n",
       "C(age)[T.9]     -0.0206      0.007     -2.885      0.004      -0.035      -0.007\n",
       "C(age)[T.10]    -0.0283      0.007     -3.982      0.000      -0.042      -0.014\n",
       "C(age)[T.11]    -0.0461      0.007     -6.492      0.000      -0.060      -0.032\n",
       "C(age)[T.12]    -0.1330      0.007    -18.595      0.000      -0.147      -0.119\n",
       "C(age)[T.13]    -0.2469      0.007    -34.254      0.000      -0.261      -0.233\n",
       "C(age)[T.14]    -0.3709      0.007    -50.954      0.000      -0.385      -0.357\n",
       "C(age)[T.15]    -0.5482      0.007    -74.607      0.000      -0.563      -0.534\n",
       "C(age)[T.16]    -0.6635      0.008    -87.379      0.000      -0.678      -0.649\n",
       "C(age)[T.17]    -0.7185      0.018    -38.990      0.000      -0.755      -0.682\n",
       "progresa         0.0057      0.004      1.595      0.111      -0.001       0.013\n",
       "y98              0.0140      0.004      3.343      0.001       0.006       0.022\n",
       "progresa:y98     0.0304      0.005      5.781      0.000       0.020       0.041\n",
       "sex              0.0342      0.003     13.399      0.000       0.029       0.039\n",
       "dist_cap         0.0003   1.87e-05     17.538      0.000       0.000       0.000\n",
       "indig            0.0233      0.003      7.504      0.000       0.017       0.029\n",
       "dist_sec        -0.0098      0.001    -16.542      0.000      -0.011      -0.009\n",
       "hohedu           0.0073      0.001     14.264      0.000       0.006       0.008\n",
       "==============================================================================\n",
       "Omnibus:                     6486.393   Durbin-Watson:                   1.504\n",
       "Prob(Omnibus):                  0.000   Jarque-Bera (JB):            10565.067\n",
       "Skew:                          -0.794   Prob(JB):                         0.00\n",
       "Kurtosis:                       4.357   Cond. No.                     2.99e+03\n",
       "==============================================================================\n",
       "\n",
       "Warnings:\n",
       "[1] Standard Errors assume that the covariance matrix of the errors is correctly specified.\n",
       "[2] The condition number is large, 2.99e+03. This might indicate that there are\n",
       "strong multicollinearity or other numerical problems.\n",
       "\"\"\""
      ]
     },
     "execution_count": 92,
     "metadata": {},
     "output_type": "execute_result"
    }
   ],
   "source": [
    "prog_poor = progresa[progresa['poor'] == 1]\n",
    "#adding column to indicate before/after \n",
    "prog_poor.loc[:,'y98'] = np.where(prog_poor.year==98,1,0)\n",
    "sm.formula.ols(formula='sc ~ progresa*y98 + C(age) + sex + dist_cap + indig + dist_sec + hohedu', data=prog_poor).fit().summary()"
   ]
  },
  {
   "cell_type": "raw",
   "metadata": {
    "ein.tags": "worksheet-0",
    "slideshow": {
     "slide_type": "-"
    }
   },
   "source": [
    "controlled for other variables, regression coefficient is 0.0304, and this is statistically significant. therefore the progresa program DOES have a positive impact on school enrollment\n",
    "\n",
    "estimates are lower than simple difference (difference before treatment controlled for)\n",
    "\n",
    "estimates are similar to results from diff-in-diff (slight variation due to change in model/use of control variables)\n",
    "\n",
    "counterfactual: diff-in-diff value is 0 (in absence of treatment, rate of enrollment would be same between groups between 97 and 98)"
   ]
  },
  {
   "cell_type": "markdown",
   "metadata": {
    "ein.tags": "worksheet-0",
    "slideshow": {
     "slide_type": "-"
    }
   },
   "source": [
    "### 2.6 Summary\n",
    "\n",
    "* Based on all the analysis you have undertaken to date, do you\n",
    "  believe that Progresa had a causal impact on the enrollment rates of\n",
    "  poor households in Mexico?  Explain by referring to the methods and\n",
    "  results above."
   ]
  },
  {
   "cell_type": "markdown",
   "metadata": {
    "ein.tags": "worksheet-0",
    "slideshow": {
     "slide_type": "-"
    }
   },
   "source": [
    "progresa had a statistically significant, but perhaps not practically significant impact on school enrollment rates in poor households between the years 1997 and 1998. \n",
    "\n",
    "simplistic methods to measure causality did not account for the uneven baseline conditions, but the use of diff-in-diff (tabular and regression) suggested the significant change."
   ]
  }
 ],
 "metadata": {
  "kernelspec": {
   "display_name": "Python 2",
   "language": "python",
   "name": "python2"
  },
  "language_info": {
   "codemirror_mode": {
    "name": "ipython",
    "version": 2
   },
   "file_extension": ".py",
   "mimetype": "text/x-python",
   "name": "python",
   "nbconvert_exporter": "python",
   "pygments_lexer": "ipython2",
   "version": "2.7.12"
  },
  "name": "ps03_progresa.ipynb"
 },
 "nbformat": 4,
 "nbformat_minor": 1
}
