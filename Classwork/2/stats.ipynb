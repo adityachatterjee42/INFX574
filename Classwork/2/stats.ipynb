{
 "cells": [
  {
   "cell_type": "code",
   "execution_count": 27,
   "metadata": {
    "autoscroll": false,
    "ein.tags": "worksheet-0",
    "slideshow": {
     "slide_type": "-"
    }
   },
   "outputs": [],
   "source": [
    "import math\n",
    "import pandas as pd\n",
    "import numpy as np\n",
    "import matplotlib.pyplot as plt\n",
    "from random import randint\n",
    "%matplotlib inline"
   ]
  },
  {
   "cell_type": "markdown",
   "metadata": {
    "ein.tags": "worksheet-0",
    "slideshow": {
     "slide_type": "-"
    }
   },
   "source": [
    "## 1. Variance of normal RV-s\n",
    "\n",
    "Create a large sample (>= 1000) of standard random numbers.  Compute\n",
    "the sample variance using both of the formulas, and by the np.var method."
   ]
  },
  {
   "cell_type": "code",
   "execution_count": 34,
   "metadata": {
    "autoscroll": false,
    "ein.tags": "worksheet-0",
    "slideshow": {
     "slide_type": "-"
    }
   },
   "outputs": [
    {
     "name": "stdout",
     "output_type": "stream",
     "text": [
      "<class 'numpy.ndarray'>\n",
      "-0.0533178863908\n",
      "1.01920481957\n",
      "1.0095567441079598\n"
     ]
    }
   ],
   "source": [
    "n = 1000\n",
    "numbers=[]\n",
    "\n",
    "numbers = np.random.normal(size=1000)\n",
    "print(type(numbers))\n",
    "mean = np.mean(numbers)\n",
    "print(mean)\n",
    "variance = np.mean((numbers - numbers.mean())**2)\n",
    "print(variance)\n",
    "sd = math.sqrt(variance)\n",
    "print(sd)"
   ]
  },
  {
   "cell_type": "markdown",
   "metadata": {
    "ein.tags": "worksheet-0",
    "slideshow": {
     "slide_type": "-"
    }
   },
   "source": [
    "Compute the confidence intervals: $[mean - 1.96*std, mean +\n",
    "                                    1.96*std]$.  Given the confidence\n",
    "intervals, find which percentage of the sample falls outside of the interval."
   ]
  },
  {
   "cell_type": "code",
   "execution_count": 35,
   "metadata": {
    "autoscroll": false,
    "ein.tags": "worksheet-0",
    "slideshow": {
     "slide_type": "-"
    }
   },
   "outputs": [
    {
     "name": "stdout",
     "output_type": "stream",
     "text": [
      "confidence interval is -2.032049104842353 to 1.9254133320608497\n",
      "0.061% of samples are outside the confidence interval\n"
     ]
    }
   ],
   "source": [
    "ci_lo=mean-1.96*sd\n",
    "ci_hi=mean+1.96*sd\n",
    "print(\"confidence interval is {} to {}\".format(ci_lo,ci_hi))\n",
    "\n",
    "count=0\n",
    "for number in numbers:\n",
    "    if(number<ci_lo or number>ci_hi):\n",
    "        count+=1\n",
    "percentage=count/1000\n",
    "print(\"{}% of samples are outside the confidence interval\".format(percentage))"
   ]
  },
  {
   "cell_type": "markdown",
   "metadata": {
    "ein.tags": "worksheet-0",
    "slideshow": {
     "slide_type": "-"
    }
   },
   "source": [
    "## 2. Variance of means\n",
    "\n",
    "Do a similar exercise, just instead of random numbers, pick means of a\n",
    "random sample (of size $n$ = 1, 3, 10, 30, ..., 1000, ... as far as your\n",
    "               computer can go).\n",
    "* How big is the variance of these means?\n",
    "* what is the confidence interval?\n",
    "* what percentage of observations fall outside of the interval?\n",
    "* how does all that depend on the sample size $n$?"
   ]
  },
  {
   "cell_type": "code",
   "execution_count": null,
   "metadata": {
    "autoscroll": false,
    "ein.tags": "worksheet-0",
    "slideshow": {
     "slide_type": "-"
    }
   },
   "outputs": [],
   "source": [
    "n = 1\n",
    "m = 1000\n"
   ]
  }
 ],
 "metadata": {
  "kernelspec": {
   "display_name": "Python 3",
   "language": "python",
   "name": "python3"
  },
  "language_info": {
   "codemirror_mode": {
    "name": "ipython",
    "version": 3
   },
   "file_extension": ".py",
   "mimetype": "text/x-python",
   "name": "python",
   "nbconvert_exporter": "python",
   "pygments_lexer": "ipython3",
   "version": "3.6.2"
  },
  "name": "stats.ipynb"
 },
 "nbformat": 4,
 "nbformat_minor": 2
}
