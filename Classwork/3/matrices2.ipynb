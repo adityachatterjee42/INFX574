{
 "cells": [
  {
   "cell_type": "code",
   "execution_count": 2,
   "metadata": {
    "autoscroll": false,
    "ein.tags": "worksheet-0",
    "slideshow": {
     "slide_type": "-"
    }
   },
   "outputs": [],
   "source": [
    "import numpy as np"
   ]
  },
  {
   "cell_type": "code",
   "execution_count": 3,
   "metadata": {
    "autoscroll": false,
    "ein.tags": "worksheet-0",
    "slideshow": {
     "slide_type": "-"
    }
   },
   "outputs": [
    {
     "name": "stdout",
     "output_type": "stream",
     "text": [
      "[[-1.45012104  0.10862172]\n",
      " [ 0.12682459  1.04265778]]\n",
      "2\n",
      "-1.52575588859\n"
     ]
    },
    {
     "data": {
      "text/plain": [
       "-1.5257558885947367"
      ]
     },
     "execution_count": 3,
     "metadata": {},
     "output_type": "execute_result"
    }
   ],
   "source": [
    "a = np.random.normal(size=(2,2))\n",
    "print(a)\n",
    "## matrix rank\n",
    "print(np.linalg.matrix_rank(a))\n",
    "print(np.linalg.det(a))\n",
    "np.linalg.det(a)"
   ]
  },
  {
   "cell_type": "markdown",
   "metadata": {
    "ein.tags": "worksheet-0",
    "slideshow": {
     "slide_type": "-"
    }
   },
   "source": [
    "## Inverse matrix"
   ]
  },
  {
   "cell_type": "code",
   "execution_count": 4,
   "metadata": {
    "autoscroll": false,
    "ein.tags": "worksheet-0",
    "slideshow": {
     "slide_type": "-"
    }
   },
   "outputs": [
    {
     "name": "stdout",
     "output_type": "stream",
     "text": [
      "[[-0.6833713   0.07119207]\n",
      " [ 0.08312246  0.95042795]]\n",
      "\n",
      " [[  1.00000000e+00  -1.38777878e-17]\n",
      " [  0.00000000e+00   1.00000000e+00]]\n",
      "\n",
      " [[ 1.  0.]\n",
      " [ 0.  1.]]\n",
      "\n",
      " [[ 0.  0.]\n",
      " [ 0.  0.]]\n"
     ]
    }
   ],
   "source": [
    "a1 = np.linalg.inv(a)\n",
    "print(a1)\n",
    "print(\"\\n\", a1 @ a)\n",
    "print(\"\\n\", a @ a1)\n",
    "print(\"\\n\", a @ a1 - np.eye(2))"
   ]
  },
  {
   "cell_type": "markdown",
   "metadata": {
    "ein.tags": "worksheet-0",
    "slideshow": {
     "slide_type": "-"
    }
   },
   "source": [
    "## (Near) singular matrices"
   ]
  },
  {
   "cell_type": "code",
   "execution_count": 5,
   "metadata": {
    "autoscroll": false,
    "ein.tags": "worksheet-0",
    "slideshow": {
     "slide_type": "-"
    }
   },
   "outputs": [
    {
     "name": "stdout",
     "output_type": "stream",
     "text": [
      "[[1 2 3]\n",
      " [4 5 6]\n",
      " [7 8 9]]\n",
      "rank= 2\n"
     ]
    },
    {
     "data": {
      "text/plain": [
       "matrix([[ -4.50359963e+15,   9.00719925e+15,  -4.50359963e+15],\n",
       "        [  9.00719925e+15,  -1.80143985e+16,   9.00719925e+15],\n",
       "        [ -4.50359963e+15,   9.00719925e+15,  -4.50359963e+15]])"
      ]
     },
     "execution_count": 5,
     "metadata": {},
     "output_type": "execute_result"
    }
   ],
   "source": [
    "## singular matrix\n",
    "a = np.matrix(np.arange(1,10).reshape(3,3))\n",
    "print(a)\n",
    "print(\"rank=\", np.linalg.matrix_rank(a))\n",
    "np.linalg.inv(a)\n"
   ]
  },
  {
   "cell_type": "code",
   "execution_count": 12,
   "metadata": {
    "autoscroll": false,
    "ein.tags": "worksheet-0",
    "slideshow": {
     "slide_type": "-"
    }
   },
   "outputs": [
    {
     "name": "stdout",
     "output_type": "stream",
     "text": [
      "[[ 1.1  3.   5. ]\n",
      " [ 3.   5.1  7. ]\n",
      " [ 5.   7.   9.1]]\n",
      "rank= 3\n",
      "\n",
      " [[  1.00000000e+00  -7.10542736e-15  -7.10542736e-15]\n",
      " [  0.00000000e+00   1.00000000e+00   1.06581410e-14]\n",
      " [  1.77635684e-15  -3.55271368e-15   1.00000000e+00]]\n",
      "\n",
      " [[ -1.77635684e-15  -7.10542736e-15  -7.10542736e-15]\n",
      " [  0.00000000e+00   3.55271368e-15   1.06581410e-14]\n",
      " [  1.77635684e-15  -3.55271368e-15  -1.77635684e-15]]\n",
      "[[ 1.01  3.    5.  ]\n",
      " [ 3.    5.01  7.  ]\n",
      " [ 5.    7.    9.01]]\n",
      "rank= 3\n",
      "\n",
      " [[  1.00000000e+00   4.26325641e-14   8.52651283e-14]\n",
      " [ -2.84217094e-14   1.00000000e+00   0.00000000e+00]\n",
      " [  2.84217094e-14  -2.84217094e-14   1.00000000e+00]]\n",
      "\n",
      " [[  5.68434189e-14   4.26325641e-14   8.52651283e-14]\n",
      " [ -2.84217094e-14  -2.84217094e-14   0.00000000e+00]\n",
      " [  2.84217094e-14  -2.84217094e-14   0.00000000e+00]]\n",
      "[[ 1.001  3.     5.   ]\n",
      " [ 3.     5.001  7.   ]\n",
      " [ 5.     7.     9.001]]\n",
      "rank= 3\n",
      "\n",
      " [[  1.00000000e+00   4.54747351e-13   9.09494702e-13]\n",
      " [ -4.54747351e-13   1.00000000e+00  -9.09494702e-13]\n",
      " [  3.41060513e-13   2.27373675e-13   1.00000000e+00]]\n",
      "\n",
      " [[  6.82121026e-13   4.54747351e-13   9.09494702e-13]\n",
      " [ -4.54747351e-13  -4.54747351e-13  -9.09494702e-13]\n",
      " [  3.41060513e-13   2.27373675e-13   4.54747351e-13]]\n",
      "[[ 1.0001  3.      5.    ]\n",
      " [ 3.      5.0001  7.    ]\n",
      " [ 5.      7.      9.0001]]\n",
      "rank= 3\n",
      "\n",
      " [[  1.00000000e+00   1.81898940e-12   7.27595761e-12]\n",
      " [  0.00000000e+00   1.00000000e+00  -3.63797881e-12]\n",
      " [  0.00000000e+00  -3.63797881e-12   1.00000000e+00]]\n",
      "\n",
      " [[  3.63797881e-12   1.81898940e-12   7.27595761e-12]\n",
      " [  0.00000000e+00   7.27595761e-12  -3.63797881e-12]\n",
      " [  0.00000000e+00  -3.63797881e-12   0.00000000e+00]]\n",
      "[[ 1.00001  3.       5.     ]\n",
      " [ 3.       5.00001  7.     ]\n",
      " [ 5.       7.       9.00001]]\n",
      "rank= 3\n",
      "\n",
      " [[  1.00000000e+00  -2.91038305e-11   0.00000000e+00]\n",
      " [  0.00000000e+00   1.00000000e+00   5.82076609e-11]\n",
      " [  2.91038305e-11  -1.45519152e-11   1.00000000e+00]]\n",
      "\n",
      " [[ -1.45519152e-11  -2.91038305e-11   0.00000000e+00]\n",
      " [  0.00000000e+00   0.00000000e+00   5.82076609e-11]\n",
      " [  2.91038305e-11  -1.45519152e-11   2.91038305e-11]]\n"
     ]
    }
   ],
   "source": [
    "n=0.1\n",
    "for i in range(5):\n",
    "    b = a + n*np.eye(3)\n",
    "    print(b)\n",
    "    print(\"rank=\", np.linalg.matrix_rank(b))\n",
    "    b1 = np.linalg.inv(b)\n",
    "    print(\"\\n\", b1@b)\n",
    "    print('\\n', b1@b - np.eye(3))\n",
    "    n/=10\n",
    "    "
   ]
  },
  {
   "cell_type": "markdown",
   "metadata": {
    "ein.tags": "worksheet-0",
    "slideshow": {
     "slide_type": "-"
    }
   },
   "source": [
    "## Eigenvalues"
   ]
  },
  {
   "cell_type": "code",
   "execution_count": 7,
   "metadata": {
    "autoscroll": false,
    "ein.tags": "worksheet-0",
    "slideshow": {
     "slide_type": "-"
    }
   },
   "outputs": [
    {
     "name": "stdout",
     "output_type": "stream",
     "text": [
      "[[1 2 3]\n",
      " [4 5 6]\n",
      " [7 8 9]]\n",
      "\n",
      "eigenvalues\n",
      " (array([  1.61168440e+01,  -1.11684397e+00,  -1.30367773e-15]), matrix([[-0.23197069, -0.78583024,  0.40824829],\n",
      "        [-0.52532209, -0.08675134, -0.81649658],\n",
      "        [-0.8186735 ,  0.61232756,  0.40824829]]))\n",
      "\n",
      "eigenvalues\n",
      " [  1.61168440e+01  -1.11684397e+00  -1.30367773e-15]\n",
      "\n",
      "condition number 3.81314706063e+16\n",
      "\n",
      "eigenvectors\n",
      " [[-0.23197069 -0.78583024  0.40824829]\n",
      " [-0.52532209 -0.08675134 -0.81649658]\n",
      " [-0.8186735   0.61232756  0.40824829]]\n"
     ]
    }
   ],
   "source": [
    "a = np.matrix(np.arange(1,10).reshape(3,3))\n",
    "print(a)\n",
    "ev = np.linalg.eig(a)\n",
    "print('\\neigenvalues\\n', ev)\n",
    "val, vec = np.linalg.eig(a)\n",
    "print('\\neigenvalues\\n', val)\n",
    "print('\\ncondition number', np.linalg.cond(a))\n",
    "print('\\neigenvectors\\n', vec)"
   ]
  },
  {
   "cell_type": "markdown",
   "metadata": {
    "ein.tags": "worksheet-0",
    "slideshow": {
     "slide_type": "-"
    }
   },
   "source": [
    "## diagonalization"
   ]
  },
  {
   "cell_type": "code",
   "execution_count": 8,
   "metadata": {
    "autoscroll": false,
    "ein.tags": "worksheet-0",
    "slideshow": {
     "slide_type": "-"
    }
   },
   "outputs": [
    {
     "name": "stdout",
     "output_type": "stream",
     "text": [
      "[[ 1.  3.  5.]\n",
      " [ 3.  5.  7.]\n",
      " [ 5.  7.  9.]]\n",
      "\n",
      "eigenvalues\n",
      " [  1.64582364e+01  -1.45823643e+00   1.62591776e-16]\n",
      "\n",
      "eigenvectors\n",
      " [[-0.35162514 -0.84243284  0.40824829]\n",
      " [-0.55335618 -0.1647127  -0.81649658]\n",
      " [-0.75508721  0.51300744  0.40824829]]\n",
      "C\n",
      " [[-0.35162514 -0.84243284  0.40824829]\n",
      " [-0.55335618 -0.1647127  -0.81649658]\n",
      " [-0.75508721  0.51300744  0.40824829]]\n",
      "\n",
      "C inverse\n",
      " [[-0.35162514 -0.55335618 -0.75508721]\n",
      " [-0.84243284 -0.1647127   0.51300744]\n",
      " [ 0.40824829 -0.81649658  0.40824829]]\n",
      "\n",
      "diagonal form\n",
      " [[ 1.  3.  5.]\n",
      " [ 3.  5.  7.]\n",
      " [ 5.  7.  9.]]\n"
     ]
    }
   ],
   "source": [
    "a = np.matrix(np.arange(1,10).reshape(3,3))\n",
    "a = 0.5*(a + a.T)\n",
    "print(a)\n",
    "val, vec = np.linalg.eig(a)\n",
    "print('\\neigenvalues\\n', val)\n",
    "print('\\neigenvectors\\n', vec)\n",
    "L = np.diag(val)\n",
    "C = vec\n",
    "print('C\\n', C)\n",
    "C1 = np.linalg.inv(C)\n",
    "print('\\nC inverse\\n', C1)\n",
    "print('\\ndiagonal form\\n', C @ L @ C1)"
   ]
  },
  {
   "cell_type": "code",
   "execution_count": null,
   "metadata": {
    "autoscroll": false,
    "ein.tags": "worksheet-0",
    "slideshow": {
     "slide_type": "-"
    }
   },
   "outputs": [],
   "source": []
  }
 ],
 "metadata": {
  "kernelspec": {
   "display_name": "Python 3",
   "language": "python",
   "name": "python3"
  },
  "language_info": {
   "codemirror_mode": {
    "name": "ipython",
    "version": 3
   },
   "file_extension": ".py",
   "mimetype": "text/x-python",
   "name": "python",
   "nbconvert_exporter": "python",
   "pygments_lexer": "ipython3",
   "version": "3.6.2"
  },
  "name": "matrices2.ipynb"
 },
 "nbformat": 4,
 "nbformat_minor": 2
}
