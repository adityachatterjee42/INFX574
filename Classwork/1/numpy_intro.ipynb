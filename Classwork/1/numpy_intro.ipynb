{
 "cells": [
  {
   "cell_type": "markdown",
   "metadata": {
    "ein.tags": "worksheet-0",
    "slideshow": {
     "slide_type": "-"
    }
   },
   "source": [
    "# Numpy\n",
    "\n",
    "Numpy is the primary way in python to handle matrices/vectors"
   ]
  },
  {
   "cell_type": "code",
   "execution_count": 6,
   "metadata": {
    "autoscroll": false,
    "ein.tags": "worksheet-0",
    "scrolled": true,
    "slideshow": {
     "slide_type": "-"
    }
   },
   "outputs": [
    {
     "name": "stdout",
     "output_type": "stream",
     "text": [
      "1.13.1\n"
     ]
    }
   ],
   "source": [
    "import numpy as np\n",
    "print(np.__version__)"
   ]
  },
  {
   "cell_type": "markdown",
   "metadata": {
    "ein.tags": "worksheet-0",
    "slideshow": {
     "slide_type": "-"
    }
   },
   "source": [
    "## Array: the fundamental building block"
   ]
  },
  {
   "cell_type": "markdown",
   "metadata": {
    "ein.tags": "worksheet-0",
    "slideshow": {
     "slide_type": "-"
    }
   },
   "source": [
    "### Creating arrays"
   ]
  },
  {
   "cell_type": "code",
   "execution_count": 7,
   "metadata": {
    "autoscroll": false,
    "ein.tags": "worksheet-0",
    "slideshow": {
     "slide_type": "-"
    }
   },
   "outputs": [
    {
     "name": "stdout",
     "output_type": "stream",
     "text": [
      "a:\n",
      " [1 2 3 4]\n",
      "b:\n",
      " [[1 2]\n",
      " [3 4]]\n"
     ]
    }
   ],
   "source": [
    "a = np.array([1,2,3,4])\n",
    "print(\"a:\\n\", a)\n",
    "b = np.array([[1,2], [3,4]])\n",
    "print(\"b:\\n\", b)"
   ]
  },
  {
   "cell_type": "code",
   "execution_count": 8,
   "metadata": {
    "autoscroll": false,
    "ein.tags": "worksheet-0",
    "slideshow": {
     "slide_type": "-"
    }
   },
   "outputs": [
    {
     "name": "stdout",
     "output_type": "stream",
     "text": [
      "(4,)\n",
      "(2, 2)\n"
     ]
    }
   ],
   "source": [
    "## Shape: the form of the array\n",
    "print(a.shape)\n",
    "print(b.shape)"
   ]
  },
  {
   "cell_type": "code",
   "execution_count": 26,
   "metadata": {
    "autoscroll": false,
    "ein.tags": "worksheet-0",
    "slideshow": {
     "slide_type": "-"
    }
   },
   "outputs": [
    {
     "name": "stdout",
     "output_type": "stream",
     "text": [
      "arange:\n",
      " [0 1 2 3 4 5 6 7 8 9]\n",
      "zeros:\n",
      " [[ 0.  0.  0.  0.  0.]\n",
      " [ 0.  0.  0.  0.  0.]]\n",
      "ones:\n",
      " [[ 1.  1.  1.  1.]\n",
      " [ 1.  1.  1.  1.]\n",
      " [ 1.  1.  1.  1.]]\n",
      "empty:\n",
      " [[  6.23042070e-307   4.67296746e-307   1.69121096e-306   1.11260483e-306\n",
      "    4.45055939e-308   1.78019082e-306   1.15711582e-306   1.89146896e-307]\n",
      " [  7.56571288e-307   3.11525958e-307   1.24610723e-306   1.37962320e-306\n",
      "    1.29060871e-306   2.22518251e-306   1.33511969e-306   1.78022342e-306]\n",
      " [  1.05700345e-307   1.00132653e-307   8.01097889e-307   1.11261162e-306\n",
      "    1.69119330e-306   1.86921822e-306   8.34445562e-308   8.40980320e-172]]\n",
      "reshape:\n",
      " [[ 0  1  2  3]\n",
      " [ 4  5  6  7]\n",
      " [ 8  9 10 11]] \n",
      "\n",
      "random numbers:\n",
      " [[-0.03438542  0.45377206 -1.64350255 -1.49869883 -0.0299863 ]\n",
      " [ 0.55176629  2.03829425 -1.15029506 -1.48262065 -0.00743921]\n",
      " [-0.18829981 -0.31552537  0.33042545  0.08393378 -0.75343526]\n",
      " [-1.63716373  0.09183104 -1.59427583  0.69402358 -0.08447603]] \n",
      "\n",
      "[[ 2  4  6  8 10]\n",
      " [12 14 16 18 20]\n",
      " [22 24 26 28 30]\n",
      " [32 34 36 38 40]]\n"
     ]
    }
   ],
   "source": [
    "## create various arrays\n",
    "print(\"arange:\\n\", np.arange(10))\n",
    "# like range, but gives an array\n",
    "print(\"zeros:\\n\", np.zeros((2,5)) )\n",
    "print(\"ones:\\n\", np.ones_like((b)) )\n",
    "print(\"empty:\\n\", np.empty((3,8)) )\n",
    "print(\"reshape:\\n\", np.arange(12).reshape((3,4)), \"\\n\")\n",
    "print(\"random numbers:\\n\", np.random.randn(4,5) ,'\\n')"
   ]
  },
  {
   "cell_type": "code",
   "execution_count": 10,
   "metadata": {
    "autoscroll": false,
    "ein.tags": "worksheet-0",
    "slideshow": {
     "slide_type": "-"
    }
   },
   "outputs": [
    {
     "name": "stdout",
     "output_type": "stream",
     "text": [
      "int32\n",
      "[1 2]\n",
      "int64\n",
      "[ True False  True]\n",
      "[ 1.  0.  1.]\n"
     ]
    }
   ],
   "source": [
    "## data types\n",
    "print(a.dtype)\n",
    "c = np.array([1,2], dtype='int64')\n",
    "print(c)\n",
    "print(c.dtype)\n",
    "## converting data types\n",
    "d = np.array([True,False,True])\n",
    "print(d)\n",
    "print(d.astype('float'))\n",
    "# can also convert strings"
   ]
  },
  {
   "cell_type": "code",
   "execution_count": 11,
   "metadata": {
    "autoscroll": false,
    "ein.tags": "worksheet-0",
    "slideshow": {
     "slide_type": "-"
    }
   },
   "outputs": [
    {
     "name": "stdout",
     "output_type": "stream",
     "text": [
      "[ 3  5  7  9 11 13 15 17 19 21 23 25 27 29 31 33 35 37 39 41] \n",
      "\n",
      "[[         4         16         64        256       1024]\n",
      " [      4096      16384      65536     262144    1048576]\n",
      " [   4194304   16777216   67108864  268435456 1073741824]\n",
      " [         0          0          0          0          0]] \n",
      "\n"
     ]
    }
   ],
   "source": [
    "## math with arrays\n",
    "print(1 + a, \"\\n\")\n",
    "print(2**b, \"\\n\")"
   ]
  },
  {
   "cell_type": "markdown",
   "metadata": {
    "ein.tags": "worksheet-0",
    "slideshow": {
     "slide_type": "-"
    }
   },
   "source": [
    "### Array Indexing and Slicing"
   ]
  },
  {
   "cell_type": "code",
   "execution_count": 12,
   "metadata": {
    "autoscroll": false,
    "ein.tags": "worksheet-0",
    "slideshow": {
     "slide_type": "-"
    }
   },
   "outputs": [
    {
     "name": "stdout",
     "output_type": "stream",
     "text": [
      "[11 10  9  8  7  6  5  4  3  2  1  0]\n",
      "[ 0  1  2  3  4 -1 -1 -1 -1 -1 -1 11]\n"
     ]
    }
   ],
   "source": [
    "## 1d arrays indexed like lists:\n",
    "a = np.arange(12)\n",
    "print(a[::-1])\n",
    "b = a\n",
    "a[5:11] = -1\n",
    "print(b)"
   ]
  },
  {
   "cell_type": "code",
   "execution_count": 13,
   "metadata": {
    "autoscroll": false,
    "ein.tags": "worksheet-0",
    "slideshow": {
     "slide_type": "-"
    }
   },
   "outputs": [
    {
     "name": "stdout",
     "output_type": "stream",
     "text": [
      "c:\n",
      " [[ 0  1  2  3]\n",
      " [ 4  5  6  7]\n",
      " [ 8  9 10 11]] \n",
      "\n",
      "2nd row:\n",
      " [4 5 6 7] \n",
      "\n",
      "3rd column:\n",
      " [ 2  6 10] \n",
      "\n",
      "2nd row, 3rd column:\n",
      " 6 \n",
      " 6 \n",
      "\n"
     ]
    }
   ],
   "source": [
    "## 2D arrays may need two indices:\n",
    "c = np.arange(12).reshape((3,4))\n",
    "print(\"c:\\n\", c, \"\\n\")\n",
    "print(\"2nd row:\\n\", c[1], \"\\n\")\n",
    "print(\"3rd column:\\n\", c[:,2], \"\\n\")\n",
    "print(\"2nd row, 3rd column:\\n\", c[1,2], '\\n', c[1][2], '\\n')"
   ]
  },
  {
   "cell_type": "code",
   "execution_count": 14,
   "metadata": {
    "autoscroll": false,
    "ein.tags": "worksheet-0",
    "slideshow": {
     "slide_type": "-"
    }
   },
   "outputs": [
    {
     "name": "stdout",
     "output_type": "stream",
     "text": [
      "rows 1,2:\n",
      " [[0 1 2 3]\n",
      " [4 5 6 7]] \n",
      "\n",
      "rows 1,2, cols 1,2,3:\n",
      " [[0 1 2]\n",
      " [4 5 6]] \n",
      "\n"
     ]
    }
   ],
   "source": [
    "## 2d Slicing:\n",
    "print(\"rows 1,2:\\n\", c[:2], '\\n')\n",
    "print(\"rows 1,2, cols 1,2,3:\\n\", c[:2, :3], '\\n')"
   ]
  },
  {
   "cell_type": "markdown",
   "metadata": {
    "ein.tags": "worksheet-0",
    "slideshow": {
     "slide_type": "-"
    }
   },
   "source": [
    "Exercise:\n",
    "* create a 4x5 array of even numbers: 2, 4, 6, ...\n",
    "* extract third column\n",
    "* set the fourth row to 1,2,3,4,5\n"
   ]
  },
  {
   "cell_type": "code",
   "execution_count": 15,
   "metadata": {
    "autoscroll": false,
    "ein.tags": "worksheet-0",
    "slideshow": {
     "slide_type": "-"
    }
   },
   "outputs": [
    {
     "name": "stdout",
     "output_type": "stream",
     "text": [
      "[ 6 16 26 36] \n",
      "\n"
     ]
    },
    {
     "data": {
      "text/plain": [
       "array([[ 2,  4,  6,  8, 10],\n",
       "       [12, 14, 16, 18, 20],\n",
       "       [22, 24, 26, 28, 30],\n",
       "       [ 1,  2,  3,  4,  5]])"
      ]
     },
     "execution_count": 15,
     "metadata": {},
     "output_type": "execute_result"
    }
   ],
   "source": [
    "a = np.arange(2,42,2).reshape(4,5)\n",
    "print(a[:,2], '\\n')\n",
    "a[3] = 1 + np.arange(5)\n",
    "a"
   ]
  },
  {
   "cell_type": "code",
   "execution_count": 16,
   "metadata": {
    "autoscroll": false,
    "ein.tags": "worksheet-0",
    "slideshow": {
     "slide_type": "-"
    }
   },
   "outputs": [],
   "source": [
    "## do it here"
   ]
  },
  {
   "cell_type": "code",
   "execution_count": 17,
   "metadata": {
    "autoscroll": false,
    "ein.tags": "worksheet-0",
    "slideshow": {
     "slide_type": "-"
    }
   },
   "outputs": [
    {
     "name": "stdout",
     "output_type": "stream",
     "text": [
      "[[ 0.72539081 -0.16371082  0.52372231]\n",
      " [-0.34860132 -2.66543117  1.64613218]\n",
      " [ 0.36099108 -0.30632909 -0.74009159]\n",
      " [-1.505386   -2.0439286  -1.68127669]] \n",
      "\n",
      "[[ 0. -1.  0.]\n",
      " [-1. -1.  0.]\n",
      " [ 0. -1. -1.]\n",
      " [-1. -1. -1.]] \n",
      "\n"
     ]
    }
   ],
   "source": [
    "## Boolean indexing\n",
    "a = np.random.randn(4,3)\n",
    "print(a, '\\n')\n",
    "b = np.zeros_like(a)\n",
    "b[a < 0] = -1\n",
    "print(b, '\\n')"
   ]
  },
  {
   "cell_type": "markdown",
   "metadata": {
    "ein.tags": "worksheet-0",
    "slideshow": {
     "slide_type": "-"
    }
   },
   "source": [
    "## Universal Functions  (ufuncs)\n",
    "\n",
    "Vectorized arithmetic/logic on arrays"
   ]
  },
  {
   "cell_type": "code",
   "execution_count": 18,
   "metadata": {
    "autoscroll": false,
    "ein.tags": "worksheet-0",
    "slideshow": {
     "slide_type": "-"
    }
   },
   "outputs": [
    {
     "name": "stdout",
     "output_type": "stream",
     "text": [
      "sqrt:\n",
      " [[ 0.          1.          1.41421356  1.73205081]\n",
      " [ 2.          2.23606798  2.44948974  2.64575131]\n",
      " [ 2.82842712  3.          3.16227766  3.31662479]] \n",
      "\n",
      "squares:\n",
      " [[  0   1   4   9]\n",
      " [ 16  25  36  49]\n",
      " [ 64  81 100 121]] \n",
      "\n",
      "[[11 10  9  8]\n",
      " [ 7  6  5  4]\n",
      " [ 3  2  1  0]]\n",
      "powers:\n",
      " [[    0     1   512  6561]\n",
      " [16384 15625  7776  2401]\n",
      " [  512    81    10     1]] \n",
      "\n",
      "> [[False False False False]\n",
      " [False False  True  True]\n",
      " [ True  True  True  True]] \n",
      "\n"
     ]
    }
   ],
   "source": [
    "a = np.arange(12).reshape((3,4))\n",
    "print(\"sqrt:\\n\", np.sqrt(a), '\\n')\n",
    "print(\"squares:\\n\", a**2, '\\n')\n",
    "b = np.arange(12)[::-1].reshape((3,4))\n",
    "print(b)\n",
    "print(\"powers:\\n\", np.power(a,b), '\\n')\n",
    "print(\">\", np.greater(a, b), '\\n')\n"
   ]
  },
  {
   "cell_type": "code",
   "execution_count": 19,
   "metadata": {
    "autoscroll": false,
    "ein.tags": "worksheet-0",
    "slideshow": {
     "slide_type": "-"
    }
   },
   "outputs": [
    {
     "data": {
      "text/plain": [
       "array([['even', 'odd', 'even', 'odd'],\n",
       "       ['even', 'odd', 'even', 'odd'],\n",
       "       ['even', 'odd', 'even', 'odd']],\n",
       "      dtype='<U4')"
      ]
     },
     "execution_count": 19,
     "metadata": {},
     "output_type": "execute_result"
    }
   ],
   "source": [
    "## Computing\n",
    "a = np.arange(12).reshape((3,4))\n",
    "np.where(a % 2 == 0, \"even\", \"odd\")"
   ]
  },
  {
   "cell_type": "code",
   "execution_count": 20,
   "metadata": {
    "autoscroll": false,
    "ein.tags": "worksheet-0",
    "slideshow": {
     "slide_type": "-"
    }
   },
   "outputs": [
    {
     "name": "stdout",
     "output_type": "stream",
     "text": [
      "[[ 0.90915145  0.57652388  0.41414415  0.51663805]\n",
      " [ 0.7341355   0.35387746  0.3174203   0.70564378]\n",
      " [ 0.54396972  0.07918332  0.86582818  0.5875621 ]] \n",
      "\n"
     ]
    },
    {
     "data": {
      "text/plain": [
       "array([[ 1.        ,  1.        ,  0.41414415,  1.        ],\n",
       "       [ 1.        ,  0.35387746,  0.3174203 ,  1.        ],\n",
       "       [ 1.        ,  0.07918332,  1.        ,  1.        ]])"
      ]
     },
     "execution_count": 20,
     "metadata": {},
     "output_type": "execute_result"
    }
   ],
   "source": [
    "b = np.random.uniform(size = (3,4))\n",
    "print(b, '\\n')\n",
    "np.where(b > 0.5, 1, b)"
   ]
  },
  {
   "cell_type": "code",
   "execution_count": 21,
   "metadata": {
    "autoscroll": false,
    "ein.tags": "worksheet-0",
    "slideshow": {
     "slide_type": "-"
    }
   },
   "outputs": [
    {
     "data": {
      "text/plain": [
       "0.55033982434624706"
      ]
     },
     "execution_count": 21,
     "metadata": {},
     "output_type": "execute_result"
    }
   ],
   "source": [
    "## Stats\n",
    "b.mean()"
   ]
  },
  {
   "cell_type": "code",
   "execution_count": 22,
   "metadata": {
    "autoscroll": false,
    "ein.tags": "worksheet-0",
    "slideshow": {
     "slide_type": "-"
    }
   },
   "outputs": [
    {
     "data": {
      "text/plain": [
       "array([ 2.41645752,  2.11107704,  2.07654333])"
      ]
     },
     "execution_count": 22,
     "metadata": {},
     "output_type": "execute_result"
    }
   ],
   "source": [
    "## do this row-wise\n",
    "## Note: axis 1 is columns.  sum(axis=1) means sum by columns, retain rows\n",
    "b.sum(axis=1)"
   ]
  },
  {
   "cell_type": "code",
   "execution_count": 23,
   "metadata": {
    "autoscroll": false,
    "ein.tags": "worksheet-0",
    "slideshow": {
     "slide_type": "-"
    }
   },
   "outputs": [
    {
     "data": {
      "text/plain": [
       "9"
      ]
     },
     "execution_count": 23,
     "metadata": {},
     "output_type": "execute_result"
    }
   ],
   "source": [
    "b.argmin()"
   ]
  },
  {
   "cell_type": "code",
   "execution_count": 24,
   "metadata": {
    "autoscroll": false,
    "ein.tags": "worksheet-0",
    "slideshow": {
     "slide_type": "-"
    }
   },
   "outputs": [
    {
     "data": {
      "text/plain": [
       "array([2, 2, 1, 0], dtype=int32)"
      ]
     },
     "execution_count": 24,
     "metadata": {},
     "output_type": "execute_result"
    }
   ],
   "source": [
    "b.argmin(axis=0)"
   ]
  },
  {
   "cell_type": "code",
   "execution_count": 25,
   "metadata": {
    "autoscroll": false,
    "ein.tags": "worksheet-0",
    "slideshow": {
     "slide_type": "-"
    }
   },
   "outputs": [
    {
     "name": "stdout",
     "output_type": "stream",
     "text": [
      "[ 0.90284973  0.51104265  0.0861187   0.88105285  0.59742217  0.00611501\n",
      "  0.28785226  0.77464185  0.79033062  0.96371662] \n",
      "\n",
      "[ 0.00611501  0.0861187   0.28785226  0.51104265  0.59742217  0.77464185\n",
      "  0.79033062  0.88105285  0.90284973  0.96371662]\n"
     ]
    }
   ],
   "source": [
    "## sorting\n",
    "a = np.random.uniform(size=10)\n",
    "print(a, '\\n')\n",
    "a.sort()  # in-place sorting\n",
    "print(a)"
   ]
  },
  {
   "cell_type": "code",
   "execution_count": 30,
   "metadata": {
    "autoscroll": false,
    "ein.tags": "worksheet-0",
    "slideshow": {
     "slide_type": "-"
    }
   },
   "outputs": [
    {
     "name": "stdout",
     "output_type": "stream",
     "text": [
      "[[ 2  4  6  8 10]\n",
      " [12 14 16 18 20]\n",
      " [22 24 26 28 30]\n",
      " [32 34 36 38 40]]\n",
      "[ 6 16 26 36]\n",
      "[[ 2  4  6  8 10]\n",
      " [12 14 16 18 20]\n",
      " [22 24 26 28 30]\n",
      " [ 1  2  3  4  5]]\n"
     ]
    }
   ],
   "source": [
    "ar=[2*i for i in range(1,21)]\n",
    "a=np.array(ar)\n",
    "b=np.reshape(a, (4,5))\n",
    "print(b)\n",
    "print(b[:,2])\n",
    "b[3]=range(1,6)\n",
    "print(b)"
   ]
  },
  {
   "cell_type": "code",
   "execution_count": null,
   "metadata": {},
   "outputs": [],
   "source": []
  }
 ],
 "metadata": {
  "kernelspec": {
   "display_name": "Python 3",
   "language": "python",
   "name": "python3"
  },
  "language_info": {
   "codemirror_mode": {
    "name": "ipython",
    "version": 3
   },
   "file_extension": ".py",
   "mimetype": "text/x-python",
   "name": "python",
   "nbconvert_exporter": "python",
   "pygments_lexer": "ipython3",
   "version": "3.6.2"
  },
  "name": "numpy_intro.ipynb"
 },
 "nbformat": 4,
 "nbformat_minor": 2
}
